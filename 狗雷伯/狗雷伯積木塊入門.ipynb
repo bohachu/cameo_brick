{
  "nbformat": 4,
  "nbformat_minor": 0,
  "metadata": {
    "colab": {
      "name": "狗雷伯積木塊入門.ipynb",
      "provenance": [],
      "collapsed_sections": [],
      "authorship_tag": "ABX9TyOm9WTzGWvWn+WlpYxgzBa+",
      "include_colab_link": true
    },
    "kernelspec": {
      "name": "python3",
      "display_name": "Python 3"
    }
  },
  "cells": [
    {
      "cell_type": "markdown",
      "metadata": {
        "id": "view-in-github",
        "colab_type": "text"
      },
      "source": [
        "<a href=\"https://colab.research.google.com/github/bohachu/cameo_brick/blob/master/%E7%8B%97%E9%9B%B7%E4%BC%AF/%E7%8B%97%E9%9B%B7%E4%BC%AF%E7%A9%8D%E6%9C%A8%E5%A1%8A%E5%85%A5%E9%96%80.ipynb\" target=\"_parent\"><img src=\"https://colab.research.google.com/assets/colab-badge.svg\" alt=\"Open In Colab\"/></a>"
      ]
    },
    {
      "cell_type": "code",
      "metadata": {
        "id": "PvV5jeGXAtVm",
        "colab_type": "code",
        "outputId": "4651b0cc-3500-4a35-e6e8-8c079044b31f",
        "colab": {
          "base_uri": "https://localhost:8080/",
          "height": 136
        }
      },
      "source": [
        "#如何在github抓取已經寫好的python模組來運用在🐶雷伯\n",
        "from os.path import exists\n",
        "if not exists(\"cameo_brick\"):\n",
        "    !git clone https://github.com/bohachu/cameo_brick.git\n",
        "from cameo_brick.狗雷伯.零零一狗雷伯呼叫github import 呼叫github\n",
        "呼叫github(\"我是一條🐲\")\n"
      ],
      "execution_count": 1,
      "outputs": [
        {
          "output_type": "stream",
          "text": [
            "Cloning into 'cameo_brick'...\n",
            "remote: Enumerating objects: 60, done.\u001b[K\n",
            "remote: Counting objects: 100% (60/60), done.\u001b[K\n",
            "remote: Compressing objects: 100% (48/48), done.\u001b[K\n",
            "remote: Total 60 (delta 21), reused 38 (delta 7), pack-reused 0\u001b[K\n",
            "Unpacking objects: 100% (60/60), done.\n"
          ],
          "name": "stdout"
        },
        {
          "output_type": "execute_result",
          "data": {
            "text/plain": [
              "'🐶雷伯已經聽到來自 我是一條🐲 的呼喚'"
            ]
          },
          "metadata": {
            "tags": []
          },
          "execution_count": 1
        }
      ]
    },
    {
      "cell_type": "code",
      "metadata": {
        "id": "yCcy3Dx_UIB3",
        "colab_type": "code",
        "colab": {}
      },
      "source": [
        ""
      ],
      "execution_count": 0,
      "outputs": []
    }
  ]
}