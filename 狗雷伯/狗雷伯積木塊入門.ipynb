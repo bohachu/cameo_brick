
<!DOCTYPE html>
<html lang="en">
  <head>
  <meta charset="utf-8">
  <meta content="width=300, initial-scale=1" name="viewport">
  <meta name="description" content="Google Drive is a free way to keep your files backed up and easy to reach from any phone, tablet, or computer. Start with 15GB of Google storage – free.">
  <meta name="google-site-verification" content="LrdTUW9psUAMbh4Ia074-BPEVmcpBxF6Gwf0MSgQXZs">
  <title>Meet Google Drive – One place for all your files</title>
  <style>
  @font-face {
  font-family: 'Open Sans';
  font-style: normal;
  font-weight: 300;
  src: local('Open Sans Light'), local('OpenSans-Light'), url(//fonts.gstatic.com/s/opensans/v15/mem5YaGs126MiZpBA-UN_r8OUuhs.ttf) format('truetype');
}
@font-face {
  font-family: 'Open Sans';
  font-style: normal;
  font-weight: 400;
  src: local('Open Sans'), local('OpenSans'), url(//fonts.gstatic.com/s/opensans/v15/mem8YaGs126MiZpBA-UFVZ0e.ttf) format('truetype');
}
  </style>
  <style>
  h1, h2 {
  -webkit-animation-duration: 0.1s;
  -webkit-animation-name: fontfix;
  -webkit-animation-iteration-count: 1;
  -webkit-animation-timing-function: linear;
  -webkit-animation-delay: 0;
  }
  @-webkit-keyframes fontfix {
  from {
  opacity: 1;
  }
  to {
  opacity: 1;
  }
  }
  </style>
<style>
  html, body {
  font-family: Arial, sans-serif;
  background: #fff;
  margin: 0;
  padding: 0;
  border: 0;
  position: absolute;
  height: 100%;
  min-width: 100%;
  font-size: 13px;
  color: #404040;
  direction: ltr;
  -webkit-text-size-adjust: none;
  }
  button,
  input[type=button],
  input[type=submit] {
  font-family: Arial, sans-serif;
  font-size: 13px;
  }
  a,
  a:hover,
  a:visited {
  color: #427fed;
  cursor: pointer;
  text-decoration: none;
  }
  a:hover {
  text-decoration: underline;
  }
  h1 {
  font-size: 20px;
  color: #262626;
  margin: 0 0 15px;
  font-weight: normal;
  }
  h2 {
  font-size: 14px;
  color: #262626;
  margin: 0 0 15px;
  font-weight: bold;
  }
  input[type=email],
  input[type=number],
  input[type=password],
  input[type=tel],
  input[type=text],
  input[type=url] {
  -moz-appearance: none;
  -webkit-appearance: none;
  appearance: none;
  display: inline-block;
  height: 36px;
  padding: 0 8px;
  margin: 0;
  background: #fff;
  border: 1px solid #d9d9d9;
  border-top: 1px solid #c0c0c0;
  -moz-box-sizing: border-box;
  -webkit-box-sizing: border-box;
  box-sizing: border-box;
  -moz-border-radius: 1px;
  -webkit-border-radius: 1px;
  border-radius: 1px;
  font-size: 15px;
  color: #404040;
  }
  input[type=email]:hover,
  input[type=number]:hover,
  input[type=password]:hover,
  input[type=tel]:hover,
  input[type=text]:hover,
  input[type=url]:hover {
  border: 1px solid #b9b9b9;
  border-top: 1px solid #a0a0a0;
  -moz-box-shadow: inset 0 1px 2px rgba(0,0,0,0.1);
  -webkit-box-shadow: inset 0 1px 2px rgba(0,0,0,0.1);
  box-shadow: inset 0 1px 2px rgba(0,0,0,0.1);
  }
  input[type=email]:focus,
  input[type=number]:focus,
  input[type=password]:focus,
  input[type=tel]:focus,
  input[type=text]:focus,
  input[type=url]:focus {
  outline: none;
  border: 1px solid #4d90fe;
  -moz-box-shadow: inset 0 1px 2px rgba(0,0,0,0.3);
  -webkit-box-shadow: inset 0 1px 2px rgba(0,0,0,0.3);
  box-shadow: inset 0 1px 2px rgba(0,0,0,0.3);
  }
  input[type=checkbox],
  input[type=radio] {
  -webkit-appearance: none;
  display: inline-block;
  width: 13px;
  height: 13px;
  margin: 0;
  cursor: pointer;
  vertical-align: bottom;
  background: #fff;
  border: 1px solid #c6c6c6;
  -moz-border-radius: 1px;
  -webkit-border-radius: 1px;
  border-radius: 1px;
  -moz-box-sizing: border-box;
  -webkit-box-sizing: border-box;
  box-sizing: border-box;
  position: relative;
  }
  input[type=checkbox]:active,
  input[type=radio]:active {
  background: #ebebeb;
  }
  input[type=checkbox]:hover {
  border-color: #c6c6c6;
  -moz-box-shadow: inset 0 1px 2px rgba(0,0,0,0.1);
  -webkit-box-shadow: inset 0 1px 2px rgba(0,0,0,0.1);
  box-shadow: inset 0 1px 2px rgba(0,0,0,0.1);
  }
  input[type=radio] {
  -moz-border-radius: 1em;
  -webkit-border-radius: 1em;
  border-radius: 1em;
  width: 15px;
  height: 15px;
  }
  input[type=checkbox]:checked,
  input[type=radio]:checked {
  background: #fff;
  }
  input[type=radio]:checked::after {
  content: '';
  display: block;
  position: relative;
  top: 3px;
  left: 3px;
  width: 7px;
  height: 7px;
  background: #666;
  -moz-border-radius: 1em;
  -webkit-border-radius: 1em;
  border-radius: 1em;
  }
  input[type=checkbox]:checked::after {
  content: url(https://ssl.gstatic.com/ui/v1/menu/checkmark.png);
  display: block;
  position: absolute;
  top: -6px;
  left: -5px;
  }
  input[type=checkbox]:focus {
  outline: none;
  border-color: #4d90fe;
  }
  .stacked-label {
  display: block;
  font-weight: bold;
  margin: .5em 0;
  }
  .hidden-label {
  position: absolute !important;
  clip: rect(1px 1px 1px 1px); /* IE6, IE7 */
  clip: rect(1px, 1px, 1px, 1px);
  height: 0px;
  width: 0px;
  overflow: hidden;
  visibility: hidden;
  }
  input[type=checkbox].form-error,
  input[type=email].form-error,
  input[type=number].form-error,
  input[type=password].form-error,
  input[type=text].form-error,
  input[type=tel].form-error,
  input[type=url].form-error {
  border: 1px solid #dd4b39;
  }
  .error-msg {
  margin: .5em 0;
  display: block;
  color: #dd4b39;
  line-height: 17px;
  }
  .help-link {
  background: #dd4b39;
  padding: 0 5px;
  color: #fff;
  font-weight: bold;
  display: inline-block;
  -moz-border-radius: 1em;
  -webkit-border-radius: 1em;
  border-radius: 1em;
  text-decoration: none;
  position: relative;
  top: 0px;
  }
  .help-link:visited {
  color: #fff;
  }
  .help-link:hover {
  color: #fff;
  background: #c03523;
  text-decoration: none;
  }
  .help-link:active {
  opacity: 1;
  background: #ae2817;
  }
  .wrapper {
  position: relative;
  min-height: 100%;
  }
  .content {
  padding: 0 44px;
  }
  .main {
  padding-bottom: 100px;
  }
  /* For modern browsers */
  .clearfix:before,
  .clearfix:after {
  content: "";
  display: table;
  }
  .clearfix:after {
  clear: both;
  }
  /* For IE 6/7 (trigger hasLayout) */
  .clearfix {
  zoom:1;
  }
  .google-header-bar {
  height: 71px;
  border-bottom: 1px solid #e5e5e5;
  overflow: hidden;
  }
  .header .logo {
  background-image: url(https://ssl.gstatic.com/accounts/ui/logo_1x.png);
  background-size: 116px 38px;
  background-repeat: no-repeat;
  margin: 17px 0 0;
  float: left;
  height: 38px;
  width: 116px;
  }
  .header .logo-w {
  background-image: url(https://ssl.gstatic.com/images/branding/googlelogo/1x/googlelogo_color_112x36dp.png);
  background-size: 112px 36px;
  margin: 21px 0 0;
  }
  .header .secondary-link {
  margin: 28px 0 0;
  float: right;
  }
  .header .secondary-link a {
  font-weight: normal;
  }
  .google-header-bar.centered {
  border: 0;
  height: 108px;
  }
  .google-header-bar.centered .header .logo {
  float: none;
  margin: 40px auto 30px;
  display: block;
  }
  .google-header-bar.centered .header .secondary-link {
  display: none
  }
  .google-footer-bar {
  position: absolute;
  bottom: 0;
  height: 35px;
  width: 100%;
  border-top: 1px solid #e5e5e5;
  overflow: hidden;
  }
  .footer {
  padding-top: 7px;
  font-size: .85em;
  white-space: nowrap;
  line-height: 0;
  }
  .footer ul {
  float: left;
  max-width: 80%;
  min-height: 16px;
  padding: 0;
  }
  .footer ul li {
  color: #737373;
  display: inline;
  padding: 0;
  padding-right: 1.5em;
  }
  .footer a {
  color: #737373;
  }
  .lang-chooser-wrap {
  float: right;
  display: inline;
  }
  .lang-chooser-wrap img {
  vertical-align: top;
  }
  .lang-chooser {
  font-size: 13px;
  height: 24px;
  line-height: 24px;
  }
  .lang-chooser option {
  font-size: 13px;
  line-height: 24px;
  }
  .hidden {
  height: 0px;
  width: 0px;
  overflow: hidden;
  visibility: hidden;
  display: none !important;
  }
  .banner {
  text-align: center;
  }
  .card {
  background-color: #f7f7f7;
  padding: 20px 25px 30px;
  margin: 0 auto 25px;
  width: 304px;
  -moz-border-radius: 2px;
  -webkit-border-radius: 2px;
  border-radius: 2px;
  -moz-box-shadow: 0px 2px 2px rgba(0, 0, 0, 0.3);
  -webkit-box-shadow: 0px 2px 2px rgba(0, 0, 0, 0.3);
  box-shadow: 0px 2px 2px rgba(0, 0, 0, 0.3);
  }
  .card > *:first-child {
  margin-top: 0;
  }
  .rc-button,
  .rc-button:visited {
  display: inline-block;
  min-width: 46px;
  text-align: center;
  color: #444;
  font-size: 14px;
  font-weight: 700;
  height: 36px;
  padding: 0 8px;
  line-height: 36px;
  -moz-border-radius: 3px;
  -webkit-border-radius: 3px;
  border-radius: 3px;
  -o-transition: all 0.218s;
  -moz-transition: all 0.218s;
  -webkit-transition: all 0.218s;
  transition: all 0.218s;
  border: 1px solid #dcdcdc;
  background-color: #f5f5f5;
  background-image: -webkit-linear-gradient(top,#f5f5f5,#f1f1f1);
  background-image: -moz-linear-gradient(top,#f5f5f5,#f1f1f1);
  background-image: -ms-linear-gradient(top,#f5f5f5,#f1f1f1);
  background-image: -o-linear-gradient(top,#f5f5f5,#f1f1f1);
  background-image: linear-gradient(top,#f5f5f5,#f1f1f1);
  -o-transition: none;
  -moz-user-select: none;
  -webkit-user-select: none;
  user-select: none;
  cursor: default;
  }
  .card .rc-button {
  width: 100%;
  padding: 0;
  }
  .rc-button.disabled,
  .rc-button[disabled] {
  opacity: .5;
  filter: alpha(opacity=50);
  cursor: default;
  pointer-events: none;
  }
  .rc-button:hover {
  border: 1px solid #c6c6c6;
  color: #333;
  text-decoration: none;
  -o-transition: all 0.0s;
  -moz-transition: all 0.0s;
  -webkit-transition: all 0.0s;
  transition: all 0.0s;
  background-color: #f8f8f8;
  background-image: -webkit-linear-gradient(top,#f8f8f8,#f1f1f1);
  background-image: -moz-linear-gradient(top,#f8f8f8,#f1f1f1);
  background-image: -ms-linear-gradient(top,#f8f8f8,#f1f1f1);
  background-image: -o-linear-gradient(top,#f8f8f8,#f1f1f1);
  background-image: linear-gradient(top,#f8f8f8,#f1f1f1);
  -moz-box-shadow: 0 1px 1px rgba(0,0,0,0.1);
  -webkit-box-shadow: 0 1px 1px rgba(0,0,0,0.1);
  box-shadow: 0 1px 1px rgba(0,0,0,0.1);
  }
  .rc-button:active {
  background-color: #f6f6f6;
  background-image: -webkit-linear-gradient(top,#f6f6f6,#f1f1f1);
  background-image: -moz-linear-gradient(top,#f6f6f6,#f1f1f1);
  background-image: -ms-linear-gradient(top,#f6f6f6,#f1f1f1);
  background-image: -o-linear-gradient(top,#f6f6f6,#f1f1f1);
  background-image: linear-gradient(top,#f6f6f6,#f1f1f1);
  -moz-box-shadow: 0 1px 2px rgba(0,0,0,0.1);
  -webkit-box-shadow: 0 1px 2px rgba(0,0,0,0.1);
  box-shadow: 0 1px 2px rgba(0,0,0,0.1);
  }
  .rc-button-submit,
  .rc-button-submit:visited {
  border: 1px solid #3079ed;
  color: #fff;
  text-shadow: 0 1px rgba(0,0,0,0.1);
  background-color: #4d90fe;
  background-image: -webkit-linear-gradient(top,#4d90fe,#4787ed);
  background-image: -moz-linear-gradient(top,#4d90fe,#4787ed);
  background-image: -ms-linear-gradient(top,#4d90fe,#4787ed);
  background-image: -o-linear-gradient(top,#4d90fe,#4787ed);
  background-image: linear-gradient(top,#4d90fe,#4787ed);
  }
  .rc-button-submit:hover {
  border: 1px solid #2f5bb7;
  color: #fff;
  text-shadow: 0 1px rgba(0,0,0,0.3);
  background-color: #357ae8;
  background-image: -webkit-linear-gradient(top,#4d90fe,#357ae8);
  background-image: -moz-linear-gradient(top,#4d90fe,#357ae8);
  background-image: -ms-linear-gradient(top,#4d90fe,#357ae8);
  background-image: -o-linear-gradient(top,#4d90fe,#357ae8);
  background-image: linear-gradient(top,#4d90fe,#357ae8);
  }
  .rc-button-submit:active {
  background-color: #357ae8;
  background-image: -webkit-linear-gradient(top,#4d90fe,#357ae8);
  background-image: -moz-linear-gradient(top,#4d90fe,#357ae8);
  background-image: -ms-linear-gradient(top,#4d90fe,#357ae8);
  background-image: -o-linear-gradient(top,#4d90fe,#357ae8);
  background-image: linear-gradient(top,#4d90fe,#357ae8);
  -moz-box-shadow: inset 0 1px 2px rgba(0,0,0,0.3);
  -webkit-box-shadow: inset 0 1px 2px rgba(0,0,0,0.3);
  box-shadow: inset 0 1px 2px rgba(0,0,0,0.3);
  }
  .rc-button-red,
  .rc-button-red:visited {
  border: 1px solid transparent;
  color: #fff;
  text-shadow: 0 1px rgba(0,0,0,0.1);
  background-color: #d14836;
  background-image: -webkit-linear-gradient(top,#dd4b39,#d14836);
  background-image: -moz-linear-gradient(top,#dd4b39,#d14836);
  background-image: -ms-linear-gradient(top,#dd4b39,#d14836);
  background-image: -o-linear-gradient(top,#dd4b39,#d14836);
  background-image: linear-gradient(top,#dd4b39,#d14836);
  }
  .rc-button-red:hover {
  border: 1px solid #b0281a;
  color: #fff;
  text-shadow: 0 1px rgba(0,0,0,0.3);
  background-color: #c53727;
  background-image: -webkit-linear-gradient(top,#dd4b39,#c53727);
  background-image: -moz-linear-gradient(top,#dd4b39,#c53727);
  background-image: -ms-linear-gradient(top,#dd4b39,#c53727);
  background-image: -o-linear-gradient(top,#dd4b39,#c53727);
  background-image: linear-gradient(top,#dd4b39,#c53727);
  }
  .rc-button-red:active {
  border: 1px solid #992a1b;
  background-color: #b0281a;
  background-image: -webkit-linear-gradient(top,#dd4b39,#b0281a);
  background-image: -moz-linear-gradient(top,#dd4b39,#b0281a);
  background-image: -ms-linear-gradient(top,#dd4b39,#b0281a);
  background-image: -o-linear-gradient(top,#dd4b39,#b0281a);
  background-image: linear-gradient(top,#dd4b39,#b0281a);
  -moz-box-shadow: inset 0 1px 2px rgba(0,0,0,0.3);
  -webkit-box-shadow: inset 0 1px 2px rgba(0,0,0,0.3);
  box-shadow: inset 0 1px 2px rgba(0,0,0,0.3);
  }
  .secondary-actions {
  text-align: center;
  }
</style>
<style media="screen and (max-width: 800px), screen and (max-height: 800px)">
  .google-header-bar.centered {
  height: 83px;
  }
  .google-header-bar.centered .header .logo {
  margin: 25px auto 20px;
  }
  .card {
  margin-bottom: 20px;
  }
</style>
<style media="screen and (max-width: 580px)">
  html, body {
  font-size: 14px;
  }
  .google-header-bar.centered {
  height: 73px;
  }
  .google-header-bar.centered .header .logo {
  margin: 20px auto 15px;
  }
  .content {
  padding-left: 10px;
  padding-right: 10px;
  }
  .hidden-small {
  display: none;
  }
  .card {
  padding: 20px 15px 30px;
  width: 270px;
  }
  .footer ul li {
  padding-right: 1em;
  }
  .lang-chooser-wrap {
  display: none;
  }
</style>
<style media="screen and (-webkit-min-device-pixel-ratio: 1.5), (min--moz-device-pixel-ratio: 1.5), (-o-min-device-pixel-ratio: 3 / 2), (min-device-pixel-ratio: 1.5)">
  .header .logo {
  background-image: url(https://ssl.gstatic.com/accounts/ui/logo_2x.png);
  }
  .header .logo-w {
  background-image: url(https://ssl.gstatic.com/images/branding/googlelogo/2x/googlelogo_color_112x36dp.png);
  }
</style>
<style>
  pre.debug {
  font-family: monospace;
  position: absolute;
  left: 0;
  margin: 0;
  padding: 1.5em;
  font-size: 13px;
  background: #f1f1f1;
  border-top: 1px solid #e5e5e5;
  direction: ltr;
  white-space: pre-wrap;
  width: 90%;
  overflow: hidden;
  }
</style>
<style>
  .banner h1 {
  font-family: 'Open Sans', arial;
  -webkit-font-smoothing: antialiased;
  color: #555;
  font-size: 42px;
  font-weight: 300;
  margin-top: 0;
  margin-bottom: 20px;
  }
  .banner h2 {
  font-family: 'Open Sans', arial;
  -webkit-font-smoothing: antialiased;
  color: #555;
  font-size: 18px;
  font-weight: 400;
  margin-bottom: 20px;
  }
  .signin-card {
  width: 274px;
  padding: 40px 40px;
  }
  .signin-card .profile-img {
  width: 96px;
  height: 96px;
  margin: 0 auto 10px;
  display: block;
  -moz-border-radius: 50%;
  -webkit-border-radius: 50%;
  border-radius: 50%;
  }
  .signin-card .profile-name {
  font-size: 16px;
  font-weight: bold;
  text-align: center;
  margin: 10px 0 0;
  min-height: 1em;
  }
  .signin-card .profile-email {
  font-size: 16px;
  text-align: center;
  margin: 10px 0 20px 0;
  min-height: 1em;
  }
  .signin-card input[type=email],
  .signin-card input[type=password],
  .signin-card input[type=text],
  .signin-card input[type=submit] {
  width: 100%;
  display: block;
  margin-bottom: 10px;
  z-index: 1;
  position: relative;
  -moz-box-sizing: border-box;
  -webkit-box-sizing: border-box;
  box-sizing: border-box;
  }
  .signin-card #Email,
  .signin-card #Passwd,
  .signin-card .captcha {
  direction: ltr;
  height: 44px;
  font-size: 16px;
  }
  .signin-card #Email + .stacked-label {
  margin-top: 15px;
  }
  .signin-card #reauthEmail {
  display: block;
  margin-bottom: 10px;
  line-height: 36px;
  padding: 0 8px;
  font-size: 15px;
  color: #404040;
  line-height: 2;
  margin-bottom: 10px;
  font-size: 14px;
  text-align: center;
  overflow: hidden;
  text-overflow: ellipsis;
  white-space: nowrap;
  -moz-box-sizing: border-box;
  -webkit-box-sizing: border-box;
  box-sizing: border-box;
  }
  .one-google p {
  margin: 0 0 10px;
  color: #555;
  font-size: 14px;
  text-align: center;
  }
  .one-google p.create-account,
  .one-google p.switch-account {
  margin-bottom: 60px;
  }
  .one-google .logo-strip {
  background-repeat: no-repeat;
  display: block;
  margin: 10px auto;
  background-image: url(https://ssl.gstatic.com/accounts/ui/wlogostrip_230x17_1x.png);
  background-size: 230px 17px;
  width: 230px;
  height: 17px;
  }
</style>
<style media="screen and (max-width: 800px), screen and (max-height: 800px)">
  .banner h1 {
  font-size: 38px;
  margin-bottom: 15px;
  }
  .banner h2 {
  margin-bottom: 15px;
  }
  .one-google p.create-account,
  .one-google p.switch-account {
  margin-bottom: 30px;
  }
  .signin-card #Email {
  margin-bottom: 0;
  }
  .signin-card #Passwd {
  margin-top: -1px;
  }
  .signin-card #Email.form-error,
  .signin-card #Passwd.form-error {
  z-index: 2;
  }
  .signin-card #Email:hover,
  .signin-card #Email:focus,
  .signin-card #Passwd:hover,
  .signin-card #Passwd:focus {
  z-index: 3;
  }
</style>
<style media="screen and (max-width: 580px)">
  .banner h1 {
  font-size: 22px;
  margin-bottom: 15px;
  }
  .signin-card {
  width: 260px;
  padding: 20px 20px;
  margin: 0 auto 20px;
  }
  .signin-card .profile-img {
  width: 72px;
  height: 72px;
  -moz-border-radius: 72px;
  -webkit-border-radius: 72px;
  border-radius: 72px;
  }
</style>
<style media="screen and (-webkit-min-device-pixel-ratio: 1.5), (min--moz-device-pixel-ratio: 1.5), (-o-min-device-pixel-ratio: 3 / 2), (min-device-pixel-ratio: 1.5)">
  .one-google .logo-strip {
  background-image: url(https://ssl.gstatic.com/accounts/ui/wlogostrip_230x17_2x.png);
  }
</style>
<style>
  .remember .bubble-wrap {
  position: absolute;
  padding-top: 3px;
  -o-transition: opacity .218s ease-in .218s;
  -moz-transition: opacity .218s ease-in .218s;
  -webkit-transition: opacity .218s ease-in .218s;
  transition: opacity .218s ease-in .218s;
  left: -999em;
  opacity: 0;
  width: 314px;
  margin-left: -20px;
  }
  .remember:hover .bubble-wrap,
  .remember input:focus ~ .bubble-wrap,
  .remember .bubble-wrap:hover,
  .remember .bubble-wrap:focus {
  opacity: 1;
  left: inherit;
  }
  .bubble-pointer {
  border-left: 10px solid transparent;
  border-right: 10px solid transparent;
  border-bottom: 10px solid #fff;
  width: 0;
  height: 0;
  margin-left: 17px;
  }
  .bubble {
  background-color: #fff;
  padding: 15px;
  margin-top: -1px;
  font-size: 11px;
  -moz-border-radius: 2px;
  -webkit-border-radius: 2px;
  border-radius: 2px;
  -moz-box-shadow: 0px 2px 2px rgba(0, 0, 0, 0.3);
  -webkit-box-shadow: 0px 2px 2px rgba(0, 0, 0, 0.3);
  box-shadow: 0px 2px 2px rgba(0, 0, 0, 0.3);
  }
  #stay-signed-in {
  float: left;
  }
  #stay-signed-in-tooltip {
  left: auto;
  margin-left: -20px;
  padding-top: 3px;
  position: absolute;
  top: 0;
  visibility: hidden;
  width: 314px;
  z-index: 1;
  }
  .dasher-tooltip {
  top: 380px;
  }
</style>
<style media="screen and (max-width: 800px), screen and (max-height: 800px)">
  .dasher-tooltip {
  top: 340px;
  }
</style>
<style>
  .jfk-tooltip {
  background-color: #fff;
  border: 1px solid;
  color: #737373;
  font-size: 12px;
  position: absolute;
  z-index: 800 !important;
  border-color: #bbb #bbb #a8a8a8;
  padding: 16px;
  width: 250px;
  }
 .jfk-tooltip h3 {
  color: #555;
  font-size: 12px;
  margin: 0 0 .5em;
  }
 .jfk-tooltip-content p:last-child {
  margin-bottom: 0;
  }
  .jfk-tooltip-arrow {
  position: absolute;
  }
  .jfk-tooltip-arrow .jfk-tooltip-arrowimplbefore,
  .jfk-tooltip-arrow .jfk-tooltip-arrowimplafter {
  display: block;
  height: 0;
  position: absolute;
  width: 0;
  }
  .jfk-tooltip-arrow .jfk-tooltip-arrowimplbefore {
  border: 9px solid;
  }
  .jfk-tooltip-arrow .jfk-tooltip-arrowimplafter {
  border: 8px solid;
  }
  .jfk-tooltip-arrowdown {
  bottom: 0;
  }
  .jfk-tooltip-arrowup {
  top: -9px;
  }
  .jfk-tooltip-arrowleft {
  left: -9px;
  top: 30px;
  }
  .jfk-tooltip-arrowright {
  right: 0;
  top: 30px;
  }
  .jfk-tooltip-arrowdown .jfk-tooltip-arrowimplbefore,.jfk-tooltip-arrowup .jfk-tooltip-arrowimplbefore {
  border-color: #bbb transparent;
  left: -9px;
  }
  .jfk-tooltip-arrowdown .jfk-tooltip-arrowimplbefore {
  border-color: #a8a8a8 transparent;
  }
  .jfk-tooltip-arrowdown .jfk-tooltip-arrowimplafter,.jfk-tooltip-arrowup .jfk-tooltip-arrowimplafter {
  border-color: #fff transparent;
  left: -8px;
  }
  .jfk-tooltip-arrowdown .jfk-tooltip-arrowimplbefore {
  border-bottom-width: 0;
  }
  .jfk-tooltip-arrowdown .jfk-tooltip-arrowimplafter {
  border-bottom-width: 0;
  }
  .jfk-tooltip-arrowup .jfk-tooltip-arrowimplbefore {
  border-top-width: 0;
  }
  .jfk-tooltip-arrowup .jfk-tooltip-arrowimplafter {
  border-top-width: 0;
  top: 1px;
  }
  .jfk-tooltip-arrowleft .jfk-tooltip-arrowimplbefore,
  .jfk-tooltip-arrowright .jfk-tooltip-arrowimplbefore {
  border-color: transparent #bbb;
  top: -9px;
  }
  .jfk-tooltip-arrowleft .jfk-tooltip-arrowimplafter,
  .jfk-tooltip-arrowright .jfk-tooltip-arrowimplafter {
  border-color:transparent #fff;
  top:-8px;
  }
  .jfk-tooltip-arrowleft .jfk-tooltip-arrowimplbefore {
  border-left-width: 0;
  }
  .jfk-tooltip-arrowleft .jfk-tooltip-arrowimplafter {
  border-left-width: 0;
  left: 1px;
  }
  .jfk-tooltip-arrowright .jfk-tooltip-arrowimplbefore {
  border-right-width: 0;
  }
  .jfk-tooltip-arrowright .jfk-tooltip-arrowimplafter {
  border-right-width: 0;
  }
  .jfk-tooltip-closebtn {
  background: url("//ssl.gstatic.com/ui/v1/icons/common/x_8px.png") no-repeat;
  border: 1px solid transparent;
  height: 21px;
  opacity: .4;
  outline: 0;
  position: absolute;
  right: 2px;
  top: 2px;
  width: 21px;
  }
  .jfk-tooltip-closebtn:focus,
  .jfk-tooltip-closebtn:hover {
  opacity: .8;
  cursor: pointer;
  }
  .jfk-tooltip-closebtn:focus {
  border-color: #4d90fe;
  }
</style>
<style media="screen and (max-width: 580px)">
  .jfk-tooltip {
  display: none;
  }
</style>
<style type="text/css">
.captcha-box {
  background: #fff;
  margin: 0 0 10px;
  overflow: hidden;
  padding: 10px;
}
.captcha-box .captcha-img {
  text-align: center;
}
.captcha-box .captcha-label {
  font-weight: bold;
  display: block;
  margin: .5em 0;
}
.captcha-box .captcha-msg {
  color: #999;
  display: block;
  position: relative;
}
.captcha-box .captcha-msg .accessibility-logo {
  float: right;
  border: 0;
}
.captcha-box .audio-box {
  position: absolute;
  top: 0;
}
</style>
<style>
.chromiumsync-custom-content {
  padding-top: 20px;
  margin-bottom: 0;
}
.form-panel {
  -webkit-box-sizing: border-box;
  box-sizing: border-box;
  -webkit-transform: translateZ(0);
  -moz-transform: translateZ(0);
  -ms-transform: translateZ(0);
  -o-transform: translateZ(0);
  transform: translateZ(0);
  width: 100%;
}
.form-panel.first {
  z-index: 2;
}
.form-panel.second {
  z-index: 1;
}
.shift-form .form-panel.first {
  z-index: 1;
}
.shift-form .form-panel.second {
  z-index: 2;
}
.slide-in,
.slide-out {
  display: block;
  -webkit-transition-property: -webkit-transform, opacity;
  -moz-transition-property: -moz-transform, opacity;
  -ms-transition-property: -ms-transform, opacity;
  -o-transition-property: -o-transform, opacity;
  transition-property: transform, opacity;
  -webkit-transition-duration: 0.1s;
  -moz-transition-duration: 0.1s;
  -ms-transition-duration: 0.1s;
  -o-transition-duration: 0.1s;
  transition-duration: 0.1s;
  -webkit-transition-timing-function: cubic-bezier(0.4, 0, 0.2, 1);
  -moz-transition-timing-function: cubic-bezier(0.4, 0, 0.2, 1);
  -ms-transition-timing-function: cubic-bezier(0.4, 0, 0.2, 1);
  -o-transition-timing-function: cubic-bezier(0.4, 0, 0.2, 1);
  transition-timing-function: cubic-bezier(0.4, 0, 0.2, 1);
}
.slide-out {
  -webkit-transform: translate3d(0, 0, 0);
  -moz-transform: translate3d(0, 0, 0);
  -ms-transform: translate3d(0, 0, 0);
  -o-transform: translate3d(0, 0, 0);
  transform: translate3d(0, 0, 0);
}
.shift-form .slide-out {
  opacity: 0;
  -webkit-transform: translate3d(-120%, 0, 0);
  -moz-transform: translate3d(-120%, 0, 0);
  -ms-transform: translate3d(-120%, 0, 0);
  -o-transform: translate3d(-120%, 0, 0);
  transform: translate3d(-120%, 0, 0);
}
.slide-in {
  -webkit-transform: translate3d(120%, 0, 0);
  -moz-transform: translate3d(120%, 0, 0);
  -ms-transform: translate3d(120%, 0, 0);
  -o-transform: translate3d(120%, 0, 0);
  transform: translate3d(120%, 0, 0);
}
.shift-form .slide-in {
  opacity: 1;
  -webkit-transform: translate3d(0, 0, 0);
  -moz-transform: translate3d(0, 0, 0);
  -ms-transform: translate3d(0, 0, 0);
  -o-transform: translate3d(0, 0, 0);
  transform: translate3d(0, 0, 0);
}
.error-msg {
  -webkit-transition: max-height 0.3s, opacity 0.3s 0s steps(10, end);
  -moz-transition: max-height 0.3s, opacity 0.3s 0s steps(10, end);
  -ms-transition: max-height 0.3s, opacity 0.3s 0s steps(10, end);
  -o-transition: max-height 0.3s, opacity 0.3s 0s steps(10, end);
  transition: max-height 0.3s, opacity 0.3s 0s steps(10, end);
  height: auto;
  max-height: 0;
  opacity: 0;
}
.has-error .error-msg {
  max-height: 3.5em;
  margin-top: 10px;
  margin-bottom: 10px;
  opacity: 1;
  visibility: visible;
}
.back-arrow {
  position: absolute;
  top: 37px;
  width: 24px;
  height: 24px;
  display: none;
  cursor: pointer;
}
.back-arrow {
  border-style: none;
}
.shift-form.back-arrow {
  display: block;
}
.back-arrow img {
  display: block;
}
#link-signup {
  text-align: center;
  font-size: 14px;
}
.shift-form #link-signup{
  display: none;
}
#link-signin-different {
  display: none;
  text-align: center;
  font-size: 14px;
}
.shift-form #link-signin-different {
  display: block;
}
.signin-card #profile-name {
  font-size: 16px;
  font-weight: bold;
  text-align: center;
  margin: 0;
  min-height: 1em;
}
.signin-card.no-name #profile-name {
  display: none;
}
.signin-card.no-name #email-display {
  line-height: initial;
  margin-bottom: 16px;
}
.signin-card #email-display {
  display: block;
  padding: 0px 8px;
  color: rgb(64, 64, 64);
  line-height: 2;
  margin-bottom: 10px;
  font-size: 14px;
  text-align: center;
  overflow: hidden;
  text-overflow: ellipsis;
  white-space: nowrap;
  -moz-box-sizing: border-box;
  -webkit-box-sizing: border-box;
  box-sizing: border-box;
}
.signin-card #Email {
  margin-top: 16px;
}
.need-help {
  float: right;
  text-align: right;
}
.form-panel {
  width: 274px;
}
#gaia_firstform {
  z-index: 2;
}
.signin-card {
  position: relative;
  overflow: hidden;
}
.signin-card #profile-name {
  color: #000;
}
.circle-mask {
  display: block;
  height: 96px;
  width: 96px;
  overflow: hidden;
  border-radius: 50%;
  margin-left: auto;
  margin-right: auto;
  z-index: 100;
  margin-bottom: 10px;
}
.circle {
  -webkit-transition-property: -webkit-transform;
  -moz-transition-property: -moz-transform;
  -ms-transition-property: -ms-transform;
  -o-transition-property: -o-transform;
  transition-property: transform;
  -webkit-transition-timing-function: cubic-bezier(.645,.045,.355,1);
  -moz-transition-timing-function: cubic-bezier(.645,.045,.355,1);
  -ms-transition-timing-function: cubic-bezier(.645,.045,.355,1);
  -o-transition-timing-function: cubic-bezier(.645,.045,.355,1);
  transition-timing-function: cubic-bezier(.645,.045,.355,1);
}
.circle {
  position: absolute;
  z-index: 101;
  height: 96px;
  width: 96px;
  border-radius: 50%;
  opacity: 0.99;
  overflow: hidden;
  background-repeat: no-repeat;
  background-position: center center;
}
.main {
  overflow: hidden;
}
.card-mask-wrap {
  position: relative;
  width: 360px;
  margin: 0 auto;
  z-index: 1;
}
.dasher-tooltip {
  position: absolute;
  left: 50%;
  margin-left: 150px;
}
.dasher-tooltip .tooltip-pointer {
  margin-top: 15px;
}
.dasher-tooltip p {
  margin-top: 0;
}
.dasher-tooltip p span {
  display: block;
}
.card {
  margin-bottom: 0;
}
.one-google {
  padding-top: 27px;
}
#canvas {
  -webkit-transition: opacity 0.075s;
  -moz-transition: opacity 0.075s;
  -ms-transition: opacity 0.075s;
  -o-transition: opacity 0.075s;
  transition: opacity 0.075s;
  opacity: 0.01;
}
.shift-form #canvas {
  opacity: 0.99;
}
.label {
  color: #404040;
}
#account-chooser-link {
  -webkit-transition: opacity 0.3s;
  -moz-transition: opacity 0.3s;
  -ms-transition: opacity 0.3s;
  -o-transition: opacity 0.3s;
  transition: opacity 0.3s;
}
.input-wrapper {
  position: relative;
}
.google-footer-bar {
  z-index: 2;
}
</style>
<style media="screen and (max-width: 580px)">
.back-arrow {
  top: 17px;
}
.circle-mask {
  height: 72px;
  width: 72px;
  background-size: 72px;
}
.circle {
  height: 72px;
  width: 72px;
}
#canvas {
  height: 72px;
  width: 72px;
}
.form-panel {
  width: 256px;
}
.card-mask-wrap {
  width: 300px;
}
.signin-card {
  width: 256px;
}
.signin-card #EmailFirst {
  margin-top: 15px;
}
.one-google {
  padding-top: 22px;
}
</style>
  </head>
  <body>
  <div class="wrapper">
  <div class="google-header-bar  centered">
  <div class="header content clearfix">
  <div class="logo logo-w" aria-label="Google"></div>
  </div>
  </div>
  <div class="main content clearfix">
<div class="banner">
<h1>
  One account. All of Google.
</h1>
  <h2 class="hidden-small">
  Sign in to continue to Google Drive
  </h2>
</div>
<div class="main-content 
  
  
    no-name
  
  
  
">
<div class="card signin-card
  
    pre-shift
  
  
  
   no-name">
  <img class="circle-mask"
      
        
          src="https://ssl.gstatic.com/accounts/ui/avatar_2x.png"
        
      >
  <form novalidate method="post" action="https://accounts.google.com/signin/v1/lookup" id="gaia_loginform">
  <input name="Page" type="hidden" value="PasswordSeparationSignIn">
  <input type="hidden" name="" value="">
  <input type="hidden" name="gxf" value="AFoagUVn7Z2OYAcwtmTgPYUhXk9b66hunA:1587825287840">
  <input type="hidden" name="continue" value="https://docs.google.com/uc?export=download&amp;id=1d_ourbLJnhBrfPieLlQNc696Q5Tx9zBe">
  <input type="hidden" name="followup" value="https://docs.google.com/uc?export=download&amp;id=1d_ourbLJnhBrfPieLlQNc696Q5Tx9zBe">
  <input type="hidden" name="service" value="wise">
  <input type="hidden" name="ltmpl" value="homepage">
  <input id="profile-information" name="ProfileInformation" type="hidden" value="">
  <input id="session-state" name="SessionState" type="hidden" value="AEThLlxmJuKuYzEKL9XNNn3IpBBsyg-fjiahtBV6VcJlr7ta1pLIU3BioXu-nCnkOS0eT3F7pYsoBbaUuHd7qE93sqqw-T5N8dzl26-OHkFXpV1q6P-GnUlMigW19OuAuGt7D_hE_lmJYp4M5BggNEE5KeMm5aGfxULZFiJ7wBscYVKtuk-GjPZXPt-tXeVVK94-KaEIzGie">
  <input name="flowName" type="hidden" value="GlifWebSignIn">
  <input type="hidden" id="_utf8" name="_utf8" value="&#9731;"/>
  <input type="hidden" name="bgresponse" id="bgresponse" value="js_disabled">
  <div class="form-panel first valid" id="gaia_firstform">
  <div class="slide-out ">
  <div class="input-wrapper focused">
  <div id="identifier-shown">
  <div>
  <label class="hidden-label" for="Email">
  Enter your email</label>
  <input id="Email" type="email" value="" spellcheck="false"
                   name="Email"
                   
                     placeholder="Email or phone"
                   
                   
                   
                   >
  <input id="Passwd-hidden" type="password" spellcheck="false" class="hidden">
  </div>
  </div>
  <span role="alert" class="error-msg" id="errormsg_0_Email"></span>
  </div>
<input id="next" name="signIn" class="rc-button rc-button-submit" type="submit" value="Next">
  <a class="need-help"
          href="https://accounts.google.com/signin/usernamerecovery?continue=https%3A%2F%2Fdocs.google.com%2Fuc%3Fexport%3Ddownload%26id%3D1d_ourbLJnhBrfPieLlQNc696Q5Tx9zBe&amp;service=wise&amp;ltmpl=homepage&amp;hl=en">
  Find my account
  </a>
  </div>
  </div>
  </form>
</div>
  <div class="card-mask-wrap
    
        
     no-name">
  <div class="card-mask">
  <div class="one-google">
  <p class="create-account">
  <span id="link-signin-different">
  <a href="https://accounts.google.com/AccountChooser?continue=https%3A%2F%2Fdocs.google.com%2Fuc%3Fexport%3Ddownload%26id%3D1d_ourbLJnhBrfPieLlQNc696Q5Tx9zBe&amp;followup=https%3A%2F%2Fdocs.google.com%2Fuc%3Fexport%3Ddownload%26id%3D1d_ourbLJnhBrfPieLlQNc696Q5Tx9zBe&amp;service=wise&amp;ltmpl=homepage">
  Sign in with a different account
  </a>
  </span>
  <span id="link-signup">
  <a href="https://accounts.google.com/SignUp?service=wise&amp;continue=https%3A%2F%2Fdocs.google.com%2Fuc%3Fexport%3Ddownload%26id%3D1d_ourbLJnhBrfPieLlQNc696Q5Tx9zBe&amp;ltmpl=homepage">
  Create account
  </a>
  </span>
  </p>
<p class="tagline">
  One Google Account for everything Google
</p>
<div class="logo-strip"></div>
  </div>
  </div>
  </div>
</div>
  </div>
  <div class="google-footer-bar">
  <div class="footer content clearfix">
  <ul id="footer-list">
  <li>
  <a href="https://www.google.com/intl/en/about" target="_blank">
  About Google
  </a>
  </li>
  <li>
  <a href="https://accounts.google.com/TOS?loc=US&hl=en&privacy=true" target="_blank">
  Privacy
  </a>
  </li>
  <li>
  <a href="https://accounts.google.com/TOS?loc=US&hl=en" target="_blank">
  Terms
  </a>
  </li>
  <li>
  <a href="http://www.google.com/support/accounts?hl=en" target="_blank">
  Help
  </a>
  </li>
  </ul>
  </div>
</div>
  </div>
<script type="text/javascript" nonce="ntBNYADmx9be97qA8ipyFw">
  var gaia_attachEvent = function(element, event, callback) {
  if (element && element.addEventListener) {
  element.addEventListener(event, callback, false);
  } else if (element && element.attachEvent) {
  element.attachEvent('on' + event, callback);
  }
  };
  (function() {
  var gaia_hideNavBar = function() {
  setTimeout(function() {
  window.scrollTo(0, 1);
  }, 0);
  };
  gaia_attachEvent(window, 'load', gaia_hideNavBar);
  })();
</script>
  <script type="text/javascript" nonce="ntBNYADmx9be97qA8ipyFw">/* Anti-spam. Want to say hello? Contact (base64) Ym90Z3VhcmQtY29udGFjdEBnb29nbGUuY29t */Function('var R=function(G,m,n,a){for(a=(n=[],m)-1;0<=a;a--)n[m-1-a]=G>>8*a&255;return n},F={},b={},N=function(G,m){return m[G]<<24|m[G+1]<<16|m[G+2]<<8|m[G+3]},Gm=function(G,m,n,a,Z){if(m.X=(n=G[0],false),n==B)m.O=25,m.g(G);else if(n==u){n=(a=G[1],G)[3];try{Z=m.g(G)}catch(q){M(q,m),Z=m.w}a&&a(Z),n.push(Z)}else if(n==b)m.g(G);else if(n==V)m.g(G);else if(n==F){try{for(Z=0;Z<m.Y.length;Z++)try{a=m.Y[Z],a[0][a[1]](a[2])}catch(q){}}catch(q){}(0,G[m.Y=[],1])()}else if(n==T)return Z=G[2],d(2,m,G[6]),d(209,m,Z),m.g(G)},M=function(G,m){m.w=("E:"+G.message+":"+G.stack).slice(0,2048)},E=function(G,m){return m=x(G),m&128&&(m=m&127|x(G)<<7),m},i7=function(G,m,n,a,Z,q,g){G.o++;try{for(Z=(n=(q=0,a=5001,G).I,void 0);(G.Z||--a)&&(G.C||(q=G.b(142))<n);)try{G.C?Z=G.N(G.C):(d(151,G,q),g=x(G),Z=G.b(g)),Z&&Z.call?Z(G):y(21,G,0,g),G.X=true,C(2,false,G)}catch(H){H!=G.B&&(G.b(128)?y(22,G,H):d(128,G,H))}a||y(33,G)}catch(H){try{y(22,G,H)}catch(X){M(X,G)}}return n=G.b(209),m&&d(142,G,m),G.o--,n},J,W=function(G,m,n,a,Z){if(0!=G.K.length){if(Z=0==G.o)G.R=G.l();return(m=ma(n,m,G),Z)&&(Z=G.l()-G.R,Z<(a?10:0)||0>=G.O--||G.f.push(254>=Z?Z:254)),m}},C=function(G,m,n){if(0>=n.m||1<n.o||!n.X&&m||0!=document.hidden||n.l()-n.R<n.m-G)return false;return(d(142,n,(G=(n.S=true,n.b(m?151:142)),n).I),n.K).push([b,G]),true},L=this||self,Z8=function(G,m,n,a,Z,q){for(m.X=!((a=[],(m.O=(m.S=false,25),m.T=(m.$w=function(g,H,X){return(H=(X=function(){return g},function(){return X()}),H)[this.V]=function(p){g=p},H},void 0),m.o=0,m).G=(m.f=[],Z=0,m.m=0,function(g,H,X,p,e,K){return((K=(X=(p=function(){return p[X.v+(e[X.s]===H)-!K[X.s]]},e=function(){return p()},this),X.g),e)[X.V]=function(A){p[X.J]=A},e)[X.V](g),g=e}),m).C=void 0,1);128>Z;Z++)a[Z]=String.fromCharCode(Z);(d(166,m,(d(63,(d(170,(d(175,(d(19,m,(d(5,(m.Ph=(q=(d((d(67,m,(d(124,(d(114,m,(d(233,(d(231,(d(69,m,(d(185,m,(d((d(253,m,((d(240,m,((d(68,(((d(1,((d(113,(d(80,(d(212,(d(245,m,(d((d(157,m,(d(250,m,(d(169,(Z=(d(((d(130,m,(m.D=(d(219,(d(189,(d((d((d(17,(d((d((d(151,(d(142,(m.$=(m.P=m,[]),m.tr=function(g){this.P=g},m.Y=[],m),0),m),0),d(161,m,[0,0,0]),22),m,function(g){gi(g,1)}),209),m,{}),m),0),4),m,function(g){r(4,g)}),110),m,2048),m),S(4)),m),function(g,H,X,p){d((p=(X=(H=x(g),x(g)),x(g)),p),g,g.b(H)>>X)}),[]),function(g){gi(g,4)})),m).K=[],d(128,m,270),133),m,function(g,H){(g=(H=x(g),g.b(H)),g)[0].removeEventListener(g[1],g[2],false)}),G.U||function(){}),m),m),function(g,H,X,p,e,K){if(!C(255,true,g)){if("object"==(g=(p=(X=(H=(p=(H=x(g),X=x(g),x(g)),e=x(g),g.b(H)),g.b(X)),g.b(p)),g).b(e),nN(H))){for(K in e=[],H)e.push(K);H=e}for(K=(p=0<(e=0,p)?p:1,H.length);e<K;e+=p)X(H.slice(e,e+p),g)}})),function(g,H,X,p,e){for(p=(e=(X=(H=x(g),E)(g),0),[]);e<X;e++)p.push(x(g));d(H,g,p)})),72),m,[0,0,0]),function(g,H,X,p,e){d((X=(e=(p=(X=(H=x(g),x(g)),g.b(x(g))),g).b(x(g)),g.b(X)),H),g,aQ(e,p,X,g))})),m),[165,0,0]),m),function(g,H,X){(X=(H=x(g),x)(g),0!=g.b(H))&&d(142,g,g.b(X))}),m),function(g,H,X,p){p=(X=(H=x(g),x)(g),x(g)),d(p,g,g.b(H)||g.b(X))}),m).K$=function(g,H){((H.push(g[0]<<24|g[1]<<16|g[2]<<8|g[3]),H).push(g[4]<<24|g[5]<<16|g[6]<<8|g[7]),H).push(g[8]<<24|g[9]<<16|g[10]<<8|g[11])},m),[]),d)(14,m,function(g,H,X){d((X=x((H=x(g),g)),X),g,""+g.b(H))}),d)(146,m,function(){}),m),function(g,H,X,p){X=(H=x(g),x)(g),p=x(g),d(p,g,(g.b(H)in g.b(X))+0)}),d(90,m,function(g,H,X,p){d((X=(p=x((X=(H=x(g),x(g)),g)),g.b(X)),H=g.b(H),p),g,H[X])}),d)(95,m,function(g,H,X){C(5,true,g)||(H=x(g),X=x(g),d(X,g,function(p){return eval(p)}(g.b(H))))}),function(g){r(2,g)})),d)(120,m,function(g,H,X,p){(p=x((X=(H=x(g),x(g)),g)),g).P==g&&(g.b(H)[g.b(X)]=g.b(p),72==H&&(g.j=void 0,2==g.b(X)&&(g.M=void 0,d(142,g,g.b(142)+32))))}),function(g){g.F(4)})),144),m,function(g,H,X,p,e,K,A,h,D,f,c,O,P){for(f=(A=(K=(e=(p=(H=x(g),X=0),function(v,U){for(;p<v;)X|=x(g)<<p,p+=8;return U=(p-=v,X&(1<<v)-1),X>>=v,U}),e(3)+1),e)(5),h=[],D=0);f<A;f++)c=e(1),h.push(c),D+=c?0:1;for(f=(D=(O=[],(D-1).toString(2).length),0);f<A;f++)h[f]||(O[f]=e(D));for(f=0;f<A;f++)h[f]&&(O[f]=x(g));for(f=(P=[],K);f--;)P.push(g.b(x(g)));d(H,g,function(v,U,z,I,Q){for(z=(v.o++,I=0,[]),U=[];I<A;I++){if(Q=O[I],!h[I]){for(;Q>=U.length;)U.push(x(v));Q=U[Q]}z.push(Q)}v.T=(v.C=v.G(P.slice(),v.N),v.G(z,v.N))})}),function(g,H){Hu(g,(H=g.b(x(g)),H))})),function(g,H,X){(X=(H=x(g),x(g)),d)(X,g,g.b(X)+g.b(H))})),m),function(g,H,X){d((H=(X=(H=x(g),x(g)),g.b(H)),X),g,nN(H))}),m),function(g,H,X){d((H=(X=x((H=x(g),g)),g.$)[H]&&g.b(H),X),g,H)}),function(g,H,X,p,e){0!==(p=(e=(p=x((X=(H=x(g),x(g)),g)),H=g.b(H),g.b(x(g))),X=g.b(X),g).b(p),H)&&(p=aQ(1,e,p,g,H,X),H.addEventListener(X,p,Y),d(17,g,[H,X,p]))})),m),function(g){r(1,g)}),function(g,H,X,p,e,K,A){if((p=(X=(H=x(g),E)(g),""),g.$)[138])for(e=g.b(138),K=0,A=e.length;X--;)K=(K+E(g))%A,p+=a[e[K]];else for(;X--;)p+=a[x(g)];d(H,g,p)})),13),m,function(g,H){C(5,true,g)||(H=XX(g),d(H.W,g,H.A.apply(H.L,H.i)))}),window.performance||{}),q.timeOrigin)||(q.timing||{}).navigationStart||0,m),[]),function(g,H,X,p){if(H=g.D.pop()){for(X=x(g);0<X;X--)p=x(g),H[p]=g.$[p];g.$=(H[110]=g.$[H[1]=g.$[1],110],H)}else d(142,g,g.I)})),m),function(g,H,X,p){d((H=(p=x((X=(H=x(g),x)(g),g)),g.b(H))==g.b(X),p),g,+H)}),m),function(g,H,X,p,e,K,A){C(5,true,g)||(H=XX(g),p=H.L,X=H.i,A=X.length,e=H.A,0==A?K=new p[e]:1==A?K=new p[e](X[0]):2==A?K=new p[e](X[0],X[1]):3==A?K=new p[e](X[0],X[1],X[2]):4==A?K=new p[e](X[0],X[1],X[2],X[3]):y(22,g),d(H.W,g,K))}),m),0),L)),n&&"!"==n.charAt(0))?(m.w=n,Z()):(m.a=[],m.I=0,G=!!G.U,k([V,n],m),k([F,Z],m),W(m,G,true,false))},RQ=function(G,m,n,a,Z){for(a=n=(m=[],0);a<G.length;a++)Z=G.charCodeAt(a),128>Z?m[n++]=Z:(2048>Z?m[n++]=Z>>6|192:(55296==(Z&64512)&&a+1<G.length&&56320==(G.charCodeAt(a+1)&64512)?(Z=65536+((Z&1023)<<10)+(G.charCodeAt(++a)&1023),m[n++]=Z>>18|240,m[n++]=Z>>12&63|128):m[n++]=Z>>12|224,m[n++]=Z>>6&63|128),m[n++]=Z&63|128);return m},t=function(G,m){try{Z8(m,this,G)}catch(n){M(n,this)}},so=((t.prototype.B=(t.prototype.gD=function(G,m,n,a,Z){for(Z=a=0;Z<G.length;Z++)a+=G.charCodeAt(Z),a+=a<<10,a^=a>>6;return a=new (G=(a+=a<<3,a^=a>>11,a+(a<<15)>>>0),Number)(G&(1<<m)-1),a[0]=(G>>>m)%n,a},t.prototype.qa=function(G,m,n,a){try{a=G[(m+2)%3],G[m]=G[m]-G[(m+1)%3]-a^(1==m?a<<n:a>>>n)}catch(Z){throw Z;}},{}),t.prototype).C$=function(G,m,n){return G^((m=(m^=m<<13,m^=m>>17,m^m<<5)&n)||(m=1),m)},function(G,m,n,a){try{for(a=0;79669387488!=a;)n+=(G<<4^G>>>5)+G^a+m[a&3],a+=2489668359,G+=(n<<4^n>>>5)+n^a+m[a>>>11&3];return[n>>>24,n>>16&255,n>>8&255,n&255,G>>>24,G>>16&255,G>>8&255,G&255]}catch(Z){throw Z;}}),r=(t.prototype.h=function(G,m,n,a,Z,q){if(this.w)return this.w;try{Z=[],q=[],a=!!G,k([B,Z,m],this),k([u,G,Z,q],this),W(this,a,true,false),n=q[0]}catch(g){M(g,this),n=this.w,G&&G(n)}return n},function(G,m,n,a){for(n=x(m),a=0;0<G;G--)a=a<<8|x(m);d(n,m,a)}),Hu=(t.prototype.Z=false,function(G,m){d(142,G,((G.D.push(G.$.slice()),G.$)[142]=void 0,m))}),aQ=function(G,m,n,a,Z,q){return function(){if(a.P==a){var g=G&1,H=[T,n,m,void 0,Z,q,arguments];if(G&2)var X=W(a,false,(k(H,a),false),true);else g&&a.K.length?k(H,a):g?(k(H,a),W(a,false,false,true)):X=Gm(H,a);return X}}},w=function(G,m,n,a,Z,q){if(m.P==m)for(Z=m.b(G),189==G?(G=function(g,H,X,p){if(H=Z.length,X=H-4>>3,Z.c!=X){p=[0,0,(X=(X<<(Z.c=X,3))-4,q[1]),q[2]];try{Z.H=so(N(X+4,Z),p,N(X,Z))}catch(e){throw e;}}Z.push(Z.H[H&7]^g)},q=m.b(161)):G=function(g){Z.push(g)},a&&G(a&255),m=n.length,a=0;a<m;a++)G(n[a])},V={},XX=(t.prototype.v=35,function(G,m,n,a,Z,q){for(Z=(a=(m={},n=x(G),m.W=x(G),m.i=[],G.P==G?x(G)-1:1),x(G)),q=0;q<a;q++)m.i.push(x(G));for((m.A=G.b(n),m).L=G.b(Z);a--;)m.i[a]=G.b(m.i[a]);return m}),y=function(G,m,n,a,Z){if((a=(0==((G=[(Z=m.b(151)>>3,G),Z>>8&255,Z&255],void 0!=a)&&G.push(a),m).b(1).length&&(m.$[1]=void 0,d(1,m,G)),""),n&&(n.message&&(a+=n.message),n.stack&&(a+=":"+n.stack)),n=m.b(110),3)<n){(a=RQ((n-=(a=a.slice(0,n-3),a.length)+3,a).replace(/\\r\\n/g,"\\n")),G=m.P,m).P=m;try{w(189,m,R(a.length,2).concat(a),12)}finally{m.P=G}}d(110,m,n)},gi=(t.prototype.E0=function(G,m,n,a,Z,q){for(q=(n=[],a=0);q<G.length;q++)for(Z=Z<<m|G[q],a+=m;7<a;)a-=8,n.push(Z>>a&255);return n},t.prototype.l=(t.prototype.Vz=function(G,m,n,a){for(;n--;)142!=n&&151!=n&&m.$[n]&&(m.$[n]=m[a](m[G](n),this));m[G]=this},(window.performance||{}).now)?function(){return Math.floor(this.Ph+window.performance.now())}:function(){return+new Date},function(G,m,n,a){w((a=(n=x(G),x(G)),a),G,R(G.b(n),m))}),u=(t.prototype.s=(t.prototype.F=function(G,m,n,a){w((((n=(a=(G&=(m=G&4,3),n=x(this),x(this)),this.b(n)),m)&&(n=RQ((""+n).replace(/\\r\\n/g,"\\n"))),G)&&w(a,this,R(n.length,2)),a),this,n)},"caller"),{}),nN=(t.prototype.V="toString",function(G,m,n){if((m=typeof G,"object")==m)if(G){if(G instanceof Array)return"array";if(G instanceof Object)return m;if((n=Object.prototype.toString.call(G),"[object Window]")==n)return"object";if("[object Array]"==n||"number"==typeof G.length&&"undefined"!=typeof G.splice&&"undefined"!=typeof G.propertyIsEnumerable&&!G.propertyIsEnumerable("splice"))return"array";if("[object Function]"==n||"undefined"!=typeof G.call&&"undefined"!=typeof G.propertyIsEnumerable&&!G.propertyIsEnumerable("call"))return"function"}else return"null";else if("function"==m&&"undefined"==typeof G.call)return"object";return m}),S=(t.prototype.If=function(G,m,n){if(3==G.length){for(n=0;3>n;n++)m[n]+=G[n];for(n=(G=[13,8,13,12,16,5,3,10,15],0);9>n;n++)m[3](m,n%3,G[n])}},function(G,m){for(m=[];G--;)m.push(255*Math.random()|0);return m}),T={},x=(t.prototype.b=function(G,m){if((m=this.$[G],void 0)===m)throw y(30,this,0,G),this.B;return m()},function(G,m,n,a){if(G.C)return G.N(G.T);if((m=G.b(142),n=m>>3,m)>=G.I)throw y(31,G),G.B;return(d(142,G,((void 0==G.M&&(G.M=N(n-4,G.a),G.j=void 0),G).j!=n>>3&&(G.j=n>>3,a=G.b(72),G.bs=so(G.j,[0,0,a[1],a[2]],G.M)),m+8)),G).a[n]^G.bs[n%8]}),k=(t.prototype.g=(t.prototype.kw=L.requestIdleCallback?function(G){requestIdleCallback(G,{timeout:4})}:L.setImmediate?function(G){setImmediate(G)}:function(G){setTimeout(G,0)},function(G,m,n,a,Z,q,g){if(m=G[0],m==V){n=G[1];try{for(q=(n=(a=atob(n),[]),Z=0);q<a.length;q++)g=a.charCodeAt(q),255<g&&(n[Z++]=g&255,g>>=8),n[Z++]=g;this.a=n,this.I=this.a.length<<3}catch(H){y(17,this,H)}i7(this)}else if(m==B)a=G[1],a.push(this.b(212).length,this.b(189).length,this.b(5).length,this.b(110)),d(209,this,G[2]),this.$[180]&&l(this,this.b(180));else{if(m==u){this.P=(g=(G=R((a=G[2],this.b(212).length+2),2),this.P),this);try{n=this.b(1),0<n.length&&w(212,this,R(n.length,2).concat(n),15),Z=this.b(63)&511,Z-=this.b(212).length+5,q=this.b(189),4<q.length&&(Z-=q.length+3),0<Z&&w(212,this,R(Z,2).concat(S(Z)),10),4<q.length&&w(212,this,R(q.length,2).concat(q),153)}finally{this.P=g}if(n=((g=S(2).concat(this.b(212)),g[1]=g[0]^3,g)[3]=g[1]^G[0],g[4]=g[1]^G[1],window).btoa){for(q=(Z="",0);q<g.length;q+=8192)Z+=String.fromCharCode.apply(null,g.slice(q,q+8192));n=n(Z).replace(/\\+/g,"-").replace(/\\//g,"_").replace(/=/g,"")}else n=void 0;if(n)n="!"+n;else for(n="",Z=0;Z<g.length;Z++)q=g[Z][this.V](16),1==q.length&&(q="0"+q),n+=q;return d(110,(((g=n,this).b(212).length=a[0],this.b(189).length=a[1],this).b(5).length=a[2],this),a[3]),g}if(m==b)l(this,G[1]);else if(m==T)return l(this,G[1])}}),function(G,m){m.K.splice(0,0,G)}),B=(t.prototype.J=36,t.prototype.N=function(G){return(G=G().shift(),this.C()).length||this.T().length||(this.T=this.C=void 0,this.o--),G},{}),d=function(G,m,n){if(142==G||151==G)if(m.$[G])m.$[G][m.V](n);else m.$[G]=m.$w(n);else if(212!=G&&189!=G&&5!=G&&1!=G&&161!=G||!m.$[G])m.$[G]=m.G(n,m.b);72==G&&(m.M=void 0,d(142,m,m.b(142)+32))},l=function(G,m,n){return i7(G,((n=G.b(142),G).a&&n<G.I?(d(142,G,G.I),Hu(G,m)):d(142,G,m),n))},Y=false,ma=(J=L.botguard||(L.botguard={}),function(G,m,n,a,Z){for(;n.K.length;){if(G=G&&m)n.m&&n.S?(n.S=false,G=0!=document.hidden?false:true):G=false;if(G){(Z=n,n).kw(function(){W(Z,m,false,false)});break}a=(a=(G=true,n).K.pop(),Gm)(a,n)}return a});J.bg=(J.ALz=function(G,m,n){n=new t(G,{U:m}),this.invoke=function(a,Z,q){return(q=n.h(Z&&a,q),a)&&!Z&&a(q),q}},function(G,m,n){return G&&G.substring&&(n=J[G.substring(0,3)])?new n(G.substring(3),m):new J.ALz(G,m)});try{J.u||(L.addEventListener("unload",function(){},Y),J.u=1)}catch(G){}try{L.addEventListener("test",null,Object.defineProperty({},"passive",{get:function(){Y={passive:true}}}))}catch(G){};')();</script>
  <script type="text/javascript" nonce="ntBNYADmx9be97qA8ipyFw">
  document.bg = new botguard.bg('ALzaaYODLfIOgrhVUQbPOaNPj9+Ya7uaTU9N7OOMn07A0ynZ4niVpHLQHo1Sp0HZAzRLsp6oit4tMrBDebEICKqhjH9McX/NmMUf5nT493M0gjR2cYspcXfRpErKWh9JJJJlYiZ+NQvGBxjWVkdFzzgx2ZdeHVz3VrXnI881EgHmfiYiRgx17cy8tF2UH85tT6L9DvwkAFAzLF+QKW2JwwGEGu7qlvsp96tRDzdhF3SNkZfZAWrl7NzRaM8d4bHfluAyQy2d3MoziqSRY56bqtFS670HrIYAWY+bgl5Hw2U3wOzeIFCuggFm8/vBtm2anWSH4Z8ihyYybo5dJ+qjvb6ntLtRjEQDH4NP5FfNp7tB1yuxh2+5R7V91e/bVsFgxR5DmT2La92pm8pJwKp8Yt41W5nx7bVBWb1toYhWT/5xbojBcBKReW/do3JTY3Pm3V8Fus6RdNg8elS30cqDBO/8aUqc8cDKecIvpt7V9izl+gojewINXkVbR64hf0YN4g10EwO3DfQvsaC4rRLlFHDYBJYEKSohA8AeVjchj+OslEk0qpugx/q39lcmdTTjv/bDP8sc6emmpovG07bjV5FiZ3lsMJVoIGjf/61kYlT5osc34zXvHrS0h8Nlfao7wF/3/scu5ZDsKtNGkO63j32VOmIGQTHLisb9IFOJAW8bc4B32LficT1Kik5mV4BWA9UGiGDughFZ+0O//znwT3bge1YZHNscVrLqfSh+5P+e9Vtz2uVuWIBDzr6gKCEOCmJxo+hUqUlx/S1C5gdlF3SYq9u2syckbhBX/orgmcxDNLQEX/BnYhZqFxVjWRLcq9YEDRECv3B9dRyRC67F6uOiKbejeXtHzt3/JMtwES3aeORdP/+EEEtoexS5UpYENXXQVw9Wo/s9nyBxRJmRg6MiZk19s9z6IqT3TQ0tGwtumwUG9BYzK0xM/paQwScsX3qfjgHLeIWlhBtds1+aZ9D18cQ0chnnn0m2PqPfesYCh4WlC0g5EDqBoe5o8TStl2i/f4gUuCY3K72h4a1DI5Hx3fJYUZ6XpGxwceoSr9EdAAcnoUMFmBhiAT258bwSax4rNumaMFtENF/mve+8APb+4VhU3l6WIsoYuu1dIe9GEMR1XRCocUqXoEfC4+zKrQbHsxlmFxr6mpbilOvsMPIjHtgXON7nVEHPgCcjzW0g4xczB1InsORr4Fk/1oiBruxsDqZRc4XKUuL2EL9TfPUiH+gWc22jiWm6SPX7+1FJxiVn7JvbyawfdyFX2mSP8ouyckMZ7q2bbQyiDwNPbI1hOi2KdvxmQ7Zq4u/crMNO1cQfTwRnt4TCK4kePgRym+1uyjxqf4wpKzSE754HDS/Q5c4feAeFXVHFnECdstAoNOOdhOCeoXkybdKeUZH/p2USaOA/G4K24MExoxPdM0P7QKdZn8BtIzF4PI44ej7krzOi1RwL0VN/UzKymNk2XTXihSDWUZmWkDBc3LAFNPaw5Bbq567eu8EE5llMjQU0+VTVmlCuR82JuAe4Gx2tab5AQnt5oZYcZYZfz2Dwi9imhPJQ/wVbwsRYU6of/AG/IsnRVqgP7BP9BSW3vWmLoU/FLbIkxKVDRTkR8IuqOxlikkdnlozbmE2C/DvLUyndlqKWuVGU6+z+dwRm8RpUzpgm9LTfib7MyyzlObaFKF7KHWt10czBkaG47bL8+hAn7fUTTxGgaRJATASOOfOvKxgc32oSnf5Ev3hMvgAfNuOw5FDaXbSF9CFVB/VUmUffkGKbs6+Ya+McSR15UFHHuJOxKC84B9gSNe6fMLghDUpLCzrVJYT/LwimRmM/8k9ZSy7yMW7dBxyAVD0lves2LxraI/R58FMLr/321rRc/klU9PWRYxYViJj5Of2wSe2lxdVfIaCwIQ7PGhrLpOM/4N59zCWiZXM8n83EzwVEW+FrHrwSGjhbPBJ88BzMds46CWCcDuHoo66dcCbcaBnYMnX9gxIAzffcYLsSXfatEvx0AQZ280/7JQLO2TXsHrJsUqUObKxMuzY+wenj9+JmTx2nGFHjfzxC1+TfOaGpHfF7rCNNdvVauHHPVjdaYeDwDNBavCU+Fv//r1SiiF8b2QbWJ3S73rCEl57577Psf8g6HuPg9uAXIkpiUroDSlfKyGLbJk6X92Snpo+40G+tXBSX0HxPs34SypJOp0DHpf6fB8tYMWzS0gGdgP+flmW+Kb7LkE+A6/CEW816b5jeb2uSdZU3EwApjLhfNmvgYcxyK/pfpR8k63ATbA1UeGIId9cP7XDZ22V87nbwJlUwntWSCWzQ/dODYweMJGYP2LtFk+1oRxg2Qtuj569GyHR5kdwYmxeHiFByiU5/gN1WF86LqIyBLDG/JRqDG01tmfxMpdXBj5krt7+7kVSJzOet7CY6Xc1PyhyREFRxsOfyywmn5WMaB38PxZjYwkK6Dd0ZUJN5uesMIbrS6oMwJ1+91dlmhidduai5foiz9jkvLb7galuna/Moldfrdo6wzvH7rTvwZhv7SWOIx8JxxoWesCCrJitiNytat9m/Hg4SxLNejkHreGezM5aTriU1zLCTxBLDY+PvuM95Y0ooGxoCBLa9xQMNvpUYDR8FtseqsP5MncjHFyoKkaRKtiHiNYN0GscFNKgWPQ3I3HRv12ulbVGsE9VwwiGIAcpP7zeQTmkwumRh6llRgDa70izxmqwqDNKphYpUqQfnJfe5Pw9Ch9V2L/6wwoA1XraTWREBozxbce4S75B/orM4MPj8kBk21rC8MtNwNWXlK/mC7rpD2DrmnSeoZ5U82xQ7C40HEbZpIYugGCs3GlKzyL1BThYBg4WO2tLajeIWJAgsG3yqghPKHe4yaK9UC+tn9DdmrjhQ0R4C5taVY8dL6BgFLdkNJZdZuDBKrVE4+XM8mHwYHNbb4yIsaWAkwwSLd3Bv/s5045CjpxNBcuOH/sp+E3jGst+y6Wkom+YcwiJ3kAKycmEQdHDyujW3IKLsYlq1TrCLWX6StN8+Y/Uprf/978pq77eV6xrsbM14lU8tdHYu7LUKhzYI8ReK9o8yUC5Zg4JAoVio32SkgvCiZ8QwLHe8hYG+tbVUMtb5vm4B2LrcqnfYNLgco16SaQpmAwO/gKjktwHztEMHGlgYCx5MnVkzAigBZM3WiHxzrQD4drVzW+Zaq4HpOJhovgsRnXHNDpdjVnkjcoH1UlsduqeoschaqU9WDHwtoXhN74dOnRkyXpW5C8Q+/xkqhbAEXUAQEDcjTjBxA6jaJsScpO13fw0UH6k9DlhsZh+Z4AHWQWJfy+piVXfnojgORayI2BnvaDGYTDVOfZz7bOZB4eVNvjamFGxMVdu1YWt1szKOgEgFrzQKZBDcT51OwvRe2+66u7FVuXUHxTQ5iPPFI8yR8g7kNzKgSJ5B+5Eh7Mf8ZMAU/t2PLmgAAxdUXJLC3uSMMFvNWIRuhNWdLtZ1C/tyWuRPTsFgCiOdDSKW/dWzNU2BJEkk7YQBCGdP8PXyIk/rkukWzp050Ga5AfQBrTELbPNle8JcpMBuV0Gls+7W2gR5dOrJc61Cuh02/P66bcnF8lOVFQV81KeuAPivNZRLnOWZvBGNOgtQZjcwEbny2aXvjcdMZPwaQL0F4jhS1b4Jdmur8E3CCefCF/Q8rQzy/Rw1kBfXUx1arkSHV2nL+UtCn2/khDhP6GqQTMFwIE1X13RevwKbO4pVDo3nynoIut6YAfJO5lYWgztRdNlFaVIKpRCPebGNaaVLw57dOfbCPaswDminaNruLP4PN9cTId9scVrrkMwSo/wEbCTpMVrgjwt143C4kcEwQhjwz3FFi6/CYTnQLNZeWcgPffWWjModyZnZ/d4P2LxKsRES92ud0izDQCtcyXPao58STFhFmGqM7hiGL1/D4B0He0aFQX2pzkUe5FQTvJ9OOBFyfQVXqpe8lcQvppwQWO0qgsPnWACIAMbs/zdHhZCfNPDlCQ2CpqXR8GT4xOGc02Qz+01bwGHNBFM4qmHav3EgoE0viaDFdMUqboo4Kd/t4B5ErZVWsZpAXxH9AgB1AqxWef9sW2ntZ+AN88i+cKW4sFLXiLJCmgFJSuytGv/sxwZE7xmMZzknjUG367hQFsegneo0LhF5OxxoivCfXmdMFQcQ3d9RR56g86B0z7XLoRE5h2zWFF/4zgAkZ5Z66m4/n1Vu2JCcCGqWieBdDB3y/fhgwHHBmNkjO2obwQH92hs2CRhl+q7Ro+gvWZwvRCPPvUgZs4idOQTdaSIgutp4h4eNCdB/DOg0xLUIEhzQ0QTcLO0kL0XHVHwmGwJ+REMqCPz+XjbpkXxH2pkR+d77yM5EB2Ou+swS+lnuS5ky5gU+gXmG8GNzkUEXLtC87/jGPR9/nkKqtei6/vZ61gDYI6hz3Qk4FNDwgXAiom5c/5P/Ldlv2bVcLwLgpvoliinZbqBMqC8KJPaeqg6fSJxWvs2mohrW3bBFr9hN7zqy3/AB8BVw7nb1bM02POSWxxAx/n8Nr5KWBf8WODV32yWfp1F0XOoZinY3k3B2GlfAW9BmAVUVA6ylzgrqkUMOL6fJ2H3goQDLPMSxS3wPC8eXFUIaHLqovd5durU+oDA2aMLPzDOn0B6AAhQZbx+mLKsSSdJcAKCX1MM59+zff0v5SVdQY5GPrGIN5EcG4GDlXvUvF8bdd0bekivIQ0xecIYXNk85yAteGw0bIbcJ1IV1CPDbih0+DLgNvgrYTBkdgwgCSbdQm9Pzwq3wC1ZII9fBT+OYNyIbMqmse81jOAX3JWF5m+gTrgvOry7QuOQnRGRGkiIO5er7pDeYRRAaPT24GmPH9WDnv/18mp+0mJpGziq4vD/2KTE3QZ7njEgCrCexhoWUM1rPAfxdBNPPvOW9JGar/a3Y6umu15L129LwZkb/GrIiBrBbEaoABdgGnq9LtYZSmfyKGm+PScr3hbLlB2HgxOy1rWIVoWNDRJ+85KImUC7GMXgPkQKhPgkx3Bv78Gtp1BiJsICahUuHLQXQk9VDdgVvHP9/3hvQ7GznDsIhgJD6X9H54HzppL//vxGhtJc/W+4qcaj487Ks6svM3oby8p67St7z0g4CusYd5W2GJT8oaq9UirlVFVXMkA7qnSKVdW6lpSfjDRD1qLt8fsUaJdiOu4/Y9e9leTg/VwIIeaRNEzm+vdufwekBKkOxYoT7wZN1TcCFiQOm2gUYvIwDkftD4Xy0sFQXILE0AdsljXQtjKnuVZiP37FH9cfSDqIlKPUpvsYSAELA/RS5zb6/Nq+UIm8NlK+0NCQwUnF4K5FTcZX12tT7HsXII8mRqg8o4J2lReeFSCOj8Fo2Q4lC82CDOokhHsuw316yKN4t6ax4OLexu3ld7W0hfYQy9ARK9rH1/8DY/q4q2tcN7l/pwsZgC+EFugbogy9Xv1fLojy9zULt44ahQ0WGGKN/eyKqEZGjlvnMnEcYut5LZKA95DxI3bAgqym/sM8Q+qHEFqGrUZkvDb79Q7ZBr1QBAo4EDPB5f7bCpbWCinfyYbfSt6gu1xhgzitLrWmki6O3J/bZIjHXE4TLsYoQ9KvXkFmXxig9xquARQFsNe3WNnqFja7pHTszn+d78/ELU8pKK+RDdPa0uSzLb0uzSeJLtIZuVcGLvub1m2s+OekbbamppM11Ur5LB0f9xFLRyeAJBv/xAE8Q/pBJBj+/4t/s5aPS9tuDxBOyWonjdbaoiBJBREcqd7TFIxP7p1b9thqs4hgPzf+CT4YK31TzJQU9U/EDBIo1BnCqnNNHnnt/IeoeG5kX/qZE7A+vuVWWHtsl8s8c0Ltqd7dAagLrvcdYdpgffPDFKdPdkQUKxZZ30szwrYN437IUbzwrWYBLd5VaxWcmxa+B1ffTHl65eubZaZAYeHXuXWg8YTKxaZ3g40GV1n9KvJC8jUGy4+UsCJZSkAw/qy/UKitvZIZwzr2CXtnPcN8rdF8znCrv1xKd/T6z4GHwMerI5u6/44dkZQcutk+t+Sg+aMdIVQcyFHJTbhnQBCOjM7QTCGjSBncdQPhlc+JyfpVYFlHKMRKQQrTJ6D2PLjuUsnzoZiEPxJNBhCcElR6kcfa+rwlbKQW0x64pXDAO1JiQ1jDAmAugXTPN5/wniR7QVQMIYHrT4f5i4/gw5HydOhf563P7vWnF05yM4pHjfzx33hXwg3mU26DccimaARQO9bUGA==');
  </script>
<script nonce="ntBNYADmx9be97qA8ipyFw">
  gaia = window.gaia || {};
  gaia.ps = gaia.ps || {};
  gaia.ps.hasPrefilledIdentifier = false;
  function gaia_parseFragment() {
  var hash = location.hash;
  var params = {};
  if (!hash) {
  return params;
  }
  var paramStrs = decodeURIComponent(hash.substring(1)).split('&');
  for (var i = 0; i < paramStrs.length; i++) {
      var param = paramStrs[i].split('=');
      params[param[0]] = param[1];
    }
    return params;
  }

  function gaia_prefillEmail() {
    var email = null;
    var form = null;
    if (document.getElementById) {
      email = document.getElementById('Email');
      form = document.getElementById('gaia_loginform');
    }
    if (form && email && (email.value == null || email.value == '')
        && (email.type != 'hidden')) {
      hashParams = gaia_parseFragment();
      if (hashParams['Email'] && hashParams['Email'] != '') {
        email.value = hashParams['Email'];
      }
    }
  }

  
  try {
    gaia_prefillEmail();
  } catch (e) {
  }
  
</script>
<script nonce="ntBNYADmx9be97qA8ipyFw">
  var gaia_scrollToElement = function(element) {
  var calculateOffsetHeight = function(element) {
  var curtop = 0;
  if (element.offsetParent) {
  while (element) {
  curtop += element.offsetTop;
  element = element.offsetParent;
  }
  }
  return curtop;
  }
  var siginOffsetHeight = calculateOffsetHeight(element);
  var scrollHeight = siginOffsetHeight - window.innerHeight +
  element.clientHeight + 0.02 * window.innerHeight;
  window.scroll(0, scrollHeight);
  }
</script>
  <script nonce="ntBNYADmx9be97qA8ipyFw">
  if (gaia.ps.hasPrefilledIdentifier) {
  var form = document.getElementById('gaia_loginform');
  if (form) {
  form.submit();
  }
  }
  </script>
<script nonce="ntBNYADmx9be97qA8ipyFw">
  (function(){
  gaia_onLoginSubmit = function() {
  try {
  gaia.loginAutoRedirect.stop();
  } catch (err) {
  // do not prevent form from being submitted
  }
  try {
  document.bg.invoke(function(response) {
  document.getElementById('bgresponse').value = response;
  });
  } catch (err) {
  document.getElementById('bgresponse').value = '';
  }
  return true;
  }
  document.getElementById('gaia_loginform').onsubmit = gaia_onLoginSubmit;
  var signinButton;
  signinButton = document.getElementById('next');
  gaia_attachEvent(window, 'load', function(){
  gaia_scrollToElement(signinButton);
  });
  })();
</script>
  <script nonce="ntBNYADmx9be97qA8ipyFw">var e=this,g=function(b,c){b=b.split(".");var a=e;b[0]in a||!a.execScript||a.execScript("var "+b[0]);for(var d;b.length&&(d=b.shift());)b.length||void 0===c?a[d]?a=a[d]:a=a[d]={}:a[d]=c};var h=function(){try{return new XMLHttpRequest}catch(a){for(var b=["MSXML2.XMLHTTP.6.0","MSXML2.XMLHTTP.3.0","MSXML2.XMLHTTP","Microsoft.XMLHTTP"],c=0;c<b.length;c++)try{return new ActiveXObject(b[c])}catch(d){}}return null};g("gaia.ajax.newXmlHttpRequest",h);var k=function(){this.a=h();this.parameters={}};g("gaia.ajax.XmlHttpFormRequest",k);
k.prototype.send=function(b,c){var a=[],d;for(d in this.parameters)a.push(d+"="+encodeURIComponent(this.parameters[d]));a=a.join("&");var f=this.a;f.open("POST",b,!0);f.setRequestHeader("Content-type","application/x-www-form-urlencoded");f.onreadystatechange=function(){4==f.readyState&&c({status:f.status,text:f.responseText})};f.send(a)};k.prototype.send=k.prototype.send;
k.prototype.h=function(b,c,a){var d=this.a;d.open("POST",b,!0);d.setRequestHeader("Content-type","application/json");d.onreadystatechange=function(){4==d.readyState&&a({status:d.status,text:d.responseText})};d.send(c)};k.prototype.sendJson=k.prototype.h;k.prototype.get=function(b,c){var a=this.a;a.open("GET",b,!0);a.onreadystatechange=function(){4==a.readyState&&c({status:a.status,text:a.responseText})};a.send()};k.prototype.get=k.prototype.get;var l=/\s*;\s*/,m=function(){if(!document.cookie)return"";for(var b=document.cookie.split(l),c=0;c<b.length;c++){var a=b[c];a=a.replace(/^\s+/,"");a=a.replace(/\s+$/,"");if(0==a.indexOf("APISID="))return a.substr(7)}return""};var n=null,p=function(b,c){this.g=b;this.f=c;this.c=m();this.b=!1},q=function(){var b=n,c=m();c==b.c||b.b||(b.c=c,(new k).get(b.f,function(a){var d=n;a&&a.status&&200==a.status&&"OK"==a.text&&(d.a&&clearInterval(d.a),d.b||(window.location=d.g))}))};p.prototype.start=function(b){if(this.a)return!1;this.a=setInterval(function(){q()},b);return!0};g("gaia.loginAutoRedirect.start",function(b,c,a){if(n||!a||!c||0>=b)return!1;n=new p(c,a);return n.start(b)});
g("gaia.loginAutoRedirect.stop",function(){var b=n;b.b=!0;b.a&&(clearInterval(b.a),b.a=null)});
</script>
  <script type="text/javascript" nonce="ntBNYADmx9be97qA8ipyFw">
  gaia.loginAutoRedirect.start(5000,
  'https:\x2F\x2Faccounts.google.com\x2FServiceLogin?continue=https%3A%2F%2Fdocs.google.com%2Fuc%3Fexport%3Ddownload%26id%3D1d_ourbLJnhBrfPieLlQNc696Q5Tx9zBe\x26followup=https%3A%2F%2Fdocs.google.com%2Fuc%3Fexport%3Ddownload%26id%3D1d_ourbLJnhBrfPieLlQNc696Q5Tx9zBe\x26service=wise\x26ltmpl=homepage\x26passive=1209600\x26noautologin=true',
  'https:\x2F\x2Faccounts.google.com\x2FPassiveLoginProber?continue=https%3A%2F%2Fdocs.google.com%2Fuc%3Fexport%3Ddownload%26id%3D1d_ourbLJnhBrfPieLlQNc696Q5Tx9zBe\x26followup=https%3A%2F%2Fdocs.google.com%2Fuc%3Fexport%3Ddownload%26id%3D1d_ourbLJnhBrfPieLlQNc696Q5Tx9zBe\x26service=wise\x26ltmpl=homepage\x26passive=1209600');
  </script>
  </body>
</html>
