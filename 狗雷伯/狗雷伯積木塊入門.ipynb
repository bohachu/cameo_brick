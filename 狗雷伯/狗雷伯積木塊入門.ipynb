
<!DOCTYPE html>
<html lang="en">
  <head>
  <meta charset="utf-8">
  <meta content="width=300, initial-scale=1" name="viewport">
  <meta name="description" content="Google Drive is a free way to keep your files backed up and easy to reach from any phone, tablet, or computer. Start with 15GB of Google storage – free.">
  <meta name="google-site-verification" content="LrdTUW9psUAMbh4Ia074-BPEVmcpBxF6Gwf0MSgQXZs">
  <title>Meet Google Drive – One place for all your files</title>
  <style>
  @font-face {
  font-family: 'Open Sans';
  font-style: normal;
  font-weight: 300;
  src: local('Open Sans Light'), local('OpenSans-Light'), url(//fonts.gstatic.com/s/opensans/v15/mem5YaGs126MiZpBA-UN_r8OUuhs.ttf) format('truetype');
}
@font-face {
  font-family: 'Open Sans';
  font-style: normal;
  font-weight: 400;
  src: local('Open Sans'), local('OpenSans'), url(//fonts.gstatic.com/s/opensans/v15/mem8YaGs126MiZpBA-UFVZ0e.ttf) format('truetype');
}
  </style>
  <style>
  h1, h2 {
  -webkit-animation-duration: 0.1s;
  -webkit-animation-name: fontfix;
  -webkit-animation-iteration-count: 1;
  -webkit-animation-timing-function: linear;
  -webkit-animation-delay: 0;
  }
  @-webkit-keyframes fontfix {
  from {
  opacity: 1;
  }
  to {
  opacity: 1;
  }
  }
  </style>
<style>
  html, body {
  font-family: Arial, sans-serif;
  background: #fff;
  margin: 0;
  padding: 0;
  border: 0;
  position: absolute;
  height: 100%;
  min-width: 100%;
  font-size: 13px;
  color: #404040;
  direction: ltr;
  -webkit-text-size-adjust: none;
  }
  button,
  input[type=button],
  input[type=submit] {
  font-family: Arial, sans-serif;
  font-size: 13px;
  }
  a,
  a:hover,
  a:visited {
  color: #427fed;
  cursor: pointer;
  text-decoration: none;
  }
  a:hover {
  text-decoration: underline;
  }
  h1 {
  font-size: 20px;
  color: #262626;
  margin: 0 0 15px;
  font-weight: normal;
  }
  h2 {
  font-size: 14px;
  color: #262626;
  margin: 0 0 15px;
  font-weight: bold;
  }
  input[type=email],
  input[type=number],
  input[type=password],
  input[type=tel],
  input[type=text],
  input[type=url] {
  -moz-appearance: none;
  -webkit-appearance: none;
  appearance: none;
  display: inline-block;
  height: 36px;
  padding: 0 8px;
  margin: 0;
  background: #fff;
  border: 1px solid #d9d9d9;
  border-top: 1px solid #c0c0c0;
  -moz-box-sizing: border-box;
  -webkit-box-sizing: border-box;
  box-sizing: border-box;
  -moz-border-radius: 1px;
  -webkit-border-radius: 1px;
  border-radius: 1px;
  font-size: 15px;
  color: #404040;
  }
  input[type=email]:hover,
  input[type=number]:hover,
  input[type=password]:hover,
  input[type=tel]:hover,
  input[type=text]:hover,
  input[type=url]:hover {
  border: 1px solid #b9b9b9;
  border-top: 1px solid #a0a0a0;
  -moz-box-shadow: inset 0 1px 2px rgba(0,0,0,0.1);
  -webkit-box-shadow: inset 0 1px 2px rgba(0,0,0,0.1);
  box-shadow: inset 0 1px 2px rgba(0,0,0,0.1);
  }
  input[type=email]:focus,
  input[type=number]:focus,
  input[type=password]:focus,
  input[type=tel]:focus,
  input[type=text]:focus,
  input[type=url]:focus {
  outline: none;
  border: 1px solid #4d90fe;
  -moz-box-shadow: inset 0 1px 2px rgba(0,0,0,0.3);
  -webkit-box-shadow: inset 0 1px 2px rgba(0,0,0,0.3);
  box-shadow: inset 0 1px 2px rgba(0,0,0,0.3);
  }
  input[type=checkbox],
  input[type=radio] {
  -webkit-appearance: none;
  display: inline-block;
  width: 13px;
  height: 13px;
  margin: 0;
  cursor: pointer;
  vertical-align: bottom;
  background: #fff;
  border: 1px solid #c6c6c6;
  -moz-border-radius: 1px;
  -webkit-border-radius: 1px;
  border-radius: 1px;
  -moz-box-sizing: border-box;
  -webkit-box-sizing: border-box;
  box-sizing: border-box;
  position: relative;
  }
  input[type=checkbox]:active,
  input[type=radio]:active {
  background: #ebebeb;
  }
  input[type=checkbox]:hover {
  border-color: #c6c6c6;
  -moz-box-shadow: inset 0 1px 2px rgba(0,0,0,0.1);
  -webkit-box-shadow: inset 0 1px 2px rgba(0,0,0,0.1);
  box-shadow: inset 0 1px 2px rgba(0,0,0,0.1);
  }
  input[type=radio] {
  -moz-border-radius: 1em;
  -webkit-border-radius: 1em;
  border-radius: 1em;
  width: 15px;
  height: 15px;
  }
  input[type=checkbox]:checked,
  input[type=radio]:checked {
  background: #fff;
  }
  input[type=radio]:checked::after {
  content: '';
  display: block;
  position: relative;
  top: 3px;
  left: 3px;
  width: 7px;
  height: 7px;
  background: #666;
  -moz-border-radius: 1em;
  -webkit-border-radius: 1em;
  border-radius: 1em;
  }
  input[type=checkbox]:checked::after {
  content: url(https://ssl.gstatic.com/ui/v1/menu/checkmark.png);
  display: block;
  position: absolute;
  top: -6px;
  left: -5px;
  }
  input[type=checkbox]:focus {
  outline: none;
  border-color: #4d90fe;
  }
  .stacked-label {
  display: block;
  font-weight: bold;
  margin: .5em 0;
  }
  .hidden-label {
  position: absolute !important;
  clip: rect(1px 1px 1px 1px); /* IE6, IE7 */
  clip: rect(1px, 1px, 1px, 1px);
  height: 0px;
  width: 0px;
  overflow: hidden;
  visibility: hidden;
  }
  input[type=checkbox].form-error,
  input[type=email].form-error,
  input[type=number].form-error,
  input[type=password].form-error,
  input[type=text].form-error,
  input[type=tel].form-error,
  input[type=url].form-error {
  border: 1px solid #dd4b39;
  }
  .error-msg {
  margin: .5em 0;
  display: block;
  color: #dd4b39;
  line-height: 17px;
  }
  .help-link {
  background: #dd4b39;
  padding: 0 5px;
  color: #fff;
  font-weight: bold;
  display: inline-block;
  -moz-border-radius: 1em;
  -webkit-border-radius: 1em;
  border-radius: 1em;
  text-decoration: none;
  position: relative;
  top: 0px;
  }
  .help-link:visited {
  color: #fff;
  }
  .help-link:hover {
  color: #fff;
  background: #c03523;
  text-decoration: none;
  }
  .help-link:active {
  opacity: 1;
  background: #ae2817;
  }
  .wrapper {
  position: relative;
  min-height: 100%;
  }
  .content {
  padding: 0 44px;
  }
  .main {
  padding-bottom: 100px;
  }
  /* For modern browsers */
  .clearfix:before,
  .clearfix:after {
  content: "";
  display: table;
  }
  .clearfix:after {
  clear: both;
  }
  /* For IE 6/7 (trigger hasLayout) */
  .clearfix {
  zoom:1;
  }
  .google-header-bar {
  height: 71px;
  border-bottom: 1px solid #e5e5e5;
  overflow: hidden;
  }
  .header .logo {
  background-image: url(https://ssl.gstatic.com/accounts/ui/logo_1x.png);
  background-size: 116px 38px;
  background-repeat: no-repeat;
  margin: 17px 0 0;
  float: left;
  height: 38px;
  width: 116px;
  }
  .header .logo-w {
  background-image: url(https://ssl.gstatic.com/images/branding/googlelogo/1x/googlelogo_color_112x36dp.png);
  background-size: 112px 36px;
  margin: 21px 0 0;
  }
  .header .secondary-link {
  margin: 28px 0 0;
  float: right;
  }
  .header .secondary-link a {
  font-weight: normal;
  }
  .google-header-bar.centered {
  border: 0;
  height: 108px;
  }
  .google-header-bar.centered .header .logo {
  float: none;
  margin: 40px auto 30px;
  display: block;
  }
  .google-header-bar.centered .header .secondary-link {
  display: none
  }
  .google-footer-bar {
  position: absolute;
  bottom: 0;
  height: 35px;
  width: 100%;
  border-top: 1px solid #e5e5e5;
  overflow: hidden;
  }
  .footer {
  padding-top: 7px;
  font-size: .85em;
  white-space: nowrap;
  line-height: 0;
  }
  .footer ul {
  float: left;
  max-width: 80%;
  min-height: 16px;
  padding: 0;
  }
  .footer ul li {
  color: #737373;
  display: inline;
  padding: 0;
  padding-right: 1.5em;
  }
  .footer a {
  color: #737373;
  }
  .lang-chooser-wrap {
  float: right;
  display: inline;
  }
  .lang-chooser-wrap img {
  vertical-align: top;
  }
  .lang-chooser {
  font-size: 13px;
  height: 24px;
  line-height: 24px;
  }
  .lang-chooser option {
  font-size: 13px;
  line-height: 24px;
  }
  .hidden {
  height: 0px;
  width: 0px;
  overflow: hidden;
  visibility: hidden;
  display: none !important;
  }
  .banner {
  text-align: center;
  }
  .card {
  background-color: #f7f7f7;
  padding: 20px 25px 30px;
  margin: 0 auto 25px;
  width: 304px;
  -moz-border-radius: 2px;
  -webkit-border-radius: 2px;
  border-radius: 2px;
  -moz-box-shadow: 0px 2px 2px rgba(0, 0, 0, 0.3);
  -webkit-box-shadow: 0px 2px 2px rgba(0, 0, 0, 0.3);
  box-shadow: 0px 2px 2px rgba(0, 0, 0, 0.3);
  }
  .card > *:first-child {
  margin-top: 0;
  }
  .rc-button,
  .rc-button:visited {
  display: inline-block;
  min-width: 46px;
  text-align: center;
  color: #444;
  font-size: 14px;
  font-weight: 700;
  height: 36px;
  padding: 0 8px;
  line-height: 36px;
  -moz-border-radius: 3px;
  -webkit-border-radius: 3px;
  border-radius: 3px;
  -o-transition: all 0.218s;
  -moz-transition: all 0.218s;
  -webkit-transition: all 0.218s;
  transition: all 0.218s;
  border: 1px solid #dcdcdc;
  background-color: #f5f5f5;
  background-image: -webkit-linear-gradient(top,#f5f5f5,#f1f1f1);
  background-image: -moz-linear-gradient(top,#f5f5f5,#f1f1f1);
  background-image: -ms-linear-gradient(top,#f5f5f5,#f1f1f1);
  background-image: -o-linear-gradient(top,#f5f5f5,#f1f1f1);
  background-image: linear-gradient(top,#f5f5f5,#f1f1f1);
  -o-transition: none;
  -moz-user-select: none;
  -webkit-user-select: none;
  user-select: none;
  cursor: default;
  }
  .card .rc-button {
  width: 100%;
  padding: 0;
  }
  .rc-button.disabled,
  .rc-button[disabled] {
  opacity: .5;
  filter: alpha(opacity=50);
  cursor: default;
  pointer-events: none;
  }
  .rc-button:hover {
  border: 1px solid #c6c6c6;
  color: #333;
  text-decoration: none;
  -o-transition: all 0.0s;
  -moz-transition: all 0.0s;
  -webkit-transition: all 0.0s;
  transition: all 0.0s;
  background-color: #f8f8f8;
  background-image: -webkit-linear-gradient(top,#f8f8f8,#f1f1f1);
  background-image: -moz-linear-gradient(top,#f8f8f8,#f1f1f1);
  background-image: -ms-linear-gradient(top,#f8f8f8,#f1f1f1);
  background-image: -o-linear-gradient(top,#f8f8f8,#f1f1f1);
  background-image: linear-gradient(top,#f8f8f8,#f1f1f1);
  -moz-box-shadow: 0 1px 1px rgba(0,0,0,0.1);
  -webkit-box-shadow: 0 1px 1px rgba(0,0,0,0.1);
  box-shadow: 0 1px 1px rgba(0,0,0,0.1);
  }
  .rc-button:active {
  background-color: #f6f6f6;
  background-image: -webkit-linear-gradient(top,#f6f6f6,#f1f1f1);
  background-image: -moz-linear-gradient(top,#f6f6f6,#f1f1f1);
  background-image: -ms-linear-gradient(top,#f6f6f6,#f1f1f1);
  background-image: -o-linear-gradient(top,#f6f6f6,#f1f1f1);
  background-image: linear-gradient(top,#f6f6f6,#f1f1f1);
  -moz-box-shadow: 0 1px 2px rgba(0,0,0,0.1);
  -webkit-box-shadow: 0 1px 2px rgba(0,0,0,0.1);
  box-shadow: 0 1px 2px rgba(0,0,0,0.1);
  }
  .rc-button-submit,
  .rc-button-submit:visited {
  border: 1px solid #3079ed;
  color: #fff;
  text-shadow: 0 1px rgba(0,0,0,0.1);
  background-color: #4d90fe;
  background-image: -webkit-linear-gradient(top,#4d90fe,#4787ed);
  background-image: -moz-linear-gradient(top,#4d90fe,#4787ed);
  background-image: -ms-linear-gradient(top,#4d90fe,#4787ed);
  background-image: -o-linear-gradient(top,#4d90fe,#4787ed);
  background-image: linear-gradient(top,#4d90fe,#4787ed);
  }
  .rc-button-submit:hover {
  border: 1px solid #2f5bb7;
  color: #fff;
  text-shadow: 0 1px rgba(0,0,0,0.3);
  background-color: #357ae8;
  background-image: -webkit-linear-gradient(top,#4d90fe,#357ae8);
  background-image: -moz-linear-gradient(top,#4d90fe,#357ae8);
  background-image: -ms-linear-gradient(top,#4d90fe,#357ae8);
  background-image: -o-linear-gradient(top,#4d90fe,#357ae8);
  background-image: linear-gradient(top,#4d90fe,#357ae8);
  }
  .rc-button-submit:active {
  background-color: #357ae8;
  background-image: -webkit-linear-gradient(top,#4d90fe,#357ae8);
  background-image: -moz-linear-gradient(top,#4d90fe,#357ae8);
  background-image: -ms-linear-gradient(top,#4d90fe,#357ae8);
  background-image: -o-linear-gradient(top,#4d90fe,#357ae8);
  background-image: linear-gradient(top,#4d90fe,#357ae8);
  -moz-box-shadow: inset 0 1px 2px rgba(0,0,0,0.3);
  -webkit-box-shadow: inset 0 1px 2px rgba(0,0,0,0.3);
  box-shadow: inset 0 1px 2px rgba(0,0,0,0.3);
  }
  .rc-button-red,
  .rc-button-red:visited {
  border: 1px solid transparent;
  color: #fff;
  text-shadow: 0 1px rgba(0,0,0,0.1);
  background-color: #d14836;
  background-image: -webkit-linear-gradient(top,#dd4b39,#d14836);
  background-image: -moz-linear-gradient(top,#dd4b39,#d14836);
  background-image: -ms-linear-gradient(top,#dd4b39,#d14836);
  background-image: -o-linear-gradient(top,#dd4b39,#d14836);
  background-image: linear-gradient(top,#dd4b39,#d14836);
  }
  .rc-button-red:hover {
  border: 1px solid #b0281a;
  color: #fff;
  text-shadow: 0 1px rgba(0,0,0,0.3);
  background-color: #c53727;
  background-image: -webkit-linear-gradient(top,#dd4b39,#c53727);
  background-image: -moz-linear-gradient(top,#dd4b39,#c53727);
  background-image: -ms-linear-gradient(top,#dd4b39,#c53727);
  background-image: -o-linear-gradient(top,#dd4b39,#c53727);
  background-image: linear-gradient(top,#dd4b39,#c53727);
  }
  .rc-button-red:active {
  border: 1px solid #992a1b;
  background-color: #b0281a;
  background-image: -webkit-linear-gradient(top,#dd4b39,#b0281a);
  background-image: -moz-linear-gradient(top,#dd4b39,#b0281a);
  background-image: -ms-linear-gradient(top,#dd4b39,#b0281a);
  background-image: -o-linear-gradient(top,#dd4b39,#b0281a);
  background-image: linear-gradient(top,#dd4b39,#b0281a);
  -moz-box-shadow: inset 0 1px 2px rgba(0,0,0,0.3);
  -webkit-box-shadow: inset 0 1px 2px rgba(0,0,0,0.3);
  box-shadow: inset 0 1px 2px rgba(0,0,0,0.3);
  }
  .secondary-actions {
  text-align: center;
  }
</style>
<style media="screen and (max-width: 800px), screen and (max-height: 800px)">
  .google-header-bar.centered {
  height: 83px;
  }
  .google-header-bar.centered .header .logo {
  margin: 25px auto 20px;
  }
  .card {
  margin-bottom: 20px;
  }
</style>
<style media="screen and (max-width: 580px)">
  html, body {
  font-size: 14px;
  }
  .google-header-bar.centered {
  height: 73px;
  }
  .google-header-bar.centered .header .logo {
  margin: 20px auto 15px;
  }
  .content {
  padding-left: 10px;
  padding-right: 10px;
  }
  .hidden-small {
  display: none;
  }
  .card {
  padding: 20px 15px 30px;
  width: 270px;
  }
  .footer ul li {
  padding-right: 1em;
  }
  .lang-chooser-wrap {
  display: none;
  }
</style>
<style media="screen and (-webkit-min-device-pixel-ratio: 1.5), (min--moz-device-pixel-ratio: 1.5), (-o-min-device-pixel-ratio: 3 / 2), (min-device-pixel-ratio: 1.5)">
  .header .logo {
  background-image: url(https://ssl.gstatic.com/accounts/ui/logo_2x.png);
  }
  .header .logo-w {
  background-image: url(https://ssl.gstatic.com/images/branding/googlelogo/2x/googlelogo_color_112x36dp.png);
  }
</style>
<style>
  pre.debug {
  font-family: monospace;
  position: absolute;
  left: 0;
  margin: 0;
  padding: 1.5em;
  font-size: 13px;
  background: #f1f1f1;
  border-top: 1px solid #e5e5e5;
  direction: ltr;
  white-space: pre-wrap;
  width: 90%;
  overflow: hidden;
  }
</style>
<style>
  .banner h1 {
  font-family: 'Open Sans', arial;
  -webkit-font-smoothing: antialiased;
  color: #555;
  font-size: 42px;
  font-weight: 300;
  margin-top: 0;
  margin-bottom: 20px;
  }
  .banner h2 {
  font-family: 'Open Sans', arial;
  -webkit-font-smoothing: antialiased;
  color: #555;
  font-size: 18px;
  font-weight: 400;
  margin-bottom: 20px;
  }
  .signin-card {
  width: 274px;
  padding: 40px 40px;
  }
  .signin-card .profile-img {
  width: 96px;
  height: 96px;
  margin: 0 auto 10px;
  display: block;
  -moz-border-radius: 50%;
  -webkit-border-radius: 50%;
  border-radius: 50%;
  }
  .signin-card .profile-name {
  font-size: 16px;
  font-weight: bold;
  text-align: center;
  margin: 10px 0 0;
  min-height: 1em;
  }
  .signin-card .profile-email {
  font-size: 16px;
  text-align: center;
  margin: 10px 0 20px 0;
  min-height: 1em;
  }
  .signin-card input[type=email],
  .signin-card input[type=password],
  .signin-card input[type=text],
  .signin-card input[type=submit] {
  width: 100%;
  display: block;
  margin-bottom: 10px;
  z-index: 1;
  position: relative;
  -moz-box-sizing: border-box;
  -webkit-box-sizing: border-box;
  box-sizing: border-box;
  }
  .signin-card #Email,
  .signin-card #Passwd,
  .signin-card .captcha {
  direction: ltr;
  height: 44px;
  font-size: 16px;
  }
  .signin-card #Email + .stacked-label {
  margin-top: 15px;
  }
  .signin-card #reauthEmail {
  display: block;
  margin-bottom: 10px;
  line-height: 36px;
  padding: 0 8px;
  font-size: 15px;
  color: #404040;
  line-height: 2;
  margin-bottom: 10px;
  font-size: 14px;
  text-align: center;
  overflow: hidden;
  text-overflow: ellipsis;
  white-space: nowrap;
  -moz-box-sizing: border-box;
  -webkit-box-sizing: border-box;
  box-sizing: border-box;
  }
  .one-google p {
  margin: 0 0 10px;
  color: #555;
  font-size: 14px;
  text-align: center;
  }
  .one-google p.create-account,
  .one-google p.switch-account {
  margin-bottom: 60px;
  }
  .one-google .logo-strip {
  background-repeat: no-repeat;
  display: block;
  margin: 10px auto;
  background-image: url(https://ssl.gstatic.com/accounts/ui/wlogostrip_230x17_1x.png);
  background-size: 230px 17px;
  width: 230px;
  height: 17px;
  }
</style>
<style media="screen and (max-width: 800px), screen and (max-height: 800px)">
  .banner h1 {
  font-size: 38px;
  margin-bottom: 15px;
  }
  .banner h2 {
  margin-bottom: 15px;
  }
  .one-google p.create-account,
  .one-google p.switch-account {
  margin-bottom: 30px;
  }
  .signin-card #Email {
  margin-bottom: 0;
  }
  .signin-card #Passwd {
  margin-top: -1px;
  }
  .signin-card #Email.form-error,
  .signin-card #Passwd.form-error {
  z-index: 2;
  }
  .signin-card #Email:hover,
  .signin-card #Email:focus,
  .signin-card #Passwd:hover,
  .signin-card #Passwd:focus {
  z-index: 3;
  }
</style>
<style media="screen and (max-width: 580px)">
  .banner h1 {
  font-size: 22px;
  margin-bottom: 15px;
  }
  .signin-card {
  width: 260px;
  padding: 20px 20px;
  margin: 0 auto 20px;
  }
  .signin-card .profile-img {
  width: 72px;
  height: 72px;
  -moz-border-radius: 72px;
  -webkit-border-radius: 72px;
  border-radius: 72px;
  }
</style>
<style media="screen and (-webkit-min-device-pixel-ratio: 1.5), (min--moz-device-pixel-ratio: 1.5), (-o-min-device-pixel-ratio: 3 / 2), (min-device-pixel-ratio: 1.5)">
  .one-google .logo-strip {
  background-image: url(https://ssl.gstatic.com/accounts/ui/wlogostrip_230x17_2x.png);
  }
</style>
<style>
  .remember .bubble-wrap {
  position: absolute;
  padding-top: 3px;
  -o-transition: opacity .218s ease-in .218s;
  -moz-transition: opacity .218s ease-in .218s;
  -webkit-transition: opacity .218s ease-in .218s;
  transition: opacity .218s ease-in .218s;
  left: -999em;
  opacity: 0;
  width: 314px;
  margin-left: -20px;
  }
  .remember:hover .bubble-wrap,
  .remember input:focus ~ .bubble-wrap,
  .remember .bubble-wrap:hover,
  .remember .bubble-wrap:focus {
  opacity: 1;
  left: inherit;
  }
  .bubble-pointer {
  border-left: 10px solid transparent;
  border-right: 10px solid transparent;
  border-bottom: 10px solid #fff;
  width: 0;
  height: 0;
  margin-left: 17px;
  }
  .bubble {
  background-color: #fff;
  padding: 15px;
  margin-top: -1px;
  font-size: 11px;
  -moz-border-radius: 2px;
  -webkit-border-radius: 2px;
  border-radius: 2px;
  -moz-box-shadow: 0px 2px 2px rgba(0, 0, 0, 0.3);
  -webkit-box-shadow: 0px 2px 2px rgba(0, 0, 0, 0.3);
  box-shadow: 0px 2px 2px rgba(0, 0, 0, 0.3);
  }
  #stay-signed-in {
  float: left;
  }
  #stay-signed-in-tooltip {
  left: auto;
  margin-left: -20px;
  padding-top: 3px;
  position: absolute;
  top: 0;
  visibility: hidden;
  width: 314px;
  z-index: 1;
  }
  .dasher-tooltip {
  top: 380px;
  }
</style>
<style media="screen and (max-width: 800px), screen and (max-height: 800px)">
  .dasher-tooltip {
  top: 340px;
  }
</style>
<style>
  .jfk-tooltip {
  background-color: #fff;
  border: 1px solid;
  color: #737373;
  font-size: 12px;
  position: absolute;
  z-index: 800 !important;
  border-color: #bbb #bbb #a8a8a8;
  padding: 16px;
  width: 250px;
  }
 .jfk-tooltip h3 {
  color: #555;
  font-size: 12px;
  margin: 0 0 .5em;
  }
 .jfk-tooltip-content p:last-child {
  margin-bottom: 0;
  }
  .jfk-tooltip-arrow {
  position: absolute;
  }
  .jfk-tooltip-arrow .jfk-tooltip-arrowimplbefore,
  .jfk-tooltip-arrow .jfk-tooltip-arrowimplafter {
  display: block;
  height: 0;
  position: absolute;
  width: 0;
  }
  .jfk-tooltip-arrow .jfk-tooltip-arrowimplbefore {
  border: 9px solid;
  }
  .jfk-tooltip-arrow .jfk-tooltip-arrowimplafter {
  border: 8px solid;
  }
  .jfk-tooltip-arrowdown {
  bottom: 0;
  }
  .jfk-tooltip-arrowup {
  top: -9px;
  }
  .jfk-tooltip-arrowleft {
  left: -9px;
  top: 30px;
  }
  .jfk-tooltip-arrowright {
  right: 0;
  top: 30px;
  }
  .jfk-tooltip-arrowdown .jfk-tooltip-arrowimplbefore,.jfk-tooltip-arrowup .jfk-tooltip-arrowimplbefore {
  border-color: #bbb transparent;
  left: -9px;
  }
  .jfk-tooltip-arrowdown .jfk-tooltip-arrowimplbefore {
  border-color: #a8a8a8 transparent;
  }
  .jfk-tooltip-arrowdown .jfk-tooltip-arrowimplafter,.jfk-tooltip-arrowup .jfk-tooltip-arrowimplafter {
  border-color: #fff transparent;
  left: -8px;
  }
  .jfk-tooltip-arrowdown .jfk-tooltip-arrowimplbefore {
  border-bottom-width: 0;
  }
  .jfk-tooltip-arrowdown .jfk-tooltip-arrowimplafter {
  border-bottom-width: 0;
  }
  .jfk-tooltip-arrowup .jfk-tooltip-arrowimplbefore {
  border-top-width: 0;
  }
  .jfk-tooltip-arrowup .jfk-tooltip-arrowimplafter {
  border-top-width: 0;
  top: 1px;
  }
  .jfk-tooltip-arrowleft .jfk-tooltip-arrowimplbefore,
  .jfk-tooltip-arrowright .jfk-tooltip-arrowimplbefore {
  border-color: transparent #bbb;
  top: -9px;
  }
  .jfk-tooltip-arrowleft .jfk-tooltip-arrowimplafter,
  .jfk-tooltip-arrowright .jfk-tooltip-arrowimplafter {
  border-color:transparent #fff;
  top:-8px;
  }
  .jfk-tooltip-arrowleft .jfk-tooltip-arrowimplbefore {
  border-left-width: 0;
  }
  .jfk-tooltip-arrowleft .jfk-tooltip-arrowimplafter {
  border-left-width: 0;
  left: 1px;
  }
  .jfk-tooltip-arrowright .jfk-tooltip-arrowimplbefore {
  border-right-width: 0;
  }
  .jfk-tooltip-arrowright .jfk-tooltip-arrowimplafter {
  border-right-width: 0;
  }
  .jfk-tooltip-closebtn {
  background: url("//ssl.gstatic.com/ui/v1/icons/common/x_8px.png") no-repeat;
  border: 1px solid transparent;
  height: 21px;
  opacity: .4;
  outline: 0;
  position: absolute;
  right: 2px;
  top: 2px;
  width: 21px;
  }
  .jfk-tooltip-closebtn:focus,
  .jfk-tooltip-closebtn:hover {
  opacity: .8;
  cursor: pointer;
  }
  .jfk-tooltip-closebtn:focus {
  border-color: #4d90fe;
  }
</style>
<style media="screen and (max-width: 580px)">
  .jfk-tooltip {
  display: none;
  }
</style>
<style type="text/css">
.captcha-box {
  background: #fff;
  margin: 0 0 10px;
  overflow: hidden;
  padding: 10px;
}
.captcha-box .captcha-img {
  text-align: center;
}
.captcha-box .captcha-label {
  font-weight: bold;
  display: block;
  margin: .5em 0;
}
.captcha-box .captcha-msg {
  color: #999;
  display: block;
  position: relative;
}
.captcha-box .captcha-msg .accessibility-logo {
  float: right;
  border: 0;
}
.captcha-box .audio-box {
  position: absolute;
  top: 0;
}
</style>
<style>
.chromiumsync-custom-content {
  padding-top: 20px;
  margin-bottom: 0;
}
.form-panel {
  -webkit-box-sizing: border-box;
  box-sizing: border-box;
  -webkit-transform: translateZ(0);
  -moz-transform: translateZ(0);
  -ms-transform: translateZ(0);
  -o-transform: translateZ(0);
  transform: translateZ(0);
  width: 100%;
}
.form-panel.first {
  z-index: 2;
}
.form-panel.second {
  z-index: 1;
}
.shift-form .form-panel.first {
  z-index: 1;
}
.shift-form .form-panel.second {
  z-index: 2;
}
.slide-in,
.slide-out {
  display: block;
  -webkit-transition-property: -webkit-transform, opacity;
  -moz-transition-property: -moz-transform, opacity;
  -ms-transition-property: -ms-transform, opacity;
  -o-transition-property: -o-transform, opacity;
  transition-property: transform, opacity;
  -webkit-transition-duration: 0.1s;
  -moz-transition-duration: 0.1s;
  -ms-transition-duration: 0.1s;
  -o-transition-duration: 0.1s;
  transition-duration: 0.1s;
  -webkit-transition-timing-function: cubic-bezier(0.4, 0, 0.2, 1);
  -moz-transition-timing-function: cubic-bezier(0.4, 0, 0.2, 1);
  -ms-transition-timing-function: cubic-bezier(0.4, 0, 0.2, 1);
  -o-transition-timing-function: cubic-bezier(0.4, 0, 0.2, 1);
  transition-timing-function: cubic-bezier(0.4, 0, 0.2, 1);
}
.slide-out {
  -webkit-transform: translate3d(0, 0, 0);
  -moz-transform: translate3d(0, 0, 0);
  -ms-transform: translate3d(0, 0, 0);
  -o-transform: translate3d(0, 0, 0);
  transform: translate3d(0, 0, 0);
}
.shift-form .slide-out {
  opacity: 0;
  -webkit-transform: translate3d(-120%, 0, 0);
  -moz-transform: translate3d(-120%, 0, 0);
  -ms-transform: translate3d(-120%, 0, 0);
  -o-transform: translate3d(-120%, 0, 0);
  transform: translate3d(-120%, 0, 0);
}
.slide-in {
  -webkit-transform: translate3d(120%, 0, 0);
  -moz-transform: translate3d(120%, 0, 0);
  -ms-transform: translate3d(120%, 0, 0);
  -o-transform: translate3d(120%, 0, 0);
  transform: translate3d(120%, 0, 0);
}
.shift-form .slide-in {
  opacity: 1;
  -webkit-transform: translate3d(0, 0, 0);
  -moz-transform: translate3d(0, 0, 0);
  -ms-transform: translate3d(0, 0, 0);
  -o-transform: translate3d(0, 0, 0);
  transform: translate3d(0, 0, 0);
}
.error-msg {
  -webkit-transition: max-height 0.3s, opacity 0.3s 0s steps(10, end);
  -moz-transition: max-height 0.3s, opacity 0.3s 0s steps(10, end);
  -ms-transition: max-height 0.3s, opacity 0.3s 0s steps(10, end);
  -o-transition: max-height 0.3s, opacity 0.3s 0s steps(10, end);
  transition: max-height 0.3s, opacity 0.3s 0s steps(10, end);
  height: auto;
  max-height: 0;
  opacity: 0;
}
.has-error .error-msg {
  max-height: 3.5em;
  margin-top: 10px;
  margin-bottom: 10px;
  opacity: 1;
  visibility: visible;
}
.back-arrow {
  position: absolute;
  top: 37px;
  width: 24px;
  height: 24px;
  display: none;
  cursor: pointer;
}
.back-arrow {
  border-style: none;
}
.shift-form.back-arrow {
  display: block;
}
.back-arrow img {
  display: block;
}
#link-signup {
  text-align: center;
  font-size: 14px;
}
.shift-form #link-signup{
  display: none;
}
#link-signin-different {
  display: none;
  text-align: center;
  font-size: 14px;
}
.shift-form #link-signin-different {
  display: block;
}
.signin-card #profile-name {
  font-size: 16px;
  font-weight: bold;
  text-align: center;
  margin: 0;
  min-height: 1em;
}
.signin-card.no-name #profile-name {
  display: none;
}
.signin-card.no-name #email-display {
  line-height: initial;
  margin-bottom: 16px;
}
.signin-card #email-display {
  display: block;
  padding: 0px 8px;
  color: rgb(64, 64, 64);
  line-height: 2;
  margin-bottom: 10px;
  font-size: 14px;
  text-align: center;
  overflow: hidden;
  text-overflow: ellipsis;
  white-space: nowrap;
  -moz-box-sizing: border-box;
  -webkit-box-sizing: border-box;
  box-sizing: border-box;
}
.signin-card #Email {
  margin-top: 16px;
}
.need-help {
  float: right;
  text-align: right;
}
.form-panel {
  width: 274px;
}
#gaia_firstform {
  z-index: 2;
}
.signin-card {
  position: relative;
  overflow: hidden;
}
.signin-card #profile-name {
  color: #000;
}
.circle-mask {
  display: block;
  height: 96px;
  width: 96px;
  overflow: hidden;
  border-radius: 50%;
  margin-left: auto;
  margin-right: auto;
  z-index: 100;
  margin-bottom: 10px;
}
.circle {
  -webkit-transition-property: -webkit-transform;
  -moz-transition-property: -moz-transform;
  -ms-transition-property: -ms-transform;
  -o-transition-property: -o-transform;
  transition-property: transform;
  -webkit-transition-timing-function: cubic-bezier(.645,.045,.355,1);
  -moz-transition-timing-function: cubic-bezier(.645,.045,.355,1);
  -ms-transition-timing-function: cubic-bezier(.645,.045,.355,1);
  -o-transition-timing-function: cubic-bezier(.645,.045,.355,1);
  transition-timing-function: cubic-bezier(.645,.045,.355,1);
}
.circle {
  position: absolute;
  z-index: 101;
  height: 96px;
  width: 96px;
  border-radius: 50%;
  opacity: 0.99;
  overflow: hidden;
  background-repeat: no-repeat;
  background-position: center center;
}
.main {
  overflow: hidden;
}
.card-mask-wrap {
  position: relative;
  width: 360px;
  margin: 0 auto;
  z-index: 1;
}
.dasher-tooltip {
  position: absolute;
  left: 50%;
  margin-left: 150px;
}
.dasher-tooltip .tooltip-pointer {
  margin-top: 15px;
}
.dasher-tooltip p {
  margin-top: 0;
}
.dasher-tooltip p span {
  display: block;
}
.card {
  margin-bottom: 0;
}
.one-google {
  padding-top: 27px;
}
#canvas {
  -webkit-transition: opacity 0.075s;
  -moz-transition: opacity 0.075s;
  -ms-transition: opacity 0.075s;
  -o-transition: opacity 0.075s;
  transition: opacity 0.075s;
  opacity: 0.01;
}
.shift-form #canvas {
  opacity: 0.99;
}
.label {
  color: #404040;
}
#account-chooser-link {
  -webkit-transition: opacity 0.3s;
  -moz-transition: opacity 0.3s;
  -ms-transition: opacity 0.3s;
  -o-transition: opacity 0.3s;
  transition: opacity 0.3s;
}
.input-wrapper {
  position: relative;
}
.google-footer-bar {
  z-index: 2;
}
</style>
<style media="screen and (max-width: 580px)">
.back-arrow {
  top: 17px;
}
.circle-mask {
  height: 72px;
  width: 72px;
  background-size: 72px;
}
.circle {
  height: 72px;
  width: 72px;
}
#canvas {
  height: 72px;
  width: 72px;
}
.form-panel {
  width: 256px;
}
.card-mask-wrap {
  width: 300px;
}
.signin-card {
  width: 256px;
}
.signin-card #EmailFirst {
  margin-top: 15px;
}
.one-google {
  padding-top: 22px;
}
</style>
  </head>
  <body>
  <div class="wrapper">
  <div class="google-header-bar  centered">
  <div class="header content clearfix">
  <div class="logo logo-w" aria-label="Google"></div>
  </div>
  </div>
  <div class="main content clearfix">
<div class="banner">
<h1>
  One account. All of Google.
</h1>
  <h2 class="hidden-small">
  Sign in to continue to Google Drive
  </h2>
</div>
<div class="main-content 
  
  
    no-name
  
  
  
">
<div class="card signin-card
  
    pre-shift
  
  
  
   no-name">
  <img class="circle-mask"
      
        
          src="https://ssl.gstatic.com/accounts/ui/avatar_2x.png"
        
      >
  <form novalidate method="post" action="https://accounts.google.com/signin/v1/lookup" id="gaia_loginform">
  <input name="Page" type="hidden" value="PasswordSeparationSignIn">
  <input type="hidden" name="" value="">
  <input type="hidden" name="gxf" value="AFoagUXeAaLnKtvOrJX-WdLSCY06LxUO8w:1587825359403">
  <input type="hidden" name="continue" value="https://docs.google.com/uc?export=download&amp;id=1d_ourbLJnhBrfPieLlQNc696Q5Tx9zBe">
  <input type="hidden" name="followup" value="https://docs.google.com/uc?export=download&amp;id=1d_ourbLJnhBrfPieLlQNc696Q5Tx9zBe">
  <input type="hidden" name="service" value="wise">
  <input type="hidden" name="ltmpl" value="homepage">
  <input id="profile-information" name="ProfileInformation" type="hidden" value="">
  <input id="session-state" name="SessionState" type="hidden" value="AEThLlwlvDl4HhJ_JRYWDzt6Xg7u9i22gEvOuOHAJ128zIg4so5fkPYbZ661DjvtzFik_GMPadKJqTI7c9BFWr51CjETR0Wmt1hH8Wd_OwVDHqP-9XWLaqk1nfA_WHMFFvMqWDZhA5QGxrTzLss0iglW3M1cK6TdyzgEppuudexyJuCJLggPqjLWWmvN0XTTSudnJyoux4ea">
  <input name="flowName" type="hidden" value="GlifWebSignIn">
  <input type="hidden" id="_utf8" name="_utf8" value="&#9731;"/>
  <input type="hidden" name="bgresponse" id="bgresponse" value="js_disabled">
  <div class="form-panel first valid" id="gaia_firstform">
  <div class="slide-out ">
  <div class="input-wrapper focused">
  <div id="identifier-shown">
  <div>
  <label class="hidden-label" for="Email">
  Enter your email</label>
  <input id="Email" type="email" value="" spellcheck="false"
                   name="Email"
                   
                     placeholder="Email or phone"
                   
                   
                   
                   >
  <input id="Passwd-hidden" type="password" spellcheck="false" class="hidden">
  </div>
  </div>
  <span role="alert" class="error-msg" id="errormsg_0_Email"></span>
  </div>
<input id="next" name="signIn" class="rc-button rc-button-submit" type="submit" value="Next">
  <a class="need-help"
          href="https://accounts.google.com/signin/usernamerecovery?continue=https%3A%2F%2Fdocs.google.com%2Fuc%3Fexport%3Ddownload%26id%3D1d_ourbLJnhBrfPieLlQNc696Q5Tx9zBe&amp;service=wise&amp;ltmpl=homepage&amp;hl=en">
  Find my account
  </a>
  </div>
  </div>
  </form>
</div>
  <div class="card-mask-wrap
    
        
     no-name">
  <div class="card-mask">
  <div class="one-google">
  <p class="create-account">
  <span id="link-signin-different">
  <a href="https://accounts.google.com/AccountChooser?continue=https%3A%2F%2Fdocs.google.com%2Fuc%3Fexport%3Ddownload%26id%3D1d_ourbLJnhBrfPieLlQNc696Q5Tx9zBe&amp;followup=https%3A%2F%2Fdocs.google.com%2Fuc%3Fexport%3Ddownload%26id%3D1d_ourbLJnhBrfPieLlQNc696Q5Tx9zBe&amp;service=wise&amp;ltmpl=homepage">
  Sign in with a different account
  </a>
  </span>
  <span id="link-signup">
  <a href="https://accounts.google.com/SignUp?service=wise&amp;continue=https%3A%2F%2Fdocs.google.com%2Fuc%3Fexport%3Ddownload%26id%3D1d_ourbLJnhBrfPieLlQNc696Q5Tx9zBe&amp;ltmpl=homepage">
  Create account
  </a>
  </span>
  </p>
<p class="tagline">
  One Google Account for everything Google
</p>
<div class="logo-strip"></div>
  </div>
  </div>
  </div>
</div>
  </div>
  <div class="google-footer-bar">
  <div class="footer content clearfix">
  <ul id="footer-list">
  <li>
  <a href="https://www.google.com/intl/en/about" target="_blank">
  About Google
  </a>
  </li>
  <li>
  <a href="https://accounts.google.com/TOS?loc=US&hl=en&privacy=true" target="_blank">
  Privacy
  </a>
  </li>
  <li>
  <a href="https://accounts.google.com/TOS?loc=US&hl=en" target="_blank">
  Terms
  </a>
  </li>
  <li>
  <a href="http://www.google.com/support/accounts?hl=en" target="_blank">
  Help
  </a>
  </li>
  </ul>
  </div>
</div>
  </div>
<script type="text/javascript" nonce="VUuWziK6eQTdm2JZydRuHQ">
  var gaia_attachEvent = function(element, event, callback) {
  if (element && element.addEventListener) {
  element.addEventListener(event, callback, false);
  } else if (element && element.attachEvent) {
  element.attachEvent('on' + event, callback);
  }
  };
  (function() {
  var gaia_hideNavBar = function() {
  setTimeout(function() {
  window.scrollTo(0, 1);
  }, 0);
  };
  gaia_attachEvent(window, 'load', gaia_hideNavBar);
  })();
</script>
  <script type="text/javascript" nonce="VUuWziK6eQTdm2JZydRuHQ">/* Anti-spam. Want to say hello? Contact (base64) Ym90Z3VhcmQtY29udGFjdEBnb29nbGUuY29t */Function('var R=function(G,m,n,a){for(a=(n=[],m)-1;0<=a;a--)n[m-1-a]=G>>8*a&255;return n},F={},b={},N=function(G,m){return m[G]<<24|m[G+1]<<16|m[G+2]<<8|m[G+3]},Gm=function(G,m,n,a,Z){if(m.X=(n=G[0],false),n==B)m.O=25,m.g(G);else if(n==u){n=(a=G[1],G)[3];try{Z=m.g(G)}catch(q){M(q,m),Z=m.w}a&&a(Z),n.push(Z)}else if(n==b)m.g(G);else if(n==V)m.g(G);else if(n==F){try{for(Z=0;Z<m.Y.length;Z++)try{a=m.Y[Z],a[0][a[1]](a[2])}catch(q){}}catch(q){}(0,G[m.Y=[],1])()}else if(n==T)return Z=G[2],d(2,m,G[6]),d(209,m,Z),m.g(G)},M=function(G,m){m.w=("E:"+G.message+":"+G.stack).slice(0,2048)},E=function(G,m){return m=x(G),m&128&&(m=m&127|x(G)<<7),m},i7=function(G,m,n,a,Z,q,g){G.o++;try{for(Z=(n=(q=0,a=5001,G).I,void 0);(G.Z||--a)&&(G.C||(q=G.b(142))<n);)try{G.C?Z=G.N(G.C):(d(151,G,q),g=x(G),Z=G.b(g)),Z&&Z.call?Z(G):y(21,G,0,g),G.X=true,C(2,false,G)}catch(H){H!=G.B&&(G.b(128)?y(22,G,H):d(128,G,H))}a||y(33,G)}catch(H){try{y(22,G,H)}catch(X){M(X,G)}}return n=G.b(209),m&&d(142,G,m),G.o--,n},J,W=function(G,m,n,a,Z){if(0!=G.K.length){if(Z=0==G.o)G.R=G.l();return(m=ma(n,m,G),Z)&&(Z=G.l()-G.R,Z<(a?10:0)||0>=G.O--||G.f.push(254>=Z?Z:254)),m}},C=function(G,m,n){if(0>=n.m||1<n.o||!n.X&&m||0!=document.hidden||n.l()-n.R<n.m-G)return false;return(d(142,n,(G=(n.S=true,n.b(m?151:142)),n).I),n.K).push([b,G]),true},L=this||self,Z8=function(G,m,n,a,Z,q){for(m.X=!((a=[],(m.O=(m.S=false,25),m.T=(m.$w=function(g,H,X){return(H=(X=function(){return g},function(){return X()}),H)[this.V]=function(p){g=p},H},void 0),m.o=0,m).G=(m.f=[],Z=0,m.m=0,function(g,H,X,p,e,K){return((K=(X=(p=function(){return p[X.v+(e[X.s]===H)-!K[X.s]]},e=function(){return p()},this),X.g),e)[X.V]=function(A){p[X.J]=A},e)[X.V](g),g=e}),m).C=void 0,1);128>Z;Z++)a[Z]=String.fromCharCode(Z);(d(166,m,(d(63,(d(170,(d(175,(d(19,m,(d(5,(m.Ph=(q=(d((d(67,m,(d(124,(d(114,m,(d(233,(d(231,(d(69,m,(d(185,m,(d((d(253,m,((d(240,m,((d(68,(((d(1,((d(113,(d(80,(d(212,(d(245,m,(d((d(157,m,(d(250,m,(d(169,(Z=(d(((d(130,m,(m.D=(d(219,(d(189,(d((d((d(17,(d((d((d(151,(d(142,(m.$=(m.P=m,[]),m.tr=function(g){this.P=g},m.Y=[],m),0),m),0),d(161,m,[0,0,0]),22),m,function(g){gi(g,1)}),209),m,{}),m),0),4),m,function(g){r(4,g)}),110),m,2048),m),S(4)),m),function(g,H,X,p){d((p=(X=(H=x(g),x(g)),x(g)),p),g,g.b(H)>>X)}),[]),function(g){gi(g,4)})),m).K=[],d(128,m,270),133),m,function(g,H){(g=(H=x(g),g.b(H)),g)[0].removeEventListener(g[1],g[2],false)}),G.U||function(){}),m),m),function(g,H,X,p,e,K){if(!C(255,true,g)){if("object"==(g=(p=(X=(H=(p=(H=x(g),X=x(g),x(g)),e=x(g),g.b(H)),g.b(X)),g.b(p)),g).b(e),nN(H))){for(K in e=[],H)e.push(K);H=e}for(K=(p=0<(e=0,p)?p:1,H.length);e<K;e+=p)X(H.slice(e,e+p),g)}})),function(g,H,X,p,e){for(p=(e=(X=(H=x(g),E)(g),0),[]);e<X;e++)p.push(x(g));d(H,g,p)})),72),m,[0,0,0]),function(g,H,X,p,e){d((X=(e=(p=(X=(H=x(g),x(g)),g.b(x(g))),g).b(x(g)),g.b(X)),H),g,aQ(e,p,X,g))})),m),[165,0,0]),m),function(g,H,X){(X=(H=x(g),x)(g),0!=g.b(H))&&d(142,g,g.b(X))}),m),function(g,H,X,p){p=(X=(H=x(g),x)(g),x(g)),d(p,g,g.b(H)||g.b(X))}),m).K$=function(g,H){((H.push(g[0]<<24|g[1]<<16|g[2]<<8|g[3]),H).push(g[4]<<24|g[5]<<16|g[6]<<8|g[7]),H).push(g[8]<<24|g[9]<<16|g[10]<<8|g[11])},m),[]),d)(14,m,function(g,H,X){d((X=x((H=x(g),g)),X),g,""+g.b(H))}),d)(146,m,function(){}),m),function(g,H,X,p){X=(H=x(g),x)(g),p=x(g),d(p,g,(g.b(H)in g.b(X))+0)}),d(90,m,function(g,H,X,p){d((X=(p=x((X=(H=x(g),x(g)),g)),g.b(X)),H=g.b(H),p),g,H[X])}),d)(95,m,function(g,H,X){C(5,true,g)||(H=x(g),X=x(g),d(X,g,function(p){return eval(p)}(g.b(H))))}),function(g){r(2,g)})),d)(120,m,function(g,H,X,p){(p=x((X=(H=x(g),x(g)),g)),g).P==g&&(g.b(H)[g.b(X)]=g.b(p),72==H&&(g.j=void 0,2==g.b(X)&&(g.M=void 0,d(142,g,g.b(142)+32))))}),function(g){g.F(4)})),144),m,function(g,H,X,p,e,K,A,h,D,f,c,O,P){for(f=(A=(K=(e=(p=(H=x(g),X=0),function(v,U){for(;p<v;)X|=x(g)<<p,p+=8;return U=(p-=v,X&(1<<v)-1),X>>=v,U}),e(3)+1),e)(5),h=[],D=0);f<A;f++)c=e(1),h.push(c),D+=c?0:1;for(f=(D=(O=[],(D-1).toString(2).length),0);f<A;f++)h[f]||(O[f]=e(D));for(f=0;f<A;f++)h[f]&&(O[f]=x(g));for(f=(P=[],K);f--;)P.push(g.b(x(g)));d(H,g,function(v,U,z,I,Q){for(z=(v.o++,I=0,[]),U=[];I<A;I++){if(Q=O[I],!h[I]){for(;Q>=U.length;)U.push(x(v));Q=U[Q]}z.push(Q)}v.T=(v.C=v.G(P.slice(),v.N),v.G(z,v.N))})}),function(g,H){Hu(g,(H=g.b(x(g)),H))})),function(g,H,X){(X=(H=x(g),x(g)),d)(X,g,g.b(X)+g.b(H))})),m),function(g,H,X){d((H=(X=(H=x(g),x(g)),g.b(H)),X),g,nN(H))}),m),function(g,H,X){d((H=(X=x((H=x(g),g)),g.$)[H]&&g.b(H),X),g,H)}),function(g,H,X,p,e){0!==(p=(e=(p=x((X=(H=x(g),x(g)),g)),H=g.b(H),g.b(x(g))),X=g.b(X),g).b(p),H)&&(p=aQ(1,e,p,g,H,X),H.addEventListener(X,p,Y),d(17,g,[H,X,p]))})),m),function(g){r(1,g)}),function(g,H,X,p,e,K,A){if((p=(X=(H=x(g),E)(g),""),g.$)[138])for(e=g.b(138),K=0,A=e.length;X--;)K=(K+E(g))%A,p+=a[e[K]];else for(;X--;)p+=a[x(g)];d(H,g,p)})),13),m,function(g,H){C(5,true,g)||(H=XX(g),d(H.W,g,H.A.apply(H.L,H.i)))}),window.performance||{}),q.timeOrigin)||(q.timing||{}).navigationStart||0,m),[]),function(g,H,X,p){if(H=g.D.pop()){for(X=x(g);0<X;X--)p=x(g),H[p]=g.$[p];g.$=(H[110]=g.$[H[1]=g.$[1],110],H)}else d(142,g,g.I)})),m),function(g,H,X,p){d((H=(p=x((X=(H=x(g),x)(g),g)),g.b(H))==g.b(X),p),g,+H)}),m),function(g,H,X,p,e,K,A){C(5,true,g)||(H=XX(g),p=H.L,X=H.i,A=X.length,e=H.A,0==A?K=new p[e]:1==A?K=new p[e](X[0]):2==A?K=new p[e](X[0],X[1]):3==A?K=new p[e](X[0],X[1],X[2]):4==A?K=new p[e](X[0],X[1],X[2],X[3]):y(22,g),d(H.W,g,K))}),m),0),L)),n&&"!"==n.charAt(0))?(m.w=n,Z()):(m.a=[],m.I=0,G=!!G.U,k([V,n],m),k([F,Z],m),W(m,G,true,false))},RQ=function(G,m,n,a,Z){for(a=n=(m=[],0);a<G.length;a++)Z=G.charCodeAt(a),128>Z?m[n++]=Z:(2048>Z?m[n++]=Z>>6|192:(55296==(Z&64512)&&a+1<G.length&&56320==(G.charCodeAt(a+1)&64512)?(Z=65536+((Z&1023)<<10)+(G.charCodeAt(++a)&1023),m[n++]=Z>>18|240,m[n++]=Z>>12&63|128):m[n++]=Z>>12|224,m[n++]=Z>>6&63|128),m[n++]=Z&63|128);return m},t=function(G,m){try{Z8(m,this,G)}catch(n){M(n,this)}},so=((t.prototype.B=(t.prototype.gD=function(G,m,n,a,Z){for(Z=a=0;Z<G.length;Z++)a+=G.charCodeAt(Z),a+=a<<10,a^=a>>6;return a=new (G=(a+=a<<3,a^=a>>11,a+(a<<15)>>>0),Number)(G&(1<<m)-1),a[0]=(G>>>m)%n,a},t.prototype.qa=function(G,m,n,a){try{a=G[(m+2)%3],G[m]=G[m]-G[(m+1)%3]-a^(1==m?a<<n:a>>>n)}catch(Z){throw Z;}},{}),t.prototype).C$=function(G,m,n){return G^((m=(m^=m<<13,m^=m>>17,m^m<<5)&n)||(m=1),m)},function(G,m,n,a){try{for(a=0;79669387488!=a;)n+=(G<<4^G>>>5)+G^a+m[a&3],a+=2489668359,G+=(n<<4^n>>>5)+n^a+m[a>>>11&3];return[n>>>24,n>>16&255,n>>8&255,n&255,G>>>24,G>>16&255,G>>8&255,G&255]}catch(Z){throw Z;}}),r=(t.prototype.h=function(G,m,n,a,Z,q){if(this.w)return this.w;try{Z=[],q=[],a=!!G,k([B,Z,m],this),k([u,G,Z,q],this),W(this,a,true,false),n=q[0]}catch(g){M(g,this),n=this.w,G&&G(n)}return n},function(G,m,n,a){for(n=x(m),a=0;0<G;G--)a=a<<8|x(m);d(n,m,a)}),Hu=(t.prototype.Z=false,function(G,m){d(142,G,((G.D.push(G.$.slice()),G.$)[142]=void 0,m))}),aQ=function(G,m,n,a,Z,q){return function(){if(a.P==a){var g=G&1,H=[T,n,m,void 0,Z,q,arguments];if(G&2)var X=W(a,false,(k(H,a),false),true);else g&&a.K.length?k(H,a):g?(k(H,a),W(a,false,false,true)):X=Gm(H,a);return X}}},w=function(G,m,n,a,Z,q){if(m.P==m)for(Z=m.b(G),189==G?(G=function(g,H,X,p){if(H=Z.length,X=H-4>>3,Z.c!=X){p=[0,0,(X=(X<<(Z.c=X,3))-4,q[1]),q[2]];try{Z.H=so(N(X+4,Z),p,N(X,Z))}catch(e){throw e;}}Z.push(Z.H[H&7]^g)},q=m.b(161)):G=function(g){Z.push(g)},a&&G(a&255),m=n.length,a=0;a<m;a++)G(n[a])},V={},XX=(t.prototype.v=35,function(G,m,n,a,Z,q){for(Z=(a=(m={},n=x(G),m.W=x(G),m.i=[],G.P==G?x(G)-1:1),x(G)),q=0;q<a;q++)m.i.push(x(G));for((m.A=G.b(n),m).L=G.b(Z);a--;)m.i[a]=G.b(m.i[a]);return m}),y=function(G,m,n,a,Z){if((a=(0==((G=[(Z=m.b(151)>>3,G),Z>>8&255,Z&255],void 0!=a)&&G.push(a),m).b(1).length&&(m.$[1]=void 0,d(1,m,G)),""),n&&(n.message&&(a+=n.message),n.stack&&(a+=":"+n.stack)),n=m.b(110),3)<n){(a=RQ((n-=(a=a.slice(0,n-3),a.length)+3,a).replace(/\\r\\n/g,"\\n")),G=m.P,m).P=m;try{w(189,m,R(a.length,2).concat(a),12)}finally{m.P=G}}d(110,m,n)},gi=(t.prototype.E0=function(G,m,n,a,Z,q){for(q=(n=[],a=0);q<G.length;q++)for(Z=Z<<m|G[q],a+=m;7<a;)a-=8,n.push(Z>>a&255);return n},t.prototype.l=(t.prototype.Vz=function(G,m,n,a){for(;n--;)142!=n&&151!=n&&m.$[n]&&(m.$[n]=m[a](m[G](n),this));m[G]=this},(window.performance||{}).now)?function(){return Math.floor(this.Ph+window.performance.now())}:function(){return+new Date},function(G,m,n,a){w((a=(n=x(G),x(G)),a),G,R(G.b(n),m))}),u=(t.prototype.s=(t.prototype.F=function(G,m,n,a){w((((n=(a=(G&=(m=G&4,3),n=x(this),x(this)),this.b(n)),m)&&(n=RQ((""+n).replace(/\\r\\n/g,"\\n"))),G)&&w(a,this,R(n.length,2)),a),this,n)},"caller"),{}),nN=(t.prototype.V="toString",function(G,m,n){if((m=typeof G,"object")==m)if(G){if(G instanceof Array)return"array";if(G instanceof Object)return m;if((n=Object.prototype.toString.call(G),"[object Window]")==n)return"object";if("[object Array]"==n||"number"==typeof G.length&&"undefined"!=typeof G.splice&&"undefined"!=typeof G.propertyIsEnumerable&&!G.propertyIsEnumerable("splice"))return"array";if("[object Function]"==n||"undefined"!=typeof G.call&&"undefined"!=typeof G.propertyIsEnumerable&&!G.propertyIsEnumerable("call"))return"function"}else return"null";else if("function"==m&&"undefined"==typeof G.call)return"object";return m}),S=(t.prototype.If=function(G,m,n){if(3==G.length){for(n=0;3>n;n++)m[n]+=G[n];for(n=(G=[13,8,13,12,16,5,3,10,15],0);9>n;n++)m[3](m,n%3,G[n])}},function(G,m){for(m=[];G--;)m.push(255*Math.random()|0);return m}),T={},x=(t.prototype.b=function(G,m){if((m=this.$[G],void 0)===m)throw y(30,this,0,G),this.B;return m()},function(G,m,n,a){if(G.C)return G.N(G.T);if((m=G.b(142),n=m>>3,m)>=G.I)throw y(31,G),G.B;return(d(142,G,((void 0==G.M&&(G.M=N(n-4,G.a),G.j=void 0),G).j!=n>>3&&(G.j=n>>3,a=G.b(72),G.bs=so(G.j,[0,0,a[1],a[2]],G.M)),m+8)),G).a[n]^G.bs[n%8]}),k=(t.prototype.g=(t.prototype.kw=L.requestIdleCallback?function(G){requestIdleCallback(G,{timeout:4})}:L.setImmediate?function(G){setImmediate(G)}:function(G){setTimeout(G,0)},function(G,m,n,a,Z,q,g){if(m=G[0],m==V){n=G[1];try{for(q=(n=(a=atob(n),[]),Z=0);q<a.length;q++)g=a.charCodeAt(q),255<g&&(n[Z++]=g&255,g>>=8),n[Z++]=g;this.a=n,this.I=this.a.length<<3}catch(H){y(17,this,H)}i7(this)}else if(m==B)a=G[1],a.push(this.b(212).length,this.b(189).length,this.b(5).length,this.b(110)),d(209,this,G[2]),this.$[180]&&l(this,this.b(180));else{if(m==u){this.P=(g=(G=R((a=G[2],this.b(212).length+2),2),this.P),this);try{n=this.b(1),0<n.length&&w(212,this,R(n.length,2).concat(n),15),Z=this.b(63)&511,Z-=this.b(212).length+5,q=this.b(189),4<q.length&&(Z-=q.length+3),0<Z&&w(212,this,R(Z,2).concat(S(Z)),10),4<q.length&&w(212,this,R(q.length,2).concat(q),153)}finally{this.P=g}if(n=((g=S(2).concat(this.b(212)),g[1]=g[0]^3,g)[3]=g[1]^G[0],g[4]=g[1]^G[1],window).btoa){for(q=(Z="",0);q<g.length;q+=8192)Z+=String.fromCharCode.apply(null,g.slice(q,q+8192));n=n(Z).replace(/\\+/g,"-").replace(/\\//g,"_").replace(/=/g,"")}else n=void 0;if(n)n="!"+n;else for(n="",Z=0;Z<g.length;Z++)q=g[Z][this.V](16),1==q.length&&(q="0"+q),n+=q;return d(110,(((g=n,this).b(212).length=a[0],this.b(189).length=a[1],this).b(5).length=a[2],this),a[3]),g}if(m==b)l(this,G[1]);else if(m==T)return l(this,G[1])}}),function(G,m){m.K.splice(0,0,G)}),B=(t.prototype.J=36,t.prototype.N=function(G){return(G=G().shift(),this.C()).length||this.T().length||(this.T=this.C=void 0,this.o--),G},{}),d=function(G,m,n){if(142==G||151==G)if(m.$[G])m.$[G][m.V](n);else m.$[G]=m.$w(n);else if(212!=G&&189!=G&&5!=G&&1!=G&&161!=G||!m.$[G])m.$[G]=m.G(n,m.b);72==G&&(m.M=void 0,d(142,m,m.b(142)+32))},l=function(G,m,n){return i7(G,((n=G.b(142),G).a&&n<G.I?(d(142,G,G.I),Hu(G,m)):d(142,G,m),n))},Y=false,ma=(J=L.botguard||(L.botguard={}),function(G,m,n,a,Z){for(;n.K.length;){if(G=G&&m)n.m&&n.S?(n.S=false,G=0!=document.hidden?false:true):G=false;if(G){(Z=n,n).kw(function(){W(Z,m,false,false)});break}a=(a=(G=true,n).K.pop(),Gm)(a,n)}return a});J.bg=(J.ALz=function(G,m,n){n=new t(G,{U:m}),this.invoke=function(a,Z,q){return(q=n.h(Z&&a,q),a)&&!Z&&a(q),q}},function(G,m,n){return G&&G.substring&&(n=J[G.substring(0,3)])?new n(G.substring(3),m):new J.ALz(G,m)});try{J.u||(L.addEventListener("unload",function(){},Y),J.u=1)}catch(G){}try{L.addEventListener("test",null,Object.defineProperty({},"passive",{get:function(){Y={passive:true}}}))}catch(G){};')();</script>
  <script type="text/javascript" nonce="VUuWziK6eQTdm2JZydRuHQ">
  document.bg = new botguard.bg('ALzmM7PgvB3l6ewbnd9E7HMJTPtgx612nfa1RVxKQnX0q4ywLUJ07j12BTGKSf0x2p+/0OB8j56TkWaKxkO2wcRWNbMBE4Sg1zv2np3ycJlxCewRAFsLnEI6QrdQwgkG7XStnYB407lA8WqHxRm2OYsHAXnbWVSgCDmCEst0xZK4dRRFX/f14xJ7nsnLLmY7SxYImzAUDVHNcnUse+HCJhGgB+dbIpeWMWcm8KGQlGXyU6/57tM7j7tNODjZnVAX0cEwE7INpCf1iwKsHA/0hVewR/151EGw3DcRtoDWoIEqmm2KNFtngoC9te1ETYo4lYZRPAke8nh4YjoLj4lY49HVwv1wR6jCRyOEEN2ecMuB/C0FKQlwKqobtAG5pWVoW9wJgmiSPzXO2VGUKd4Iw7ZjS3EzlB2sj4TgGmXlwkdaLXs526prDtfnqAzLlPhJLAmzDFPTLd9vjwMm03Q5LW0v66eZ1ShCkpFjaTlmakmP6J65ax4OKh9CHbu3ZsH1f1oD0jf7FdfyoE1qNBmoUDEYnnsXylhmwlkXPUCxIPmOliNkkPm5zgg+Gxpsx/V1WJ19hDkoS2lO7s0QEpJoGtGCDVxFajpcP0SWCb0mWsy7QZAopoFI/jZtRTKkvZdiCZvekKFfLX5Bdk0LAPompJUbPT4HLvFXPwi1bi5chgDY6GuLaOsenPq9yMQKXIz2NoCgayOffyhDX74C0FSYHMrvR29L+4OW9Pm6qTFB8/WLdKvxBSvHLbZ6fyHlAGmOjUFNJDSFezU8eov58hka/EBv4Tpq5RwLb+qrYINtdz2avZfNon+CiH3IouNJLIfinrqBe8WY0fNC6YPPIxRnDEQuTX+ZX1FtTFgwl1UfLaYPAaGm8ATUD/UheJxxAmTvEbc2/h2RK9tCTr1tLbKf+qjquToePK+MkmCSlkIPFdmIiJOzHXD+vfFeJDbt0LtBmpagp4PeZVWs9UfSAjlA7PVpGrj2CAoRHOPq3oTj2ILHjpcFv5LAsrWTb6XPXqj4ucDV1DfdmHW8NTQ91uhCiTFl98E/XT7SrLwfs9nY9LNluQH0JDYKwOfcN+yYfR1Qj56OAzSBOZUlwMMT40GGx6MijkAvM6p2bAgy/QFrn5wsaJWi+0atl006nu2XmbqKmXKTTZ6CkzC7AE25+AiIHgqkGiJNkDG0BHMkGPulBJQMzOOllHOMTctAmnlbUxWHvgW1fd52qD8UgDfXLhPUstoQfV0kU4nGCGnxMKBtNGASdlphl3p4SJ8kCRhGIVVnWZNYRyOtDG+RzDgKtJdJYtJqx1HwZzMpDuxSrp+10CsvLVh36ThAqI7N+cGYhq2/RUl8imf45jNk8FNBIqiLV408MnscYKb7CVVipicVFRizLy17eSWlOMuRcUtPK2PwwoWXTrtvfT4efSvOXMA5uaMAB1DJjSMOvy7tAQ1q4egi+rKSnsW0hfndmbIMY3xf5At5AKCU025OueN4Gu0M0NpEQaGt35BlAngpOXOHky3mMhmj55p5h3axnQ0HiuimiXG+8imp1o1+iGHn5Jsu3oWNr0OUsSvYSJkWyCpfju79fI/pjRUZ6DAtfltW85S+j425JeSV/xHwFFIX/roTrLUaYooB5Vki3PWDol7y7vVWdnQCE8IiyfcyrKNV9WTKkJ/4B2FXxIHXVbXBEEA8E62hbRbZS8FdeRwawgR2NivQvgQYOdarxNS7rtxt+wswtYXNp/U/qBuLNiP+Oqio+YZcomzMJV7NR/rggRxfET5dfEi/gWLy/hidSHTRCSy/Wbcf0yVjIcklGUnUF6HkLVe8GaBqtTj6op0+uufG9bVLK2bck3HM3LyHJluGdtLVeEsrdjE3agU9rY065eBrXpTCEGt5dmkgmBGgLuY7UY4USw/DvYkw3B5A4AZ+Wcyy8M/9oDtD3XXRBXTRIJSIkvh91PK031P+9zPPFKscuNuiAOq6rPogFLRo/J2L/7MBEHKXxvpiuFkdzfcgiveKv44WURmq9Rqmv8McMT93RM4Zw55qImiCmMRq4iFMtXAOlTiABq11/aPBklXsMx4v4/pLyHu3joTkZXgm+WIWzezyr1o4q8sRbClxlbPe7OrW65ubmgfsaz5vUc+yLyfyH2JlVmaRnE+UGHz+0OPbN+oLZJTaQvBYrfkI8Zrb7JTeuAqFkGvzY9+iIYzAsSl1YhPVPoXsQbYYFMePvPnzDD49q+vhfO9vvT2FbjlnTXLyRAYhONnrr23tcIZ2rW0/NpRDr6X159Z1pHhPkYtX8vzhcOBt/grU12F9vaBr2vyNtHlC0MKlsstzCmSk/keagKXCzZUlBjeJOmZWflyXxrtZLcHkVnT3a4C/vqYU72dwzH/dZFKXOeECQplnezwzujIcAdKmt5o3lMDUKUA6wELJ297qlc9/C2jjiGFWhX3Sp1m4X9gCKtghqFUl9/WNE3KqE0EfQQqL9fV3DOF04KvVZFrvmUwYIvmHz7mM9VE1FNFvuQIKLAbj2K5ynpQbvfyfeaB/I8IgMbzZ6C8TOSVhA4miCj7/Dq6KEqcLvf767IFlIVpl+fzqD7XjhpduJo7WJ4Aqu9/GZF/rwpYag4aFcXx2h1V6UsQSevaOFc/i8HEENaP1gvKrkQ+nEYIbfiZyuEwiz9DUHtW7RdYP7L9t7cULIK1bg9ZBxctJnukqiaI2qGEubA11Jee/e1UPUGrS6UnkR4qydaTXTQoN9qJpceaAcY9GntCw4okxQpJjP5MRIDEGHk3/vNlCudR7DulSoToxWONK6Q2WIRWI8POUAtb6MD1LwsxN8O+lSDrqJX56RTBUYwlUOAHGCM9GN1MV07LGwVMVI5EiEqXZ37jD3IVMmqdxy4inYPYnUd+32kyetO7aI27dOcouJHhHTLn8bpwryVBuv8IOiEtjRcHjl6w2Ef3gInZt0ni8x6QvVHu95oUCjh4xmcrYtj4UwaO9f4plaIQ9FtoimPVFdNInzdt7FUsGe01MHr1NeRIlZRs/VZwlQ+/d9d/Y3tzuChksqbzst3EAhUssq0WdQEE/aNv8CZqqeFjxeJbGtcAE1OQxj2BntSSlAlrAhKLNOx40wAYE526erloNQaecCbOpdYyCrA5Zzi4rWLTCi6BgtWm4XN1upp5gXtRbV1lxQTl4y0p+T+dMZGfl4SjFzV5RJclwh94i5fWXN+lfSBgC/3CNfWIg4Alw60GGKiWOwmUT0wQ/hjQBTbzT9rJvTO8WqxVmrhaJj5olZZvJS8L+D+fcfP8+ue8IkZmA34qjhBOiSr4A7qvmJieuMtSWbd+bMejdVZgglMbPeD7F9OxG8bD9Z89ca0fKyrVbVdysc2T4MEZpwOKQQqlu3Shqi9GwTVYSERajwsHt5LtTlA5d0ccjX6IHHQGXXK3kT6/ROAi1t2EkWukr+fqNTF5WjJ9xGejkVE/YSao1D9ZkV2E6MpNNECeGrhKN7qh1h4BJQYWBwDZTfL+h1ArdE0udFaNOwtXxUp56UM4uPxOmXDnNhTKnAaMltGvPXU+D774IpPCUHF5/hFaZ21bijt4olSLNPuTMlJ9+bqV6HNKO60CHxJQcjSpZ+xLW3DpxboJ6o5nzXpc9bgxiyCtbZrs5MYMdf/cn+z4rhr6rBCLUYi9WIr/79SD4G3p1z9JMxIziJXCte8afm/8QAs4AsHoishhUuTbDsBuIT1eKCX8tb4tg7LiZZcvebhOmMuP0grokKsnzwMKFXcr2FQURAhsmjxjDTbkPbSGp8Fz6RdviZKuMkSbJOyM9HhMk+kGZif4ZaMTmMv0jlq+MZsIYl1BcZ//zBgr8Iqx7KZJZ6F/pZ5lNcq2osch+7NjLfJ8LaGOefu7BE7bpf+KGbt7nt2g5gpky52z9mnIoRFDwS82QZ4PZidYHQVeIZuzjVXOpLbc4p39bLbO/5aNrfW0LbD7eKCMpH1tIQWAblRcEsmR8PZXXyAeB26tIHnlGpRJwhWMGZnKyRYIcRZdBS2MY3K1cnbfosVilIwWSTinwdvJlMjm+Pn55XnTBeakz5AY8NNiCxfeeh7lRl8xiR534oxdB0qOFYrckdRNtq+aQOeCukDj33AWtOBJaPZLtoDskMegH3WWaGCrkNjSXHIvdqaG9OMmKJC2KXnUW4LUfUdFUgAG0j9XweZxQfYGWmAXiQsGIKN6lRKZiHBfNYzLIsqorsLrMkLZMSGFGiA8nqjBHY0sgApuaJh6axPPrJgVSbEtuVh0DG8JQemv5mtOB2bsiJzsr+uzw4Ub6Yrh7hQSRrwF0TDg3tx8lEJyaJBwq8Oh2csGfLjVLJuPjPjcMFCQXx5SKFcOsbrDgQq6wzSCX/W5eSW6TC56YgOAJD+lSuSIlk7/DFZBVXzYAg5Q8PgKXAoIYIme/fWuf431Xq2McGrpHKr55qcMK0oTjuRgrsH4vYCAfkLRYZyn//27shl0zdmUphXQ0NMcWYe6MQMnEuX+iUJkF66HsD8am0suobPb/GIKSSaMalBiym1afIowcWjb01B6QUVRHn+jD7lUZjaGd6ShC1u1QYBzBQkd++seFiGD7/GE9k3upav7k03QFhzZc4jnFmslDeCVbKWQSDgDmTpJMveZjg3UpxbwYX2N3enV0ph/vCv6GmateHIKgyTkscIkzbLzs3NO/qxJa9gIgTk7G8r8Xva3ebn83t5OYaSHWQTDJsL6yxY0Ik2jkgUW8Fu6v6Im58D8q0ONdFzVaVm7JIrFdXnbdv/VHxyrjdw/wLx+m10ODADjNIf6di72YbbxtKAkivkyMZIj1oEC7pJRJqaVr/0tpLdtVimahil8ExEJXqsRLz9k7p+RQqxr6Mxgx0q52ZwV/JV3KNHRbtR8FhVhLAnU0LRIvs+vkxRvCNFX0C4YuGhtf1VpgcbXn/Q5ZwhW91mv1Pf903Y3yVUk7xSHBEe2dokytGE7eXwFC8Yd+PLlCo/dUydYJRwDjj6DZjzupPfoXoDHA/c+2zvHG9LFGPOWwVvA+MWqsUgSgnUUs+ZZiL2uTxtdzFy5xJpM3it9h1Ks1jasr2AExnkCEAbOa12Ix3OqHfwbxPlHMOxskWgrfPj8WLnOspa3eSXltbwroII3YeT6QqqbMRHb8qtuG7VxISMmjYXXG0KstEUiRnuR2/soJT1hYyILjn7JgMgnyW2HsJctj8cirKyDyHGGM/d1rPgFuH3zBW3YFSZL2AYZ9RxpHl5oHQL6HbfbASAALy1ZjnyHIzCEcMcm3ce/m8vEPDzSVOikBavk6nIwyekPRqjHOcz6rsYvjasMnRT337v9yrG74xIRtKoYSZi7Oj3nDYRidmnxdCgXDOn6u1+QURm1jcPrjLaEVtyiKbkZcMahZmw08GUxesP/6DxuL4XvwqsXB9HMFNrvlSXUnMQXSZDhzIi4dAi1NOj/ULVui79MuZZJWNGPpU7FnZ59Bs9VEpSr+MEF9QGJHYkTFEjIw9773JLtjQXhkXNTyWcCLqtSJ73eLDK+hCpBgqZcELHTVNF8M5m5lpegpEJiLpyI0qxGLOpqTV+aG1fCyFhTOCicZJXvgSq72h3QkLG9otHeY5xpLQTV7AlamQV+AOkUeP+pxLuTE0saIgbxdSRraqxKJ3+BLPCkoGn9vIm8t5KqLu//2cE7+Q3PG4CEnTqJ82/OFkKSLy4MDaSBT81I1fPCY6MkS9+ppHaQx4gItziwdMzkGRYC1uNwGCNU0bL1Ggt7mThHLs0JcDt7mYc94Vecc3V2ChV6DDCq9GhXDuker1g7U8K13HF2troTVxRDzE7iKoQfZaIXC7Am3sWOVdCvCcwWtaL0mKygnPRZEvo5CiF76mWmjkhgf8x9szicl9KZ9p0Uo0SiA6/C0OU9N7ALJsJj3jPZQ7zQMb79sMm+t3nfEjehii9TjG40MvDXa+JbWq5bJwcCEGNGnvW8PXYhxi705JroUEKBXUg534FZNLnHCC4niVMGUx3iLQs6szrA0rdvJ/Cn1FUt1Y1RQVUata66oKDIm8+4NJVj2T5HhYcisr7jB1ckCYUDyA9Vm+OShX5wMMEZCesLu27cWuORZdzDlwUqiyaCfiL6ldwYAdNJJq5HNUsB7GEeD3Q/fm9F162UGSNoBu2yz6SAxAZ0rNEBmrzAjrtMAloh9G63u+SEJ5gVIBoISeISP35ZJJjCPelK1Inv7W8xjcWgujwH+qREQ7KPRK+lIbVvAHStEutfHZCdGkmW8z+u0szsvgnWzW1y4teSuaU/aYMlw79CaFY59HIDXkFw7vXCkgHVhZkSp6zNQBejivan0ZOsrQmh7kJVCU37zwPC8vItcxQTWzSaZCWkRTu5iH/htlBL/K1d4oYE/MHj4jsVQ02QzuM4tgoaayouAC2EfHGBRZTQURoA19rlPhikCGvNfJwrGjjeeMJLlSfBpFtbTvLljgx9FVoZcJ09p9e8jWwC/24jZF8/77oR16RluwjG/dn5IMrFbs6dAG4aF2nCsVQgVsw3lqh9MRjrBIM4DfdsPEoF6EQEPSQX8ZrYIREMom0vyOlRwnbXQ/eBezSWJxy1Ug/bOqdto7ouu5vvMFrO8GHysaGZqAdtG5EM2io6IMNWsGmLRoPUz0T/P+bb6BnidSM7zjIF73q2aQMmhQJwtxtWXKL1xGjKsyf1Je1nD554y3VwQ7vFLbZijJ5TeYHpQCruGLR+fbWHJSIvCzAJBZohAVxNdVOpOAd2UvyL7YrVjpjmvKSpLasVaakPoDixzilKtplp40zV7i6PlIgJf+bZOVw2MAI3e6uYBFjhjdCM5O0mrcnKAyhn+rgZv5NrjMZh4FUIJl2jArJrFVMBqNGQPmbAzqI0UCh7u3vLwFSsQEwVyebUjXsqp7b38dsWgNbn825Xfx2wkI62ifUM67OVra3WP4LHVS9tgPxBGTrmEt7PPEaUcf4hUjXwzYVzV7qPFVIX+im0yic0KOXTQKiK8qRoqqUYFxJoLhVVEIAybBjT3DbK61IA2Btc5nBuMUadfyO9a6X5tOQ2gEjbg3T1NKz8ZAMFabqlGjNmrgsIQnLMrXg7IK9pRmjW9WMUUn59dwjHZHKxA/Z2YqQiJQbbY4aENOUdBGdoRjTAUDMw9TLkwDx8dbdDf1mi0KfTevId1OFczhjB0SzHYlL2swx2OVbuAKzJxrGpg0o3JzK4jbdwCoJ0WpTrdHiYwtZItSxG8YcDVNYHUT/4N2GFunQOmMAxzifeVFd1sA8HuIvwheoBn/ru5EsOY+8m6LhwUxPTXlX8JHd0uyMinrgGkR2odgt7R5D/tvk0V8Lg6UpIWntvrwXqEVhLz0spXi3HPxdmC7xYoG22uk71eoPMDCaL+M9KbiVA9FRfC8WVg4z8/LMi3XM9zjkp4zi4Z6+b+A9sBHGAFl7ZteTGvaxlpRuVRntLngyAQlaW69L8Y0KL');
  </script>
<script nonce="VUuWziK6eQTdm2JZydRuHQ">
  gaia = window.gaia || {};
  gaia.ps = gaia.ps || {};
  gaia.ps.hasPrefilledIdentifier = false;
  function gaia_parseFragment() {
  var hash = location.hash;
  var params = {};
  if (!hash) {
  return params;
  }
  var paramStrs = decodeURIComponent(hash.substring(1)).split('&');
  for (var i = 0; i < paramStrs.length; i++) {
      var param = paramStrs[i].split('=');
      params[param[0]] = param[1];
    }
    return params;
  }

  function gaia_prefillEmail() {
    var email = null;
    var form = null;
    if (document.getElementById) {
      email = document.getElementById('Email');
      form = document.getElementById('gaia_loginform');
    }
    if (form && email && (email.value == null || email.value == '')
        && (email.type != 'hidden')) {
      hashParams = gaia_parseFragment();
      if (hashParams['Email'] && hashParams['Email'] != '') {
        email.value = hashParams['Email'];
      }
    }
  }

  
  try {
    gaia_prefillEmail();
  } catch (e) {
  }
  
</script>
<script nonce="VUuWziK6eQTdm2JZydRuHQ">
  var gaia_scrollToElement = function(element) {
  var calculateOffsetHeight = function(element) {
  var curtop = 0;
  if (element.offsetParent) {
  while (element) {
  curtop += element.offsetTop;
  element = element.offsetParent;
  }
  }
  return curtop;
  }
  var siginOffsetHeight = calculateOffsetHeight(element);
  var scrollHeight = siginOffsetHeight - window.innerHeight +
  element.clientHeight + 0.02 * window.innerHeight;
  window.scroll(0, scrollHeight);
  }
</script>
  <script nonce="VUuWziK6eQTdm2JZydRuHQ">
  if (gaia.ps.hasPrefilledIdentifier) {
  var form = document.getElementById('gaia_loginform');
  if (form) {
  form.submit();
  }
  }
  </script>
<script nonce="VUuWziK6eQTdm2JZydRuHQ">
  (function(){
  gaia_onLoginSubmit = function() {
  try {
  gaia.loginAutoRedirect.stop();
  } catch (err) {
  // do not prevent form from being submitted
  }
  try {
  document.bg.invoke(function(response) {
  document.getElementById('bgresponse').value = response;
  });
  } catch (err) {
  document.getElementById('bgresponse').value = '';
  }
  return true;
  }
  document.getElementById('gaia_loginform').onsubmit = gaia_onLoginSubmit;
  var signinButton;
  signinButton = document.getElementById('next');
  gaia_attachEvent(window, 'load', function(){
  gaia_scrollToElement(signinButton);
  });
  })();
</script>
  <script nonce="VUuWziK6eQTdm2JZydRuHQ">var e=this,g=function(b,c){b=b.split(".");var a=e;b[0]in a||!a.execScript||a.execScript("var "+b[0]);for(var d;b.length&&(d=b.shift());)b.length||void 0===c?a[d]?a=a[d]:a=a[d]={}:a[d]=c};var h=function(){try{return new XMLHttpRequest}catch(a){for(var b=["MSXML2.XMLHTTP.6.0","MSXML2.XMLHTTP.3.0","MSXML2.XMLHTTP","Microsoft.XMLHTTP"],c=0;c<b.length;c++)try{return new ActiveXObject(b[c])}catch(d){}}return null};g("gaia.ajax.newXmlHttpRequest",h);var k=function(){this.a=h();this.parameters={}};g("gaia.ajax.XmlHttpFormRequest",k);
k.prototype.send=function(b,c){var a=[],d;for(d in this.parameters)a.push(d+"="+encodeURIComponent(this.parameters[d]));a=a.join("&");var f=this.a;f.open("POST",b,!0);f.setRequestHeader("Content-type","application/x-www-form-urlencoded");f.onreadystatechange=function(){4==f.readyState&&c({status:f.status,text:f.responseText})};f.send(a)};k.prototype.send=k.prototype.send;
k.prototype.h=function(b,c,a){var d=this.a;d.open("POST",b,!0);d.setRequestHeader("Content-type","application/json");d.onreadystatechange=function(){4==d.readyState&&a({status:d.status,text:d.responseText})};d.send(c)};k.prototype.sendJson=k.prototype.h;k.prototype.get=function(b,c){var a=this.a;a.open("GET",b,!0);a.onreadystatechange=function(){4==a.readyState&&c({status:a.status,text:a.responseText})};a.send()};k.prototype.get=k.prototype.get;var l=/\s*;\s*/,m=function(){if(!document.cookie)return"";for(var b=document.cookie.split(l),c=0;c<b.length;c++){var a=b[c];a=a.replace(/^\s+/,"");a=a.replace(/\s+$/,"");if(0==a.indexOf("APISID="))return a.substr(7)}return""};var n=null,p=function(b,c){this.g=b;this.f=c;this.c=m();this.b=!1},q=function(){var b=n,c=m();c==b.c||b.b||(b.c=c,(new k).get(b.f,function(a){var d=n;a&&a.status&&200==a.status&&"OK"==a.text&&(d.a&&clearInterval(d.a),d.b||(window.location=d.g))}))};p.prototype.start=function(b){if(this.a)return!1;this.a=setInterval(function(){q()},b);return!0};g("gaia.loginAutoRedirect.start",function(b,c,a){if(n||!a||!c||0>=b)return!1;n=new p(c,a);return n.start(b)});
g("gaia.loginAutoRedirect.stop",function(){var b=n;b.b=!0;b.a&&(clearInterval(b.a),b.a=null)});
</script>
  <script type="text/javascript" nonce="VUuWziK6eQTdm2JZydRuHQ">
  gaia.loginAutoRedirect.start(5000,
  'https:\x2F\x2Faccounts.google.com\x2FServiceLogin?continue=https%3A%2F%2Fdocs.google.com%2Fuc%3Fexport%3Ddownload%26id%3D1d_ourbLJnhBrfPieLlQNc696Q5Tx9zBe\x26followup=https%3A%2F%2Fdocs.google.com%2Fuc%3Fexport%3Ddownload%26id%3D1d_ourbLJnhBrfPieLlQNc696Q5Tx9zBe\x26service=wise\x26ltmpl=homepage\x26passive=1209600\x26noautologin=true',
  'https:\x2F\x2Faccounts.google.com\x2FPassiveLoginProber?continue=https%3A%2F%2Fdocs.google.com%2Fuc%3Fexport%3Ddownload%26id%3D1d_ourbLJnhBrfPieLlQNc696Q5Tx9zBe\x26followup=https%3A%2F%2Fdocs.google.com%2Fuc%3Fexport%3Ddownload%26id%3D1d_ourbLJnhBrfPieLlQNc696Q5Tx9zBe\x26service=wise\x26ltmpl=homepage\x26passive=1209600');
  </script>
  </body>
</html>
