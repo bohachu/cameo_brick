{
  "nbformat": 4,
  "nbformat_minor": 0,
  "metadata": {
    "colab": {
      "name": "積木塊示範共學團.ipynb",
      "provenance": [],
      "collapsed_sections": [],
      "authorship_tag": "ABX9TyOm9WTzGWvWn+WlpYxgzBa+",
      "include_colab_link": true
    },
    "kernelspec": {
      "name": "python3",
      "display_name": "Python 3"
    }
  },
  "cells": [
    {
      "cell_type": "markdown",
      "metadata": {
        "id": "view-in-github",
        "colab_type": "text"
      },
      "source": [
        "<a href=\"https://colab.research.google.com/github/bohachu/cameo_brick/blob/master/%E7%8B%97%E9%9B%B7%E4%BC%AF/%E7%A9%8D%E6%9C%A8%E5%A1%8A%E7%A4%BA%E7%AF%84%E5%85%B1%E5%AD%B8%E5%9C%98.ipynb\" target=\"_parent\"><img src=\"https://colab.research.google.com/assets/colab-badge.svg\" alt=\"Open In Colab\"/></a>"
      ]
    },
    {
      "cell_type": "code",
      "metadata": {
        "id": "PvV5jeGXAtVm",
        "colab_type": "code",
        "colab": {
          "base_uri": "https://localhost:8080/",
          "height": 34
        },
        "outputId": "6992bf1a-69b0-41f7-b7b2-8022b7df73e0"
      },
      "source": [
        "#如何在github抓取已經寫好的python模組來運用在🐶雷伯\n",
        "from os.path import exists\n",
        "if not exists(\"cameo_brick\"):\n",
        "    !git clone https://github.com/bohachu/cameo_brick.git\n",
        "from cameo_brick.狗雷伯.零零一狗雷伯呼叫github import 呼叫github\n",
        "呼叫github(\"我是一條🐲\")\n"
      ],
      "execution_count": 48,
      "outputs": [
        {
          "output_type": "execute_result",
          "data": {
            "text/plain": [
              "'🐶雷伯已經聽到來自 我是一條🐲 的呼喚'"
            ]
          },
          "metadata": {
            "tags": []
          },
          "execution_count": 48
        }
      ]
    },
    {
      "cell_type": "code",
      "metadata": {
        "id": "yCcy3Dx_UIB3",
        "colab_type": "code",
        "colab": {}
      },
      "source": [
        ""
      ],
      "execution_count": 0,
      "outputs": []
    }
  ]
}