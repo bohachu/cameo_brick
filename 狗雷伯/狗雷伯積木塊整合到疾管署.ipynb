{
  "nbformat": 4,
  "nbformat_minor": 0,
  "metadata": {
    "colab": {
      "name": "狗雷伯積木塊整合到疾管署.ipynb",
      "provenance": [],
      "authorship_tag": "ABX9TyOQ7UjOS4dnCi4InY75MqF2",
      "include_colab_link": true
    },
    "kernelspec": {
      "name": "python3",
      "display_name": "Python 3"
    }
  },
  "cells": [
    {
      "cell_type": "markdown",
      "metadata": {
        "id": "view-in-github",
        "colab_type": "text"
      },
      "source": [
        "<a href=\"https://colab.research.google.com/github/bohachu/cameo_brick/blob/master/%E7%8B%97%E9%9B%B7%E4%BC%AF/%E7%8B%97%E9%9B%B7%E4%BC%AF%E7%A9%8D%E6%9C%A8%E5%A1%8A%E6%95%B4%E5%90%88%E5%88%B0%E7%96%BE%E7%AE%A1%E7%BD%B2.ipynb\" target=\"_parent\"><img src=\"https://colab.research.google.com/assets/colab-badge.svg\" alt=\"Open In Colab\"/></a>"
      ]
    },
    {
      "cell_type": "code",
      "metadata": {
        "id": "erSLxI_qRMJZ",
        "colab_type": "code",
        "colab": {
          "base_uri": "https://localhost:8080/",
          "height": 140
        },
        "outputId": "3564f552-ff77-44e5-b39f-fa9fdca3d058"
      },
      "source": [
        "#如何在github抓取已經寫好的python模組來運用在🐶雷伯\n",
        "#https://colab.research.google.com/drive/1d_ourbLJnhBrfPieLlQNc696Q5Tx9zBe\n",
        "from os.path import exists\n",
        "if not exists(\"/content/cameo_brick\"):    \n",
        "    !git clone https://github.com/bohachu/cameo_brick.git"
      ],
      "execution_count": 1,
      "outputs": [
        {
          "output_type": "stream",
          "text": [
            "Cloning into 'cameo_brick'...\n",
            "remote: Enumerating objects: 149, done.\u001b[K\n",
            "remote: Counting objects: 100% (149/149), done.\u001b[K\n",
            "remote: Compressing objects: 100% (113/113), done.\u001b[K\n",
            "remote: Total 149 (delta 77), reused 92 (delta 30), pack-reused 0\u001b[K\n",
            "Receiving objects: 100% (149/149), 67.45 KiB | 379.00 KiB/s, done.\n",
            "Resolving deltas: 100% (77/77), done.\n"
          ],
          "name": "stdout"
        }
      ]
    }
  ]
}