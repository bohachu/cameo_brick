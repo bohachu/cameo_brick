{
  "nbformat": 4,
  "nbformat_minor": 0,
  "metadata": {
    "accelerator": "GPU",
    "colab": {
      "name": "julia_on_colab_pm25_hourly_fast.ipynb",
      "provenance": [],
      "collapsed_sections": [],
      "include_colab_link": true
    },
    "kernelspec": {
      "display_name": "Julia 1.3",
      "language": "julia",
      "name": "julia-1.3"
    },
    "language_info": {
      "file_extension": ".jl",
      "mimetype": "application/julia",
      "name": "julia",
      "version": "1.3"
    }
  },
  "cells": [
    {
      "cell_type": "markdown",
      "metadata": {
        "id": "view-in-github",
        "colab_type": "text"
      },
      "source": [
        "<a href=\"https://colab.research.google.com/github/bohachu/colab/blob/master/julia_on_colab_pm25_hourly_fast.ipynb\" target=\"_parent\"><img src=\"https://colab.research.google.com/assets/colab-badge.svg\" alt=\"Open In Colab\"/></a>"
      ]
    },
    {
      "cell_type": "code",
      "metadata": {
        "colab_type": "code",
        "id": "PMGwZ7aFJL8Y",
        "outputId": "8ba5da21-bb7d-44ea-b040-4275b0cb2cbe",
        "colab": {
          "base_uri": "https://localhost:8080/",
          "height": 69
        }
      },
      "source": [
        "# Installation cell\n",
        "%%shell\n",
        "if ! command -v julia 3>&1 > /dev/null\n",
        "then\n",
        "    wget 'https://julialang-s3.julialang.org/bin/linux/x64/1.3/julia-1.3.1-linux-x86_64.tar.gz' \\\n",
        "        -O /tmp/julia.tar.gz\n",
        "    tar -x -f /tmp/julia.tar.gz -C /usr/local --strip-components 1\n",
        "    rm /tmp/julia.tar.gz\n",
        "fi\n",
        "julia -e 'using Pkg; pkg\"add IJulia; precompile;\"'\n",
        "echo 'Done'"
      ],
      "execution_count": 35,
      "outputs": [
        {
          "output_type": "display_data",
          "data": {
            "text/latex": "Unrecognized magic \\texttt{\\%\\%shell}.\n\nJulia does not use the IPython \\texttt{\\%magic} syntax.   To interact with the IJulia kernel, use \\texttt{IJulia.somefunction(...)}, for example.  Julia macros, string macros, and functions can be used to accomplish most of the other functionalities of IPython magics.\n\n",
            "text/markdown": "Unrecognized magic `%%shell`.\n\nJulia does not use the IPython `%magic` syntax.   To interact with the IJulia kernel, use `IJulia.somefunction(...)`, for example.  Julia macros, string macros, and functions can be used to accomplish most of the other functionalities of IPython magics.\n",
            "text/plain": [
              "  Unrecognized magic \u001b[36m%%shell\u001b[39m.\n",
              "\n",
              "  Julia does not use the IPython \u001b[36m%magic\u001b[39m syntax. To interact with the IJulia\n",
              "  kernel, use \u001b[36mIJulia.somefunction(...)\u001b[39m, for example. Julia macros, string\n",
              "  macros, and functions can be used to accomplish most of the other\n",
              "  functionalities of IPython magics."
            ]
          },
          "metadata": {
            "tags": []
          }
        }
      ]
    },
    {
      "cell_type": "code",
      "metadata": {
        "id": "THsCmfWuu42t",
        "colab_type": "code",
        "outputId": "92590b13-756a-47f7-81f6-7471379b062e",
        "colab": {
          "base_uri": "https://localhost:8080/",
          "height": 108
        }
      },
      "source": [
        "import Pkg; Pkg.add(\"Dates\")\n",
        "import Dates\n",
        "Dates.now()\n",
        "if !isfile(\"epa_micro_20200101.zip\")\n",
        "    run(`wget -q --no-check-certificate https://ci.taiwan.gov.tw/dsp/history/epa_micro/202001/epa_micro_20200101.zip`)\n",
        "    run(`unzip epa_micro_20200101.zip`)\n",
        "end"
      ],
      "execution_count": 36,
      "outputs": [
        {
          "output_type": "stream",
          "text": [
            "\u001b[32m\u001b[1m Resolving\u001b[22m\u001b[39m package versions...\n",
            "\u001b[32m\u001b[1m  Updating\u001b[22m\u001b[39m `~/.julia/environments/v1.3/Project.toml`\n",
            "\u001b[90m [no changes]\u001b[39m\n",
            "\u001b[32m\u001b[1m  Updating\u001b[22m\u001b[39m `~/.julia/environments/v1.3/Manifest.toml`\n",
            "\u001b[90m [no changes]\u001b[39m\n"
          ],
          "name": "stdout"
        }
      ]
    },
    {
      "cell_type": "code",
      "metadata": {
        "id": "WR6gBBLKu_Ha",
        "colab_type": "code",
        "colab": {
          "base_uri": "https://localhost:8080/",
          "height": 199
        },
        "outputId": "324b5cf9-b581-494f-812e-e785209c34d0"
      },
      "source": [
        "@time begin\n",
        "    println(\"$(Dates.now()), add packages\")\n",
        "    import Pkg; Pkg.add([\"DataFramesMeta\",\"CSV\",\"DataFrames\",\"Statistics\"])\n",
        "    using DataFramesMeta,CSV,DataFrames,Statistics\n",
        "end\n",
        "\n",
        "function go()\n",
        "    str_file_name=\"epa_micro_20200101.csv\"\n",
        "    df_pm25 = CSV.File(str_file_name) |> DataFrame!\n",
        "    df_pm25=dropmissing(df_pm25, Symbol(\"PM2.5\"))\n",
        "    select!(df_pm25, Not(:humidity))\n",
        "    select!(df_pm25, Not(:temperature))\n",
        "    cut_to_hour(str_time)=str_time[1:14]*\"00:00\"\n",
        "    df_pm25=hcat(df_pm25, @with(df_pm25, cut_to_hour.(:time)))\n",
        "    select!(df_pm25, Not(:time))    \n",
        "    rename!(df_pm25, Symbol.([\"id\",\"pm25\",\"hour\"]))\n",
        "    df_pm25=by(df_pm25, [:id,:hour], df -> round(mean(df[:, :pm25]),digits=2))\n",
        "    rename!(df_pm25, Symbol.([\"id\",\"hour\",\"pm25_mean\"]))\n",
        "    df_pm25=sort(df_pm25,:id)\n",
        "    CSV.write(\"hourly_$(str_file_name)\",df_pm25)\n",
        "end\n",
        "\n",
        "@time begin\n",
        "    println(\"$(Dates.now()), go() begin\")\n",
        "    go()\n",
        "    println(\"$(Dates.now()), go() end\")\n",
        "end"
      ],
      "execution_count": 37,
      "outputs": [
        {
          "output_type": "stream",
          "text": [
            "2020-04-25T10:17:28.249, add packages\n",
            "\u001b[32m\u001b[1m Resolving\u001b[22m\u001b[39m package versions...\n",
            "\u001b[32m\u001b[1m  Updating\u001b[22m\u001b[39m `~/.julia/environments/v1.3/Project.toml`\n",
            "\u001b[90m [no changes]\u001b[39m\n",
            "\u001b[32m\u001b[1m  Updating\u001b[22m\u001b[39m `~/.julia/environments/v1.3/Manifest.toml`\n",
            "\u001b[90m [no changes]\u001b[39m\n",
            "  0.137611 seconds (844.02 k allocations: 46.924 MiB)\n",
            "2020-04-25T10:17:28.435, go() begin\n",
            "2020-04-25T10:17:29.855, go() end\n",
            "  1.420038 seconds (6.73 M allocations: 802.957 MiB, 10.76% gc time)\n"
          ],
          "name": "stdout"
        }
      ]
    },
    {
      "cell_type": "code",
      "metadata": {
        "id": "2YtG_i1gvADe",
        "colab_type": "code",
        "colab": {}
      },
      "source": [
        "#wget --no-check-certificate 'https://docs.google.com/uc?export=download&id=1eIVoNhqBglC4qfSIan6Dpn49bx1hxmLI' -O a.ipynb\n",
        "#time jupyter nbconvert --ExecutePreprocessor.timeout=-1 --to notebook --execute a.ipynb"
      ],
      "execution_count": 0,
      "outputs": []
    }
  ]
}