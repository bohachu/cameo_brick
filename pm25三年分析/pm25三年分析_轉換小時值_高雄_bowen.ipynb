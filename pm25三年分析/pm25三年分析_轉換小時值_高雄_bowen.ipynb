{
  "nbformat": 4,
  "nbformat_minor": 0,
  "metadata": {
    "colab": {
      "name": "pm25三年分析_轉換小時值_高雄_bowen.ipynb",
      "provenance": [],
      "collapsed_sections": [],
      "include_colab_link": true
    },
    "kernelspec": {
      "name": "python3",
      "display_name": "Python 3"
    }
  },
  "cells": [
    {
      "cell_type": "markdown",
      "metadata": {
        "id": "view-in-github",
        "colab_type": "text"
      },
      "source": [
        "<a href=\"https://colab.research.google.com/github/bohachu/colab/blob/master/pm25%E4%B8%89%E5%B9%B4%E5%88%86%E6%9E%90_%E8%BD%89%E6%8F%9B%E5%B0%8F%E6%99%82%E5%80%BC_%E9%AB%98%E9%9B%84_bowen.ipynb\" target=\"_parent\"><img src=\"https://colab.research.google.com/assets/colab-badge.svg\" alt=\"Open In Colab\"/></a>"
      ]
    },
    {
      "cell_type": "code",
      "metadata": {
        "id": "hLFp2ARmEeYi",
        "colab_type": "code",
        "outputId": "4000cd14-a594-4464-cda5-9e38238d3b29",
        "colab": {
          "base_uri": "https://localhost:8080/",
          "height": 238
        }
      },
      "source": [
        "#20200425 17:33 版本號測試\n",
        "#到網路上把中華電信提供的資料全部抓到🐶雷伯 colab 準備開始進行轉檔\n",
        "str_高雄pm25_zip = '''\n",
        "https://iot.epa.gov.tw/iot/project/download/108-109年高雄市空氣品質感測物聯網布建計畫_rawdata_2020-04-16_10-48-28_1.zip\n",
        "https://iot.epa.gov.tw/iot/project/download/108-109年高雄市空氣品質感測物聯網布建計畫_rawdata_2020-04-16_10-48-28_2.zip\n",
        "https://iot.epa.gov.tw/iot/project/download/108-109年高雄市空氣品質感測物聯網布建計畫_rawdata_2020-04-16_10-48-28_3.zip\n",
        "https://iot.epa.gov.tw/iot/project/download/108-109年高雄市空氣品質感測物聯網布建計畫_rawdata_2020-04-16_10-48-28_4.zip\n",
        "https://iot.epa.gov.tw/iot/project/download/108-109年高雄市空氣品質感測物聯網布建計畫_rawdata_2020-04-16_10-48-28_5.zip\n",
        "https://iot.epa.gov.tw/iot/project/download/108-109年高雄市空氣品質感測物聯網布建計畫_rawdata_2020-04-16_10-48-28_6.zip\n",
        "https://iot.epa.gov.tw/iot/project/download/108-109年高雄市空氣品質感測物聯網布建計畫_rawdata_2020-04-16_10-48-28_7.zip\n",
        "https://iot.epa.gov.tw/iot/project/download/108-109年高雄市空氣品質感測物聯網布建計畫_rawdata_2020-04-16_10-48-28_8.zip\n",
        "https://iot.epa.gov.tw/iot/project/download/108-109年高雄市空氣品質感測物聯網布建計畫_rawdata_2020-04-16_10-48-28_9.zip\n",
        "https://iot.epa.gov.tw/iot/project/download/108-109年高雄市空氣品質感測物聯網布建計畫_rawdata_2020-04-16_10-48-28_10.zip\n",
        "https://iot.epa.gov.tw/iot/project/download/108-109年高雄市空氣品質感測物聯網布建計畫_rawdata_2020-04-16_10-48-28_11.zip\n",
        "'''\n",
        "from os import system\n",
        "from os.path import isfile\n",
        "for str_line in str_高雄pm25_zip.split(\"\\n\"):\n",
        "    print(str_line)\n",
        "    if not isfile(str_line.split('/')[-1]):\n",
        "        system(f'wget {str_line}') \n",
        "        system(f'unzip {str_filename}') "
      ],
      "execution_count": 0,
      "outputs": [
        {
          "output_type": "stream",
          "text": [
            "\n",
            "https://iot.epa.gov.tw/iot/project/download/108-109年高雄市空氣品質感測物聯網布建計畫_rawdata_2020-04-16_10-48-28_1.zip\n",
            "https://iot.epa.gov.tw/iot/project/download/108-109年高雄市空氣品質感測物聯網布建計畫_rawdata_2020-04-16_10-48-28_2.zip\n",
            "https://iot.epa.gov.tw/iot/project/download/108-109年高雄市空氣品質感測物聯網布建計畫_rawdata_2020-04-16_10-48-28_3.zip\n",
            "https://iot.epa.gov.tw/iot/project/download/108-109年高雄市空氣品質感測物聯網布建計畫_rawdata_2020-04-16_10-48-28_4.zip\n",
            "https://iot.epa.gov.tw/iot/project/download/108-109年高雄市空氣品質感測物聯網布建計畫_rawdata_2020-04-16_10-48-28_5.zip\n",
            "https://iot.epa.gov.tw/iot/project/download/108-109年高雄市空氣品質感測物聯網布建計畫_rawdata_2020-04-16_10-48-28_6.zip\n",
            "https://iot.epa.gov.tw/iot/project/download/108-109年高雄市空氣品質感測物聯網布建計畫_rawdata_2020-04-16_10-48-28_7.zip\n",
            "https://iot.epa.gov.tw/iot/project/download/108-109年高雄市空氣品質感測物聯網布建計畫_rawdata_2020-04-16_10-48-28_8.zip\n",
            "https://iot.epa.gov.tw/iot/project/download/108-109年高雄市空氣品質感測物聯網布建計畫_rawdata_2020-04-16_10-48-28_9.zip\n",
            "https://iot.epa.gov.tw/iot/project/download/108-109年高雄市空氣品質感測物聯網布建計畫_rawdata_2020-04-16_10-48-28_10.zip\n",
            "https://iot.epa.gov.tw/iot/project/download/108-109年高雄市空氣品質感測物聯網布建計畫_rawdata_2020-04-16_10-48-28_11.zip\n",
            "\n"
          ],
          "name": "stdout"
        }
      ]
    },
    {
      "cell_type": "code",
      "metadata": {
        "id": "GJZ1SWAMW_y-",
        "colab_type": "code",
        "outputId": "de1add16-cdeb-465f-dd3d-6206a1875314",
        "colab": {
          "base_uri": "https://localhost:8080/",
          "height": 1000
        }
      },
      "source": [
        "#用蟒蛇熊把 pm2.5 分鐘值 rawdata_xxx.csv 轉換為小時值 hourly_xxx.csv\n",
        "import pandas as pd\n",
        "from os.path import isfile\n",
        "from glob import glob\n",
        "def 組合出每小時時間(row):\n",
        "    return f\"{row.年}-{row.月:02}-{row.日:02} {row.時:02}:00:00\"\n",
        "for str_csv in glob('rawdata*.csv'):\n",
        "    print(f'convert {str_csv} to hourly_{str_csv}')\n",
        "    if isfile(f'hourly_{str_csv}'):\n",
        "        continue\n",
        "    df = pd.read_csv(str_csv)\n",
        "    df = df[['設備編號','時間','測值']]\n",
        "    df=df[df[\"測值\"]!=0]\n",
        "    times = pd.DatetimeIndex(df[\"時間\"])\n",
        "    df_mean = df.groupby([\"設備編號\",times.year,times.month,times.day,times.hour]).mean()\n",
        "    df_mean.index.names = [\"設備編號\",\"年\",\"月\",\"日\",\"時\"]\n",
        "    df_reset = df_mean.reset_index()\n",
        "    df_reset['組合後小時時間'] = df_reset[[\"年\",\"月\",\"日\",\"時\"]].apply(組合出每小時時間, axis=1)\n",
        "    df=df_reset.drop(columns=[\"年\",\"月\",\"日\",\"時\"])\n",
        "    df.to_csv(f'hourly_{str_csv}')"
      ],
      "execution_count": 0,
      "outputs": [
        {
          "output_type": "stream",
          "text": [
            "convert rawdata_2020-04-16_10-48-28_74.csv to hourly_rawdata_2020-04-16_10-48-28_74.csv\n",
            "convert rawdata_2020-04-16_10-48-28_8.csv to hourly_rawdata_2020-04-16_10-48-28_8.csv\n",
            "convert rawdata_2020-04-16_10-48-28_30.csv to hourly_rawdata_2020-04-16_10-48-28_30.csv\n",
            "convert rawdata_2020-04-16_10-48-28_28.csv to hourly_rawdata_2020-04-16_10-48-28_28.csv\n",
            "convert rawdata_2020-04-16_10-48-28_40.csv to hourly_rawdata_2020-04-16_10-48-28_40.csv\n",
            "convert rawdata_2020-04-16_10-48-28_37.csv to hourly_rawdata_2020-04-16_10-48-28_37.csv\n",
            "convert rawdata_2020-04-16_10-48-28_73.csv to hourly_rawdata_2020-04-16_10-48-28_73.csv\n",
            "convert rawdata_2020-04-16_10-48-28_84.csv to hourly_rawdata_2020-04-16_10-48-28_84.csv\n",
            "convert rawdata_2020-04-16_10-48-28_56.csv to hourly_rawdata_2020-04-16_10-48-28_56.csv\n",
            "convert rawdata_2020-04-16_10-48-28_34.csv to hourly_rawdata_2020-04-16_10-48-28_34.csv\n",
            "convert rawdata_2020-04-16_10-48-28_77.csv to hourly_rawdata_2020-04-16_10-48-28_77.csv\n",
            "convert rawdata_2020-04-16_10-48-28_16.csv to hourly_rawdata_2020-04-16_10-48-28_16.csv\n",
            "convert rawdata_2020-04-16_10-48-28_85.csv to hourly_rawdata_2020-04-16_10-48-28_85.csv\n",
            "convert rawdata_2020-04-16_10-48-28_45.csv to hourly_rawdata_2020-04-16_10-48-28_45.csv\n",
            "convert rawdata_2020-04-16_10-48-28_10.csv to hourly_rawdata_2020-04-16_10-48-28_10.csv\n",
            "convert rawdata_2020-04-16_10-48-28_11.csv to hourly_rawdata_2020-04-16_10-48-28_11.csv\n",
            "convert rawdata_2020-04-16_10-48-28_89.csv to hourly_rawdata_2020-04-16_10-48-28_89.csv\n",
            "convert rawdata_2020-04-16_10-48-28_31.csv to hourly_rawdata_2020-04-16_10-48-28_31.csv\n",
            "convert rawdata_2020-04-16_10-48-28_65.csv to hourly_rawdata_2020-04-16_10-48-28_65.csv\n",
            "convert rawdata_2020-04-16_10-48-28_47.csv to hourly_rawdata_2020-04-16_10-48-28_47.csv\n",
            "convert rawdata_2020-04-16_10-48-28_1.csv to hourly_rawdata_2020-04-16_10-48-28_1.csv\n",
            "convert rawdata_2020-04-16_10-48-28_3.csv to hourly_rawdata_2020-04-16_10-48-28_3.csv\n",
            "convert rawdata_2020-04-16_10-48-28_32.csv to hourly_rawdata_2020-04-16_10-48-28_32.csv\n",
            "convert rawdata_2020-04-16_10-48-28_26.csv to hourly_rawdata_2020-04-16_10-48-28_26.csv\n",
            "convert rawdata_2020-04-16_10-48-28_35.csv to hourly_rawdata_2020-04-16_10-48-28_35.csv\n",
            "convert rawdata_2020-04-16_10-48-28_96.csv to hourly_rawdata_2020-04-16_10-48-28_96.csv\n",
            "convert rawdata_2020-04-16_10-48-28_87.csv to hourly_rawdata_2020-04-16_10-48-28_87.csv\n",
            "convert rawdata_2020-04-16_10-48-28_83.csv to hourly_rawdata_2020-04-16_10-48-28_83.csv\n",
            "convert rawdata_2020-04-16_10-48-28_72.csv to hourly_rawdata_2020-04-16_10-48-28_72.csv\n",
            "convert rawdata_2020-04-16_10-48-28_15.csv to hourly_rawdata_2020-04-16_10-48-28_15.csv\n",
            "convert rawdata_2020-04-16_10-48-28_76.csv to hourly_rawdata_2020-04-16_10-48-28_76.csv\n",
            "convert rawdata_2020-04-16_10-48-28_60.csv to hourly_rawdata_2020-04-16_10-48-28_60.csv\n",
            "convert rawdata_2020-04-16_10-48-28_41.csv to hourly_rawdata_2020-04-16_10-48-28_41.csv\n",
            "convert rawdata_2020-04-16_10-48-28_58.csv to hourly_rawdata_2020-04-16_10-48-28_58.csv\n",
            "convert rawdata_2020-04-16_10-48-28_5.csv to hourly_rawdata_2020-04-16_10-48-28_5.csv\n",
            "convert rawdata_2020-04-16_10-48-28.csv to hourly_rawdata_2020-04-16_10-48-28.csv\n",
            "convert rawdata_2020-04-16_10-48-28_59.csv to hourly_rawdata_2020-04-16_10-48-28_59.csv\n",
            "convert rawdata_2020-04-16_10-48-28_48.csv to hourly_rawdata_2020-04-16_10-48-28_48.csv\n",
            "convert rawdata_2020-04-16_10-48-28_82.csv to hourly_rawdata_2020-04-16_10-48-28_82.csv\n",
            "convert rawdata_2020-04-16_10-48-28_53.csv to hourly_rawdata_2020-04-16_10-48-28_53.csv\n",
            "convert rawdata_2020-04-16_10-48-28_14.csv to hourly_rawdata_2020-04-16_10-48-28_14.csv\n",
            "convert rawdata_2020-04-16_10-48-28_49.csv to hourly_rawdata_2020-04-16_10-48-28_49.csv\n",
            "convert rawdata_2020-04-16_10-48-28_64.csv to hourly_rawdata_2020-04-16_10-48-28_64.csv\n",
            "convert rawdata_2020-04-16_10-48-28_95.csv to hourly_rawdata_2020-04-16_10-48-28_95.csv\n",
            "convert rawdata_2020-04-16_10-48-28_81.csv to hourly_rawdata_2020-04-16_10-48-28_81.csv\n",
            "convert rawdata_2020-04-16_10-48-28_66.csv to hourly_rawdata_2020-04-16_10-48-28_66.csv\n",
            "convert rawdata_2020-04-16_10-48-28_4.csv to hourly_rawdata_2020-04-16_10-48-28_4.csv\n",
            "convert rawdata_2020-04-16_10-48-28_67.csv to hourly_rawdata_2020-04-16_10-48-28_67.csv\n",
            "convert rawdata_2020-04-16_10-48-28_21.csv to hourly_rawdata_2020-04-16_10-48-28_21.csv\n",
            "convert rawdata_2020-04-16_10-48-28_25.csv to hourly_rawdata_2020-04-16_10-48-28_25.csv\n",
            "convert rawdata_2020-04-16_10-48-28_91.csv to hourly_rawdata_2020-04-16_10-48-28_91.csv\n",
            "convert rawdata_2020-04-16_10-48-28_19.csv to hourly_rawdata_2020-04-16_10-48-28_19.csv\n",
            "convert rawdata_2020-04-16_10-48-28_61.csv to hourly_rawdata_2020-04-16_10-48-28_61.csv\n",
            "convert rawdata_2020-04-16_10-48-28_78.csv to hourly_rawdata_2020-04-16_10-48-28_78.csv\n",
            "convert rawdata_2020-04-16_10-48-28_43.csv to hourly_rawdata_2020-04-16_10-48-28_43.csv\n",
            "convert rawdata_2020-04-16_10-48-28_29.csv to hourly_rawdata_2020-04-16_10-48-28_29.csv\n",
            "convert rawdata_2020-04-16_10-48-28_9.csv to hourly_rawdata_2020-04-16_10-48-28_9.csv\n",
            "convert rawdata_2020-04-16_10-48-28_12.csv to hourly_rawdata_2020-04-16_10-48-28_12.csv\n",
            "convert rawdata_2020-04-16_10-48-28_42.csv to hourly_rawdata_2020-04-16_10-48-28_42.csv\n",
            "convert rawdata_2020-04-16_10-48-28_63.csv to hourly_rawdata_2020-04-16_10-48-28_63.csv\n",
            "convert rawdata_2020-04-16_10-48-28_6.csv to hourly_rawdata_2020-04-16_10-48-28_6.csv\n",
            "convert rawdata_2020-04-16_10-48-28_36.csv to hourly_rawdata_2020-04-16_10-48-28_36.csv\n",
            "convert rawdata_2020-04-16_10-48-28_17.csv to hourly_rawdata_2020-04-16_10-48-28_17.csv\n",
            "convert rawdata_2020-04-16_10-48-28_13.csv to hourly_rawdata_2020-04-16_10-48-28_13.csv\n",
            "convert rawdata_2020-04-16_10-48-28_44.csv to hourly_rawdata_2020-04-16_10-48-28_44.csv\n",
            "convert rawdata_2020-04-16_10-48-28_38.csv to hourly_rawdata_2020-04-16_10-48-28_38.csv\n",
            "convert rawdata_2020-04-16_10-48-28_68.csv to hourly_rawdata_2020-04-16_10-48-28_68.csv\n",
            "convert rawdata_2020-04-16_10-48-28_99.csv to hourly_rawdata_2020-04-16_10-48-28_99.csv\n",
            "convert rawdata_2020-04-16_10-48-28_7.csv to hourly_rawdata_2020-04-16_10-48-28_7.csv\n",
            "convert rawdata_2020-04-16_10-48-28_97.csv to hourly_rawdata_2020-04-16_10-48-28_97.csv\n",
            "convert rawdata_2020-04-16_10-48-28_69.csv to hourly_rawdata_2020-04-16_10-48-28_69.csv\n",
            "convert rawdata_2020-04-16_10-48-28_71.csv to hourly_rawdata_2020-04-16_10-48-28_71.csv\n",
            "convert rawdata_2020-04-16_10-48-28_55.csv to hourly_rawdata_2020-04-16_10-48-28_55.csv\n",
            "convert rawdata_2020-04-16_10-48-28_98.csv to hourly_rawdata_2020-04-16_10-48-28_98.csv\n",
            "convert rawdata_2020-04-16_10-48-28_94.csv to hourly_rawdata_2020-04-16_10-48-28_94.csv\n",
            "convert rawdata_2020-04-16_10-48-28_100.csv to hourly_rawdata_2020-04-16_10-48-28_100.csv\n",
            "convert rawdata_2020-04-16_10-48-28_101.csv to hourly_rawdata_2020-04-16_10-48-28_101.csv\n",
            "convert rawdata_2020-04-16_10-48-28_39.csv to hourly_rawdata_2020-04-16_10-48-28_39.csv\n",
            "convert rawdata_2020-04-16_10-48-28_75.csv to hourly_rawdata_2020-04-16_10-48-28_75.csv\n",
            "convert rawdata_2020-04-16_10-48-28_86.csv to hourly_rawdata_2020-04-16_10-48-28_86.csv\n",
            "convert rawdata_2020-04-16_10-48-28_79.csv to hourly_rawdata_2020-04-16_10-48-28_79.csv\n",
            "convert rawdata_2020-04-16_10-48-28_46.csv to hourly_rawdata_2020-04-16_10-48-28_46.csv\n",
            "convert rawdata_2020-04-16_10-48-28_23.csv to hourly_rawdata_2020-04-16_10-48-28_23.csv\n",
            "convert rawdata_2020-04-16_10-48-28_2.csv to hourly_rawdata_2020-04-16_10-48-28_2.csv\n",
            "convert rawdata_2020-04-16_10-48-28_27.csv to hourly_rawdata_2020-04-16_10-48-28_27.csv\n",
            "convert rawdata_2020-04-16_10-48-28_24.csv to hourly_rawdata_2020-04-16_10-48-28_24.csv\n",
            "convert rawdata_2020-04-16_10-48-28_88.csv to hourly_rawdata_2020-04-16_10-48-28_88.csv\n",
            "convert rawdata_2020-04-16_10-48-28_92.csv to hourly_rawdata_2020-04-16_10-48-28_92.csv\n",
            "convert rawdata_2020-04-16_10-48-28_51.csv to hourly_rawdata_2020-04-16_10-48-28_51.csv\n",
            "convert rawdata_2020-04-16_10-48-28_62.csv to hourly_rawdata_2020-04-16_10-48-28_62.csv\n",
            "convert rawdata_2020-04-16_10-48-28_80.csv to hourly_rawdata_2020-04-16_10-48-28_80.csv\n",
            "convert rawdata_2020-04-16_10-48-28_90.csv to hourly_rawdata_2020-04-16_10-48-28_90.csv\n",
            "convert rawdata_2020-04-16_10-48-28_70.csv to hourly_rawdata_2020-04-16_10-48-28_70.csv\n",
            "convert rawdata_2020-04-16_10-48-28_20.csv to hourly_rawdata_2020-04-16_10-48-28_20.csv\n",
            "convert rawdata_2020-04-16_10-48-28_22.csv to hourly_rawdata_2020-04-16_10-48-28_22.csv\n",
            "convert rawdata_2020-04-16_10-48-28_54.csv to hourly_rawdata_2020-04-16_10-48-28_54.csv\n",
            "convert rawdata_2020-04-16_10-48-28_18.csv to hourly_rawdata_2020-04-16_10-48-28_18.csv\n",
            "convert rawdata_2020-04-16_10-48-28_93.csv to hourly_rawdata_2020-04-16_10-48-28_93.csv\n",
            "convert rawdata_2020-04-16_10-48-28_33.csv to hourly_rawdata_2020-04-16_10-48-28_33.csv\n",
            "convert rawdata_2020-04-16_10-48-28_57.csv to hourly_rawdata_2020-04-16_10-48-28_57.csv\n",
            "convert rawdata_2020-04-16_10-48-28_52.csv to hourly_rawdata_2020-04-16_10-48-28_52.csv\n",
            "convert rawdata_2020-04-16_10-48-28_50.csv to hourly_rawdata_2020-04-16_10-48-28_50.csv\n"
          ],
          "name": "stdout"
        }
      ]
    },
    {
      "cell_type": "code",
      "metadata": {
        "id": "7CIwCxrLXVTm",
        "colab_type": "code",
        "colab": {}
      },
      "source": [
        "#對所有輸出的小時值csv進行壓縮zip\n",
        "from os import system\n",
        "from os.path import isfile\n",
        "if not isfile('hourly_108-109年高雄.zip'):\n",
        "    system(f'zip hourly_108-109年高雄.zip hourly_*.csv') "
      ],
      "execution_count": 0,
      "outputs": []
    },
    {
      "cell_type": "code",
      "metadata": {
        "id": "XHJ2J3YlqMoj",
        "colab_type": "code",
        "outputId": "7d885225-b6c4-4df2-ced9-1486c77d7cb4",
        "colab": {
          "base_uri": "https://localhost:8080/",
          "height": 153
        }
      },
      "source": [
        "#把檔案複製到可以公開下載的網址 google cloud storage\n",
        "from google.colab import auth\n",
        "auth.authenticate_user()\n",
        "project_id = 'cameoflow'\n",
        "!gcloud config set project {project_id}\n",
        "!gsutil ls\n",
        "!gsutil cp ./hourly_*.zip gs://pm25_hourly/"
      ],
      "execution_count": 0,
      "outputs": [
        {
          "output_type": "stream",
          "text": [
            "Updated property [core/project].\n",
            "gs://hd-flow/\n",
            "gs://iot_turbo/\n",
            "gs://iot_turbo_storage/\n",
            "gs://pm25_hourly/\n",
            "Copying file://./hourly_108-109年高雄.zip [Content-Type=application/zip]...\n",
            "-\n",
            "Operation completed over 1 objects/18.0 MiB.                                     \n"
          ],
          "name": "stdout"
        }
      ]
    },
    {
      "cell_type": "markdown",
      "metadata": {
        "id": "g-9XEDmqt7R4",
        "colab_type": "text"
      },
      "source": [
        "高雄的小時值輸出壓縮檔案在此\n",
        "https://storage.googleapis.com/pm25_hourly/hourly_108-109%E5%B9%B4%E9%AB%98%E9%9B%84.zip\n",
        "\n",
        "裝置經緯度對照表在此\n",
        "https://storage.googleapis.com/iot_turbo_storage/deivce_lat_concat.csv"
      ]
    }
  ]
}